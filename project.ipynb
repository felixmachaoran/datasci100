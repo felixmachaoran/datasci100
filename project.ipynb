{
 "cells": [
  {
   "cell_type": "code",
   "execution_count": null,
   "metadata": {},
   "outputs": [],
   "source": []
  },
  {
   "cell_type": "markdown",
   "metadata": {},
   "source": [
    "# Predicting User Knowledge Based on Overall Exam Scores and Study Time\n",
    "\n"
   ]
  },
  {
   "cell_type": "markdown",
   "metadata": {},
   "source": [
    "## Introduction\n",
    "\n",
    "In this project, we will predict individuals’ knowledge levels using average exam performance and study time, whose relationships have implications in education. The interplay between study time, exam performance, and overall knowledge of a given subject area is a topic of much debate in the scientific and academic communities, and while most would agree that all factors are related, not everyone agrees on how, despite the consensus that study time positively correlates with exam performance, which indicates superior comprehension. In the process of predicting the knowledge level of an individual, we hope to shed light on the correlations, or lack thereof, between exam performance, study time and overall knowledge.\n",
    "\n"
   ]
  },
  {
   "cell_type": "markdown",
   "metadata": {},
   "source": [
    "## Question\n",
    "\n",
    "**Can we predict the user knowledge level of an individual based on overall exam performance (the averages of exam scores by row) and study time (the averages of study times by row)?**"
   ]
  },
  {
   "cell_type": "markdown",
   "metadata": {},
   "source": [
    "We will use the “User Knowledge” dataset from the list of recommended datasets.\n",
    "\n",
    "Our dataset contains six columns:\n",
    "- `STG` (The degree of study time for goal object materails),\n",
    "- `SCG` (The degree of repetition number of user for goal object materails)\n",
    "- `STR` (The degree of study time of user for related objects with goal object)\n",
    "- `LPR` (The exam performance of user for related objects with goal object)\n",
    "- `PEG` (The exam performance of user for goal objects)\n",
    "- `UNS` (The knowledge level of user) \n",
    "\n",
    "Each column describes a value (measured by the authors of the dataset) related to the knowledge level of the individual or their performance on a task related to that knowledge (i.e., study time or exam performance). We will use `STG`, `STR`, `LPR`, and `PEG` to predict `UNS`. \n"
   ]
  },
  {
   "cell_type": "markdown",
   "metadata": {},
   "source": [
    "## Preliminary exploratory data analysis"
   ]
  },
  {
   "cell_type": "code",
   "execution_count": 78,
   "metadata": {},
   "outputs": [],
   "source": [
    "library(tidyverse)\n",
    "library(tidymodels)\n",
    "library(repr)\n",
    "library(readxl)\n",
    "library(stringr)\n",
    "library(dplyr)\n",
    "set.seed(2021)"
   ]
  },
  {
   "cell_type": "code",
   "execution_count": 120,
   "metadata": {},
   "outputs": [],
   "source": [
    "data_tr <- read_excel(path=\"data/revised_data.xlsx\", sheet=\"data.tr\") #loading training data\n",
    "data_te <- read_excel(path=\"data/revised_data.xlsx\", sheet=\"data.te\") #loading test data"
   ]
  },
  {
   "cell_type": "code",
   "execution_count": 121,
   "metadata": {},
   "outputs": [],
   "source": [
    "data_tr <- mutate(data_tr, UNS = as_factor(UNS))\n",
    "levels(data_tr$UNS) <- list(VeryLow = \"very_low\", Low = \"Low\", Middle = \"Middle\", High = \"High\")\n",
    "data_te <- mutate(data_te, UNS = as_factor(UNS))\n",
    "levels(data_te$UNS) <- list(VeryLow = \"Very Low\", Low = \"Low\", Middle = \"Middle\", High = \"High\")"
   ]
  },
  {
   "cell_type": "code",
   "execution_count": 122,
   "metadata": {},
   "outputs": [
    {
     "data": {
      "text/html": [
       "<table>\n",
       "<caption>A tibble: 6 × 6</caption>\n",
       "<thead>\n",
       "\t<tr><th scope=col>STG</th><th scope=col>SCG</th><th scope=col>STR</th><th scope=col>LPR</th><th scope=col>PEG</th><th scope=col>UNS</th></tr>\n",
       "\t<tr><th scope=col>&lt;dbl&gt;</th><th scope=col>&lt;dbl&gt;</th><th scope=col>&lt;dbl&gt;</th><th scope=col>&lt;dbl&gt;</th><th scope=col>&lt;dbl&gt;</th><th scope=col>&lt;fct&gt;</th></tr>\n",
       "</thead>\n",
       "<tbody>\n",
       "\t<tr><td>0.00</td><td>0.00</td><td>0.00</td><td>0.00</td><td>0.00</td><td>VeryLow</td></tr>\n",
       "\t<tr><td>0.08</td><td>0.08</td><td>0.10</td><td>0.24</td><td>0.90</td><td>High   </td></tr>\n",
       "\t<tr><td>0.06</td><td>0.06</td><td>0.05</td><td>0.25</td><td>0.33</td><td>Low    </td></tr>\n",
       "\t<tr><td>0.10</td><td>0.10</td><td>0.15</td><td>0.65</td><td>0.30</td><td>Middle </td></tr>\n",
       "\t<tr><td>0.08</td><td>0.08</td><td>0.08</td><td>0.98</td><td>0.24</td><td>Low    </td></tr>\n",
       "\t<tr><td>0.09</td><td>0.15</td><td>0.40</td><td>0.10</td><td>0.66</td><td>Middle </td></tr>\n",
       "</tbody>\n",
       "</table>\n"
      ],
      "text/latex": [
       "A tibble: 6 × 6\n",
       "\\begin{tabular}{llllll}\n",
       " STG & SCG & STR & LPR & PEG & UNS\\\\\n",
       " <dbl> & <dbl> & <dbl> & <dbl> & <dbl> & <fct>\\\\\n",
       "\\hline\n",
       "\t 0.00 & 0.00 & 0.00 & 0.00 & 0.00 & VeryLow\\\\\n",
       "\t 0.08 & 0.08 & 0.10 & 0.24 & 0.90 & High   \\\\\n",
       "\t 0.06 & 0.06 & 0.05 & 0.25 & 0.33 & Low    \\\\\n",
       "\t 0.10 & 0.10 & 0.15 & 0.65 & 0.30 & Middle \\\\\n",
       "\t 0.08 & 0.08 & 0.08 & 0.98 & 0.24 & Low    \\\\\n",
       "\t 0.09 & 0.15 & 0.40 & 0.10 & 0.66 & Middle \\\\\n",
       "\\end{tabular}\n"
      ],
      "text/markdown": [
       "\n",
       "A tibble: 6 × 6\n",
       "\n",
       "| STG &lt;dbl&gt; | SCG &lt;dbl&gt; | STR &lt;dbl&gt; | LPR &lt;dbl&gt; | PEG &lt;dbl&gt; | UNS &lt;fct&gt; |\n",
       "|---|---|---|---|---|---|\n",
       "| 0.00 | 0.00 | 0.00 | 0.00 | 0.00 | VeryLow |\n",
       "| 0.08 | 0.08 | 0.10 | 0.24 | 0.90 | High    |\n",
       "| 0.06 | 0.06 | 0.05 | 0.25 | 0.33 | Low     |\n",
       "| 0.10 | 0.10 | 0.15 | 0.65 | 0.30 | Middle  |\n",
       "| 0.08 | 0.08 | 0.08 | 0.98 | 0.24 | Low     |\n",
       "| 0.09 | 0.15 | 0.40 | 0.10 | 0.66 | Middle  |\n",
       "\n"
      ],
      "text/plain": [
       "  STG  SCG  STR  LPR  PEG  UNS    \n",
       "1 0.00 0.00 0.00 0.00 0.00 VeryLow\n",
       "2 0.08 0.08 0.10 0.24 0.90 High   \n",
       "3 0.06 0.06 0.05 0.25 0.33 Low    \n",
       "4 0.10 0.10 0.15 0.65 0.30 Middle \n",
       "5 0.08 0.08 0.08 0.98 0.24 Low    \n",
       "6 0.09 0.15 0.40 0.10 0.66 Middle "
      ]
     },
     "metadata": {},
     "output_type": "display_data"
    },
    {
     "data": {
      "text/html": [
       "<table>\n",
       "<caption>A tibble: 6 × 6</caption>\n",
       "<thead>\n",
       "\t<tr><th scope=col>STG</th><th scope=col>SCG</th><th scope=col>STR</th><th scope=col>LPR</th><th scope=col>PEG</th><th scope=col>UNS</th></tr>\n",
       "\t<tr><th scope=col>&lt;dbl&gt;</th><th scope=col>&lt;dbl&gt;</th><th scope=col>&lt;dbl&gt;</th><th scope=col>&lt;dbl&gt;</th><th scope=col>&lt;dbl&gt;</th><th scope=col>&lt;fct&gt;</th></tr>\n",
       "</thead>\n",
       "<tbody>\n",
       "\t<tr><td>0.00</td><td>0.10</td><td>0.50</td><td>0.26</td><td>0.05</td><td>VeryLow</td></tr>\n",
       "\t<tr><td>0.05</td><td>0.05</td><td>0.55</td><td>0.60</td><td>0.14</td><td>Low    </td></tr>\n",
       "\t<tr><td>0.08</td><td>0.18</td><td>0.63</td><td>0.60</td><td>0.85</td><td>High   </td></tr>\n",
       "\t<tr><td>0.20</td><td>0.20</td><td>0.68</td><td>0.67</td><td>0.85</td><td>High   </td></tr>\n",
       "\t<tr><td>0.22</td><td>0.22</td><td>0.90</td><td>0.30</td><td>0.90</td><td>High   </td></tr>\n",
       "\t<tr><td>0.14</td><td>0.14</td><td>0.70</td><td>0.50</td><td>0.30</td><td>Low    </td></tr>\n",
       "</tbody>\n",
       "</table>\n"
      ],
      "text/latex": [
       "A tibble: 6 × 6\n",
       "\\begin{tabular}{llllll}\n",
       " STG & SCG & STR & LPR & PEG & UNS\\\\\n",
       " <dbl> & <dbl> & <dbl> & <dbl> & <dbl> & <fct>\\\\\n",
       "\\hline\n",
       "\t 0.00 & 0.10 & 0.50 & 0.26 & 0.05 & VeryLow\\\\\n",
       "\t 0.05 & 0.05 & 0.55 & 0.60 & 0.14 & Low    \\\\\n",
       "\t 0.08 & 0.18 & 0.63 & 0.60 & 0.85 & High   \\\\\n",
       "\t 0.20 & 0.20 & 0.68 & 0.67 & 0.85 & High   \\\\\n",
       "\t 0.22 & 0.22 & 0.90 & 0.30 & 0.90 & High   \\\\\n",
       "\t 0.14 & 0.14 & 0.70 & 0.50 & 0.30 & Low    \\\\\n",
       "\\end{tabular}\n"
      ],
      "text/markdown": [
       "\n",
       "A tibble: 6 × 6\n",
       "\n",
       "| STG &lt;dbl&gt; | SCG &lt;dbl&gt; | STR &lt;dbl&gt; | LPR &lt;dbl&gt; | PEG &lt;dbl&gt; | UNS &lt;fct&gt; |\n",
       "|---|---|---|---|---|---|\n",
       "| 0.00 | 0.10 | 0.50 | 0.26 | 0.05 | VeryLow |\n",
       "| 0.05 | 0.05 | 0.55 | 0.60 | 0.14 | Low     |\n",
       "| 0.08 | 0.18 | 0.63 | 0.60 | 0.85 | High    |\n",
       "| 0.20 | 0.20 | 0.68 | 0.67 | 0.85 | High    |\n",
       "| 0.22 | 0.22 | 0.90 | 0.30 | 0.90 | High    |\n",
       "| 0.14 | 0.14 | 0.70 | 0.50 | 0.30 | Low     |\n",
       "\n"
      ],
      "text/plain": [
       "  STG  SCG  STR  LPR  PEG  UNS    \n",
       "1 0.00 0.10 0.50 0.26 0.05 VeryLow\n",
       "2 0.05 0.05 0.55 0.60 0.14 Low    \n",
       "3 0.08 0.18 0.63 0.60 0.85 High   \n",
       "4 0.20 0.20 0.68 0.67 0.85 High   \n",
       "5 0.22 0.22 0.90 0.30 0.90 High   \n",
       "6 0.14 0.14 0.70 0.50 0.30 Low    "
      ]
     },
     "metadata": {},
     "output_type": "display_data"
    }
   ],
   "source": [
    "head(data_tr)\n",
    "head(data_te)"
   ]
  },
  {
   "cell_type": "code",
   "execution_count": 123,
   "metadata": {},
   "outputs": [
    {
     "data": {
      "text/html": [
       "258"
      ],
      "text/latex": [
       "258"
      ],
      "text/markdown": [
       "258"
      ],
      "text/plain": [
       "[1] 258"
      ]
     },
     "metadata": {},
     "output_type": "display_data"
    }
   ],
   "source": [
    "nrow(data_tr)"
   ]
  },
  {
   "cell_type": "code",
   "execution_count": 124,
   "metadata": {},
   "outputs": [
    {
     "name": "stderr",
     "output_type": "stream",
     "text": [
      "`summarise()` ungrouping output (override with `.groups` argument)\n",
      "\n"
     ]
    },
    {
     "data": {
      "text/html": [
       "<table>\n",
       "<caption>A tibble: 4 × 6</caption>\n",
       "<thead>\n",
       "\t<tr><th scope=col>UNS</th><th scope=col>n_rows</th><th scope=col>avg_STG</th><th scope=col>avg_STR</th><th scope=col>avg_LPR</th><th scope=col>avg_PEG</th></tr>\n",
       "\t<tr><th scope=col>&lt;fct&gt;</th><th scope=col>&lt;int&gt;</th><th scope=col>&lt;dbl&gt;</th><th scope=col>&lt;dbl&gt;</th><th scope=col>&lt;dbl&gt;</th><th scope=col>&lt;dbl&gt;</th></tr>\n",
       "</thead>\n",
       "<tbody>\n",
       "\t<tr><td>VeryLow</td><td>24</td><td>0.3057917</td><td>0.3662500</td><td>0.3587500</td><td>0.09083333</td></tr>\n",
       "\t<tr><td>Low    </td><td>83</td><td>0.3211446</td><td>0.4307229</td><td>0.4973494</td><td>0.23762651</td></tr>\n",
       "\t<tr><td>Middle </td><td>88</td><td>0.3999773</td><td>0.5068182</td><td>0.3428409</td><td>0.54238636</td></tr>\n",
       "\t<tr><td>High   </td><td>63</td><td>0.4216508</td><td>0.5016667</td><td>0.5012698</td><td>0.77253968</td></tr>\n",
       "</tbody>\n",
       "</table>\n"
      ],
      "text/latex": [
       "A tibble: 4 × 6\n",
       "\\begin{tabular}{llllll}\n",
       " UNS & n\\_rows & avg\\_STG & avg\\_STR & avg\\_LPR & avg\\_PEG\\\\\n",
       " <fct> & <int> & <dbl> & <dbl> & <dbl> & <dbl>\\\\\n",
       "\\hline\n",
       "\t VeryLow & 24 & 0.3057917 & 0.3662500 & 0.3587500 & 0.09083333\\\\\n",
       "\t Low     & 83 & 0.3211446 & 0.4307229 & 0.4973494 & 0.23762651\\\\\n",
       "\t Middle  & 88 & 0.3999773 & 0.5068182 & 0.3428409 & 0.54238636\\\\\n",
       "\t High    & 63 & 0.4216508 & 0.5016667 & 0.5012698 & 0.77253968\\\\\n",
       "\\end{tabular}\n"
      ],
      "text/markdown": [
       "\n",
       "A tibble: 4 × 6\n",
       "\n",
       "| UNS &lt;fct&gt; | n_rows &lt;int&gt; | avg_STG &lt;dbl&gt; | avg_STR &lt;dbl&gt; | avg_LPR &lt;dbl&gt; | avg_PEG &lt;dbl&gt; |\n",
       "|---|---|---|---|---|---|\n",
       "| VeryLow | 24 | 0.3057917 | 0.3662500 | 0.3587500 | 0.09083333 |\n",
       "| Low     | 83 | 0.3211446 | 0.4307229 | 0.4973494 | 0.23762651 |\n",
       "| Middle  | 88 | 0.3999773 | 0.5068182 | 0.3428409 | 0.54238636 |\n",
       "| High    | 63 | 0.4216508 | 0.5016667 | 0.5012698 | 0.77253968 |\n",
       "\n"
      ],
      "text/plain": [
       "  UNS     n_rows avg_STG   avg_STR   avg_LPR   avg_PEG   \n",
       "1 VeryLow 24     0.3057917 0.3662500 0.3587500 0.09083333\n",
       "2 Low     83     0.3211446 0.4307229 0.4973494 0.23762651\n",
       "3 Middle  88     0.3999773 0.5068182 0.3428409 0.54238636\n",
       "4 High    63     0.4216508 0.5016667 0.5012698 0.77253968"
      ]
     },
     "metadata": {},
     "output_type": "display_data"
    }
   ],
   "source": [
    "# the number of observations in each class and the mean value for each column in each class\n",
    "obs_count <- data_tr %>% \n",
    "             group_by(UNS) %>%\n",
    "             summarise(n_rows = length(UNS), \n",
    "                       avg_STG = mean(STG), \n",
    "                       avg_STR = mean(STR), \n",
    "                       avg_LPR = mean(LPR), \n",
    "                       avg_PEG = mean(PEG))\n",
    "obs_count"
   ]
  },
  {
   "cell_type": "code",
   "execution_count": 125,
   "metadata": {},
   "outputs": [
    {
     "data": {
      "text/html": [
       "<table>\n",
       "<caption>A tibble: 6 × 8</caption>\n",
       "<thead>\n",
       "\t<tr><th scope=col>STG</th><th scope=col>SCG</th><th scope=col>STR</th><th scope=col>LPR</th><th scope=col>PEG</th><th scope=col>UNS</th><th scope=col>TEP</th><th scope=col>TST</th></tr>\n",
       "\t<tr><th scope=col>&lt;dbl&gt;</th><th scope=col>&lt;dbl&gt;</th><th scope=col>&lt;dbl&gt;</th><th scope=col>&lt;dbl&gt;</th><th scope=col>&lt;dbl&gt;</th><th scope=col>&lt;fct&gt;</th><th scope=col>&lt;dbl&gt;</th><th scope=col>&lt;dbl&gt;</th></tr>\n",
       "</thead>\n",
       "<tbody>\n",
       "\t<tr><td>0.00</td><td>0.00</td><td>0.00</td><td>0.00</td><td>0.00</td><td>VeryLow</td><td>0.000</td><td>0.000</td></tr>\n",
       "\t<tr><td>0.08</td><td>0.08</td><td>0.10</td><td>0.24</td><td>0.90</td><td>High   </td><td>0.570</td><td>0.090</td></tr>\n",
       "\t<tr><td>0.06</td><td>0.06</td><td>0.05</td><td>0.25</td><td>0.33</td><td>Low    </td><td>0.290</td><td>0.055</td></tr>\n",
       "\t<tr><td>0.10</td><td>0.10</td><td>0.15</td><td>0.65</td><td>0.30</td><td>Middle </td><td>0.475</td><td>0.125</td></tr>\n",
       "\t<tr><td>0.08</td><td>0.08</td><td>0.08</td><td>0.98</td><td>0.24</td><td>Low    </td><td>0.610</td><td>0.080</td></tr>\n",
       "\t<tr><td>0.09</td><td>0.15</td><td>0.40</td><td>0.10</td><td>0.66</td><td>Middle </td><td>0.380</td><td>0.245</td></tr>\n",
       "</tbody>\n",
       "</table>\n"
      ],
      "text/latex": [
       "A tibble: 6 × 8\n",
       "\\begin{tabular}{llllllll}\n",
       " STG & SCG & STR & LPR & PEG & UNS & TEP & TST\\\\\n",
       " <dbl> & <dbl> & <dbl> & <dbl> & <dbl> & <fct> & <dbl> & <dbl>\\\\\n",
       "\\hline\n",
       "\t 0.00 & 0.00 & 0.00 & 0.00 & 0.00 & VeryLow & 0.000 & 0.000\\\\\n",
       "\t 0.08 & 0.08 & 0.10 & 0.24 & 0.90 & High    & 0.570 & 0.090\\\\\n",
       "\t 0.06 & 0.06 & 0.05 & 0.25 & 0.33 & Low     & 0.290 & 0.055\\\\\n",
       "\t 0.10 & 0.10 & 0.15 & 0.65 & 0.30 & Middle  & 0.475 & 0.125\\\\\n",
       "\t 0.08 & 0.08 & 0.08 & 0.98 & 0.24 & Low     & 0.610 & 0.080\\\\\n",
       "\t 0.09 & 0.15 & 0.40 & 0.10 & 0.66 & Middle  & 0.380 & 0.245\\\\\n",
       "\\end{tabular}\n"
      ],
      "text/markdown": [
       "\n",
       "A tibble: 6 × 8\n",
       "\n",
       "| STG &lt;dbl&gt; | SCG &lt;dbl&gt; | STR &lt;dbl&gt; | LPR &lt;dbl&gt; | PEG &lt;dbl&gt; | UNS &lt;fct&gt; | TEP &lt;dbl&gt; | TST &lt;dbl&gt; |\n",
       "|---|---|---|---|---|---|---|---|\n",
       "| 0.00 | 0.00 | 0.00 | 0.00 | 0.00 | VeryLow | 0.000 | 0.000 |\n",
       "| 0.08 | 0.08 | 0.10 | 0.24 | 0.90 | High    | 0.570 | 0.090 |\n",
       "| 0.06 | 0.06 | 0.05 | 0.25 | 0.33 | Low     | 0.290 | 0.055 |\n",
       "| 0.10 | 0.10 | 0.15 | 0.65 | 0.30 | Middle  | 0.475 | 0.125 |\n",
       "| 0.08 | 0.08 | 0.08 | 0.98 | 0.24 | Low     | 0.610 | 0.080 |\n",
       "| 0.09 | 0.15 | 0.40 | 0.10 | 0.66 | Middle  | 0.380 | 0.245 |\n",
       "\n"
      ],
      "text/plain": [
       "  STG  SCG  STR  LPR  PEG  UNS     TEP   TST  \n",
       "1 0.00 0.00 0.00 0.00 0.00 VeryLow 0.000 0.000\n",
       "2 0.08 0.08 0.10 0.24 0.90 High    0.570 0.090\n",
       "3 0.06 0.06 0.05 0.25 0.33 Low     0.290 0.055\n",
       "4 0.10 0.10 0.15 0.65 0.30 Middle  0.475 0.125\n",
       "5 0.08 0.08 0.08 0.98 0.24 Low     0.610 0.080\n",
       "6 0.09 0.15 0.40 0.10 0.66 Middle  0.380 0.245"
      ]
     },
     "metadata": {},
     "output_type": "display_data"
    },
    {
     "data": {
      "text/html": [
       "<table>\n",
       "<caption>A tibble: 1 × 6</caption>\n",
       "<thead>\n",
       "\t<tr><th scope=col>STG</th><th scope=col>STR</th><th scope=col>LPR</th><th scope=col>PEG</th><th scope=col>TEP</th><th scope=col>TST</th></tr>\n",
       "\t<tr><th scope=col>&lt;dbl&gt;</th><th scope=col>&lt;dbl&gt;</th><th scope=col>&lt;dbl&gt;</th><th scope=col>&lt;dbl&gt;</th><th scope=col>&lt;dbl&gt;</th><th scope=col>&lt;dbl&gt;</th></tr>\n",
       "</thead>\n",
       "<tbody>\n",
       "\t<tr><td>0.3711473</td><td>0.4680039</td><td>0.4327132</td><td>0.4585388</td><td>0.445626</td><td>0.4195756</td></tr>\n",
       "</tbody>\n",
       "</table>\n"
      ],
      "text/latex": [
       "A tibble: 1 × 6\n",
       "\\begin{tabular}{llllll}\n",
       " STG & STR & LPR & PEG & TEP & TST\\\\\n",
       " <dbl> & <dbl> & <dbl> & <dbl> & <dbl> & <dbl>\\\\\n",
       "\\hline\n",
       "\t 0.3711473 & 0.4680039 & 0.4327132 & 0.4585388 & 0.445626 & 0.4195756\\\\\n",
       "\\end{tabular}\n"
      ],
      "text/markdown": [
       "\n",
       "A tibble: 1 × 6\n",
       "\n",
       "| STG &lt;dbl&gt; | STR &lt;dbl&gt; | LPR &lt;dbl&gt; | PEG &lt;dbl&gt; | TEP &lt;dbl&gt; | TST &lt;dbl&gt; |\n",
       "|---|---|---|---|---|---|\n",
       "| 0.3711473 | 0.4680039 | 0.4327132 | 0.4585388 | 0.445626 | 0.4195756 |\n",
       "\n"
      ],
      "text/plain": [
       "  STG       STR       LPR       PEG       TEP      TST      \n",
       "1 0.3711473 0.4680039 0.4327132 0.4585388 0.445626 0.4195756"
      ]
     },
     "metadata": {},
     "output_type": "display_data"
    }
   ],
   "source": [
    "# the means of the predictor variables you plan to use in your analysis\n",
    "# STG, STR, LPR and PEG to predict UNS\n",
    "# combine STG and STR (TST) and LPR and PEG (TEP) \n",
    "mutated_data <- data_tr %>%\n",
    "                mutate(TEP = (LPR + PEG)/2) %>%\n",
    "                mutate(TST = (STG + STR)/2)\n",
    "head(mutated_data)\n",
    "mean_tr <- mutated_data %>%\n",
    "           select(-SCG, -UNS) %>%\n",
    "           map_df(mean, na.rm  = TRUE)\n",
    "mean_tr"
   ]
  },
  {
   "cell_type": "code",
   "execution_count": 126,
   "metadata": {},
   "outputs": [
    {
     "data": {
      "text/html": [
       "0"
      ],
      "text/latex": [
       "0"
      ],
      "text/markdown": [
       "0"
      ],
      "text/plain": [
       "[1] 0"
      ]
     },
     "metadata": {},
     "output_type": "display_data"
    }
   ],
   "source": [
    "# count the missing value\n",
    "sum(is.na(data_tr))"
   ]
  },
  {
   "cell_type": "code",
   "execution_count": 127,
   "metadata": {},
   "outputs": [
    {
     "data": {
      "image/png": "[encoded data removed]",
      "text/plain": [
       "plot without title"
      ]
     },
     "metadata": {
      "image/png": {
       "height": 600,
       "width": 600
      }
     },
     "output_type": "display_data"
    }
   ],
   "source": [
    "# plot study time VS exam performance\n",
    "options(repr.plot.width = 10, repr.plot.height = 10)\n",
    "timeVSperform_plot <- mutated_data %>%\n",
    "                          ggplot(aes(x=TST, y=TEP))+\n",
    "                          geom_point(aes(colour= UNS ,shape=UNS))+\n",
    "                          labs(x=\"Study Time\", \n",
    "                               y=\"Exam Performance\", \n",
    "                               colour=\"Knowledge Level\", \n",
    "                               shape=\"Knowledge Level\")+\n",
    "                          theme(text = element_text(size=20))+\n",
    "                          ggtitle(\"Study Time VS Exam Performance\")\n",
    "timeVSperform_plot\n"
   ]
  },
  {
   "cell_type": "markdown",
   "metadata": {},
   "source": [
    "## Methods \n"
   ]
  },
  {
   "cell_type": "markdown",
   "metadata": {},
   "source": [
    "We will use categorical analysis to classify knowledge level based on values from the STG, STR, LPR and PEG columns. We will split the dataset into a training group and a testing group for investigation and implement five-fold validation into the training group to determine the most accurate value of k for k-nearest neighbor modelling. \n",
    "\n",
    "We will mutate the columns to combine `STG` and `STR` (`TST`) and `LPR` and `PEG` (`TEP`) to find the mean of each pair of data to provide \n",
    "- ① an average degree of studying time on goal or related subject materials and \n",
    "- ② an average degree of exam performance with goal or related subject material. \n",
    "\n"
   ]
  },
  {
   "cell_type": "markdown",
   "metadata": {},
   "source": [
    "The two variables TST and TEP from mutation and sorting would be used in a k-nearest neighbor model to predict the knowledge level for a certain individual.\n"
   ]
  },
  {
   "cell_type": "markdown",
   "metadata": {},
   "source": [
    "We will represent TST on the x-axis and TEP on the y-axis of a scatter plot, which will colour points by knowledge level, our categorical factor.\n"
   ]
  },
  {
   "cell_type": "markdown",
   "metadata": {},
   "source": [
    "## Expected outcomes and significance "
   ]
  },
  {
   "cell_type": "markdown",
   "metadata": {},
   "source": [
    "We expect a positive correlation between studying time and exam performance, as well as between both variables and knowledge level.\n"
   ]
  },
  {
   "cell_type": "markdown",
   "metadata": {},
   "source": [
    "Identifying relationships between studying time, exam performance, and knowledge level would provide insight for educators in terms of whether exams accurately represent students’ knowledge. Studying time would allow students to determine whether their studying methods are effective and allow them to adjust accordingly based on these relationships.\n"
   ]
  },
  {
   "cell_type": "markdown",
   "metadata": {},
   "source": [
    "By answering our question, we can expand this project’s applications. Identifying reasons for exam performance or studying time not correlating with knowledge level would encourage educators and students to explore new methods for both: How could students study more effectively, and how could exams be more representative of students’ knowledge? Radically thinking, do exams reflect knowledge level at all?\n",
    "\n"
   ]
  },
  {
   "cell_type": "markdown",
   "metadata": {},
   "source": []
  },
  {
   "cell_type": "code",
   "execution_count": 128,
   "metadata": {},
   "outputs": [
    {
     "data": {
      "text/html": [
       "0.640198511166253"
      ],
      "text/latex": [
       "0.640198511166253"
      ],
      "text/markdown": [
       "0.640198511166253"
      ],
      "text/plain": [
       "[1] 0.6401985"
      ]
     },
     "metadata": {},
     "output_type": "display_data"
    }
   ],
   "source": [
    "nrow(data_tr)/(nrow(data_te)+nrow(data_tr))"
   ]
  },
  {
   "cell_type": "code",
   "execution_count": 129,
   "metadata": {},
   "outputs": [
    {
     "name": "stdout",
     "output_type": "stream",
     "text": [
      "Rows: 258\n",
      "Columns: 8\n",
      "$ STG \u001b[3m\u001b[90m<dbl>\u001b[39m\u001b[23m 0.00, 0.08, 0.06, 0.10, 0.08, 0.09, 0.10, 0.15, 0.20, 0.00, 0.18,…\n",
      "$ SCG \u001b[3m\u001b[90m<dbl>\u001b[39m\u001b[23m 0.00, 0.08, 0.06, 0.10, 0.08, 0.15, 0.10, 0.02, 0.14, 0.00, 0.18,…\n",
      "$ STR \u001b[3m\u001b[90m<dbl>\u001b[39m\u001b[23m 0.00, 0.10, 0.05, 0.15, 0.08, 0.40, 0.43, 0.34, 0.35, 0.50, 0.55,…\n",
      "$ LPR \u001b[3m\u001b[90m<dbl>\u001b[39m\u001b[23m 0.00, 0.24, 0.25, 0.65, 0.98, 0.10, 0.29, 0.40, 0.72, 0.20, 0.30,…\n",
      "$ PEG \u001b[3m\u001b[90m<dbl>\u001b[39m\u001b[23m 0.00, 0.90, 0.33, 0.30, 0.24, 0.66, 0.56, 0.01, 0.25, 0.85, 0.81,…\n",
      "$ UNS \u001b[3m\u001b[90m<fct>\u001b[39m\u001b[23m VeryLow, High, Low, Middle, Low, Middle, Middle, VeryLow, Low, Hi…\n",
      "$ TEP \u001b[3m\u001b[90m<dbl>\u001b[39m\u001b[23m 0.000, 0.570, 0.290, 0.475, 0.610, 0.380, 0.425, 0.205, 0.485, 0.…\n",
      "$ TST \u001b[3m\u001b[90m<dbl>\u001b[39m\u001b[23m 0.000, 0.090, 0.055, 0.125, 0.080, 0.245, 0.265, 0.245, 0.275, 0.…\n"
     ]
    }
   ],
   "source": [
    "glimpse(mutated_data)"
   ]
  },
  {
   "cell_type": "code",
   "execution_count": 130,
   "metadata": {},
   "outputs": [
    {
     "data": {
      "text/plain": [
       "Data Recipe\n",
       "\n",
       "Inputs:\n",
       "\n",
       "      role #variables\n",
       "   outcome          1\n",
       " predictor          2"
      ]
     },
     "metadata": {},
     "output_type": "display_data"
    }
   ],
   "source": [
    "knowledge_recipe <- recipe(UNS~TEP+TST,data = mutated_data)\n",
    "knowledge_recipe"
   ]
  },
  {
   "cell_type": "code",
   "execution_count": 139,
   "metadata": {},
   "outputs": [
    {
     "data": {
      "text/html": [
       "<table>\n",
       "<caption>A tibble: 30 × 7</caption>\n",
       "<thead>\n",
       "\t<tr><th scope=col>neighbors</th><th scope=col>.metric</th><th scope=col>.estimator</th><th scope=col>mean</th><th scope=col>n</th><th scope=col>std_err</th><th scope=col>.config</th></tr>\n",
       "\t<tr><th scope=col>&lt;dbl&gt;</th><th scope=col>&lt;chr&gt;</th><th scope=col>&lt;chr&gt;</th><th scope=col>&lt;dbl&gt;</th><th scope=col>&lt;int&gt;</th><th scope=col>&lt;dbl&gt;</th><th scope=col>&lt;chr&gt;</th></tr>\n",
       "</thead>\n",
       "<tbody>\n",
       "\t<tr><td> 1</td><td>accuracy</td><td>multiclass</td><td>0.5775543</td><td>5</td><td>0.010277457</td><td>Model01</td></tr>\n",
       "\t<tr><td> 1</td><td>roc_auc </td><td>hand_till </td><td>0.6945924</td><td>5</td><td>0.011739951</td><td>Model01</td></tr>\n",
       "\t<tr><td> 2</td><td>accuracy</td><td>multiclass</td><td>0.5775543</td><td>5</td><td>0.010277457</td><td>Model02</td></tr>\n",
       "\t<tr><td> 2</td><td>roc_auc </td><td>hand_till </td><td>0.7616689</td><td>5</td><td>0.013577900</td><td>Model02</td></tr>\n",
       "\t<tr><td> 3</td><td>accuracy</td><td>multiclass</td><td>0.6000361</td><td>5</td><td>0.021946840</td><td>Model03</td></tr>\n",
       "\t<tr><td> 3</td><td>roc_auc </td><td>hand_till </td><td>0.7920770</td><td>5</td><td>0.009632981</td><td>Model03</td></tr>\n",
       "\t<tr><td> 4</td><td>accuracy</td><td>multiclass</td><td>0.6038822</td><td>5</td><td>0.022934103</td><td>Model04</td></tr>\n",
       "\t<tr><td> 4</td><td>roc_auc </td><td>hand_till </td><td>0.8445817</td><td>5</td><td>0.014180114</td><td>Model04</td></tr>\n",
       "\t<tr><td> 5</td><td>accuracy</td><td>multiclass</td><td>0.6473332</td><td>5</td><td>0.021931129</td><td>Model05</td></tr>\n",
       "\t<tr><td> 5</td><td>roc_auc </td><td>hand_till </td><td>0.8559433</td><td>5</td><td>0.016510068</td><td>Model05</td></tr>\n",
       "\t<tr><td> 6</td><td>accuracy</td><td>multiclass</td><td>0.6394959</td><td>5</td><td>0.019584014</td><td>Model06</td></tr>\n",
       "\t<tr><td> 6</td><td>roc_auc </td><td>hand_till </td><td>0.8682003</td><td>5</td><td>0.011469765</td><td>Model06</td></tr>\n",
       "\t<tr><td> 7</td><td>accuracy</td><td>multiclass</td><td>0.6349737</td><td>5</td><td>0.031186822</td><td>Model07</td></tr>\n",
       "\t<tr><td> 7</td><td>roc_auc </td><td>hand_till </td><td>0.8743054</td><td>5</td><td>0.013271261</td><td>Model07</td></tr>\n",
       "\t<tr><td> 8</td><td>accuracy</td><td>multiclass</td><td>0.6389737</td><td>5</td><td>0.031601747</td><td>Model08</td></tr>\n",
       "\t<tr><td> 8</td><td>roc_auc </td><td>hand_till </td><td>0.8729379</td><td>5</td><td>0.012386908</td><td>Model08</td></tr>\n",
       "\t<tr><td> 9</td><td>accuracy</td><td>multiclass</td><td>0.6352030</td><td>5</td><td>0.029235619</td><td>Model09</td></tr>\n",
       "\t<tr><td> 9</td><td>roc_auc </td><td>hand_till </td><td>0.8763088</td><td>5</td><td>0.011882148</td><td>Model09</td></tr>\n",
       "\t<tr><td>10</td><td>accuracy</td><td>multiclass</td><td>0.6350491</td><td>5</td><td>0.028381338</td><td>Model10</td></tr>\n",
       "\t<tr><td>10</td><td>roc_auc </td><td>hand_till </td><td>0.8746369</td><td>5</td><td>0.010467304</td><td>Model10</td></tr>\n",
       "\t<tr><td>11</td><td>accuracy</td><td>multiclass</td><td>0.6548082</td><td>5</td><td>0.018632973</td><td>Model11</td></tr>\n",
       "\t<tr><td>11</td><td>roc_auc </td><td>hand_till </td><td>0.8738061</td><td>5</td><td>0.012654966</td><td>Model11</td></tr>\n",
       "\t<tr><td>12</td><td>accuracy</td><td>multiclass</td><td>0.6429620</td><td>5</td><td>0.017654422</td><td>Model12</td></tr>\n",
       "\t<tr><td>12</td><td>roc_auc </td><td>hand_till </td><td>0.8684448</td><td>5</td><td>0.012105991</td><td>Model12</td></tr>\n",
       "\t<tr><td>13</td><td>accuracy</td><td>multiclass</td><td>0.6507326</td><td>5</td><td>0.017755654</td><td>Model13</td></tr>\n",
       "\t<tr><td>13</td><td>roc_auc </td><td>hand_till </td><td>0.8658806</td><td>5</td><td>0.011908924</td><td>Model13</td></tr>\n",
       "\t<tr><td>14</td><td>accuracy</td><td>multiclass</td><td>0.6429677</td><td>5</td><td>0.024319628</td><td>Model14</td></tr>\n",
       "\t<tr><td>14</td><td>roc_auc </td><td>hand_till </td><td>0.8625831</td><td>5</td><td>0.011038793</td><td>Model14</td></tr>\n",
       "\t<tr><td>15</td><td>accuracy</td><td>multiclass</td><td>0.6471187</td><td>5</td><td>0.021815835</td><td>Model15</td></tr>\n",
       "\t<tr><td>15</td><td>roc_auc </td><td>hand_till </td><td>0.8610316</td><td>5</td><td>0.012127786</td><td>Model15</td></tr>\n",
       "</tbody>\n",
       "</table>\n"
      ],
      "text/latex": [
       "A tibble: 30 × 7\n",
       "\\begin{tabular}{lllllll}\n",
       " neighbors & .metric & .estimator & mean & n & std\\_err & .config\\\\\n",
       " <dbl> & <chr> & <chr> & <dbl> & <int> & <dbl> & <chr>\\\\\n",
       "\\hline\n",
       "\t  1 & accuracy & multiclass & 0.5775543 & 5 & 0.010277457 & Model01\\\\\n",
       "\t  1 & roc\\_auc  & hand\\_till  & 0.6945924 & 5 & 0.011739951 & Model01\\\\\n",
       "\t  2 & accuracy & multiclass & 0.5775543 & 5 & 0.010277457 & Model02\\\\\n",
       "\t  2 & roc\\_auc  & hand\\_till  & 0.7616689 & 5 & 0.013577900 & Model02\\\\\n",
       "\t  3 & accuracy & multiclass & 0.6000361 & 5 & 0.021946840 & Model03\\\\\n",
       "\t  3 & roc\\_auc  & hand\\_till  & 0.7920770 & 5 & 0.009632981 & Model03\\\\\n",
       "\t  4 & accuracy & multiclass & 0.6038822 & 5 & 0.022934103 & Model04\\\\\n",
       "\t  4 & roc\\_auc  & hand\\_till  & 0.8445817 & 5 & 0.014180114 & Model04\\\\\n",
       "\t  5 & accuracy & multiclass & 0.6473332 & 5 & 0.021931129 & Model05\\\\\n",
       "\t  5 & roc\\_auc  & hand\\_till  & 0.8559433 & 5 & 0.016510068 & Model05\\\\\n",
       "\t  6 & accuracy & multiclass & 0.6394959 & 5 & 0.019584014 & Model06\\\\\n",
       "\t  6 & roc\\_auc  & hand\\_till  & 0.8682003 & 5 & 0.011469765 & Model06\\\\\n",
       "\t  7 & accuracy & multiclass & 0.6349737 & 5 & 0.031186822 & Model07\\\\\n",
       "\t  7 & roc\\_auc  & hand\\_till  & 0.8743054 & 5 & 0.013271261 & Model07\\\\\n",
       "\t  8 & accuracy & multiclass & 0.6389737 & 5 & 0.031601747 & Model08\\\\\n",
       "\t  8 & roc\\_auc  & hand\\_till  & 0.8729379 & 5 & 0.012386908 & Model08\\\\\n",
       "\t  9 & accuracy & multiclass & 0.6352030 & 5 & 0.029235619 & Model09\\\\\n",
       "\t  9 & roc\\_auc  & hand\\_till  & 0.8763088 & 5 & 0.011882148 & Model09\\\\\n",
       "\t 10 & accuracy & multiclass & 0.6350491 & 5 & 0.028381338 & Model10\\\\\n",
       "\t 10 & roc\\_auc  & hand\\_till  & 0.8746369 & 5 & 0.010467304 & Model10\\\\\n",
       "\t 11 & accuracy & multiclass & 0.6548082 & 5 & 0.018632973 & Model11\\\\\n",
       "\t 11 & roc\\_auc  & hand\\_till  & 0.8738061 & 5 & 0.012654966 & Model11\\\\\n",
       "\t 12 & accuracy & multiclass & 0.6429620 & 5 & 0.017654422 & Model12\\\\\n",
       "\t 12 & roc\\_auc  & hand\\_till  & 0.8684448 & 5 & 0.012105991 & Model12\\\\\n",
       "\t 13 & accuracy & multiclass & 0.6507326 & 5 & 0.017755654 & Model13\\\\\n",
       "\t 13 & roc\\_auc  & hand\\_till  & 0.8658806 & 5 & 0.011908924 & Model13\\\\\n",
       "\t 14 & accuracy & multiclass & 0.6429677 & 5 & 0.024319628 & Model14\\\\\n",
       "\t 14 & roc\\_auc  & hand\\_till  & 0.8625831 & 5 & 0.011038793 & Model14\\\\\n",
       "\t 15 & accuracy & multiclass & 0.6471187 & 5 & 0.021815835 & Model15\\\\\n",
       "\t 15 & roc\\_auc  & hand\\_till  & 0.8610316 & 5 & 0.012127786 & Model15\\\\\n",
       "\\end{tabular}\n"
      ],
      "text/markdown": [
       "\n",
       "A tibble: 30 × 7\n",
       "\n",
       "| neighbors &lt;dbl&gt; | .metric &lt;chr&gt; | .estimator &lt;chr&gt; | mean &lt;dbl&gt; | n &lt;int&gt; | std_err &lt;dbl&gt; | .config &lt;chr&gt; |\n",
       "|---|---|---|---|---|---|---|\n",
       "|  1 | accuracy | multiclass | 0.5775543 | 5 | 0.010277457 | Model01 |\n",
       "|  1 | roc_auc  | hand_till  | 0.6945924 | 5 | 0.011739951 | Model01 |\n",
       "|  2 | accuracy | multiclass | 0.5775543 | 5 | 0.010277457 | Model02 |\n",
       "|  2 | roc_auc  | hand_till  | 0.7616689 | 5 | 0.013577900 | Model02 |\n",
       "|  3 | accuracy | multiclass | 0.6000361 | 5 | 0.021946840 | Model03 |\n",
       "|  3 | roc_auc  | hand_till  | 0.7920770 | 5 | 0.009632981 | Model03 |\n",
       "|  4 | accuracy | multiclass | 0.6038822 | 5 | 0.022934103 | Model04 |\n",
       "|  4 | roc_auc  | hand_till  | 0.8445817 | 5 | 0.014180114 | Model04 |\n",
       "|  5 | accuracy | multiclass | 0.6473332 | 5 | 0.021931129 | Model05 |\n",
       "|  5 | roc_auc  | hand_till  | 0.8559433 | 5 | 0.016510068 | Model05 |\n",
       "|  6 | accuracy | multiclass | 0.6394959 | 5 | 0.019584014 | Model06 |\n",
       "|  6 | roc_auc  | hand_till  | 0.8682003 | 5 | 0.011469765 | Model06 |\n",
       "|  7 | accuracy | multiclass | 0.6349737 | 5 | 0.031186822 | Model07 |\n",
       "|  7 | roc_auc  | hand_till  | 0.8743054 | 5 | 0.013271261 | Model07 |\n",
       "|  8 | accuracy | multiclass | 0.6389737 | 5 | 0.031601747 | Model08 |\n",
       "|  8 | roc_auc  | hand_till  | 0.8729379 | 5 | 0.012386908 | Model08 |\n",
       "|  9 | accuracy | multiclass | 0.6352030 | 5 | 0.029235619 | Model09 |\n",
       "|  9 | roc_auc  | hand_till  | 0.8763088 | 5 | 0.011882148 | Model09 |\n",
       "| 10 | accuracy | multiclass | 0.6350491 | 5 | 0.028381338 | Model10 |\n",
       "| 10 | roc_auc  | hand_till  | 0.8746369 | 5 | 0.010467304 | Model10 |\n",
       "| 11 | accuracy | multiclass | 0.6548082 | 5 | 0.018632973 | Model11 |\n",
       "| 11 | roc_auc  | hand_till  | 0.8738061 | 5 | 0.012654966 | Model11 |\n",
       "| 12 | accuracy | multiclass | 0.6429620 | 5 | 0.017654422 | Model12 |\n",
       "| 12 | roc_auc  | hand_till  | 0.8684448 | 5 | 0.012105991 | Model12 |\n",
       "| 13 | accuracy | multiclass | 0.6507326 | 5 | 0.017755654 | Model13 |\n",
       "| 13 | roc_auc  | hand_till  | 0.8658806 | 5 | 0.011908924 | Model13 |\n",
       "| 14 | accuracy | multiclass | 0.6429677 | 5 | 0.024319628 | Model14 |\n",
       "| 14 | roc_auc  | hand_till  | 0.8625831 | 5 | 0.011038793 | Model14 |\n",
       "| 15 | accuracy | multiclass | 0.6471187 | 5 | 0.021815835 | Model15 |\n",
       "| 15 | roc_auc  | hand_till  | 0.8610316 | 5 | 0.012127786 | Model15 |\n",
       "\n"
      ],
      "text/plain": [
       "   neighbors .metric  .estimator mean      n std_err     .config\n",
       "1   1        accuracy multiclass 0.5775543 5 0.010277457 Model01\n",
       "2   1        roc_auc  hand_till  0.6945924 5 0.011739951 Model01\n",
       "3   2        accuracy multiclass 0.5775543 5 0.010277457 Model02\n",
       "4   2        roc_auc  hand_till  0.7616689 5 0.013577900 Model02\n",
       "5   3        accuracy multiclass 0.6000361 5 0.021946840 Model03\n",
       "6   3        roc_auc  hand_till  0.7920770 5 0.009632981 Model03\n",
       "7   4        accuracy multiclass 0.6038822 5 0.022934103 Model04\n",
       "8   4        roc_auc  hand_till  0.8445817 5 0.014180114 Model04\n",
       "9   5        accuracy multiclass 0.6473332 5 0.021931129 Model05\n",
       "10  5        roc_auc  hand_till  0.8559433 5 0.016510068 Model05\n",
       "11  6        accuracy multiclass 0.6394959 5 0.019584014 Model06\n",
       "12  6        roc_auc  hand_till  0.8682003 5 0.011469765 Model06\n",
       "13  7        accuracy multiclass 0.6349737 5 0.031186822 Model07\n",
       "14  7        roc_auc  hand_till  0.8743054 5 0.013271261 Model07\n",
       "15  8        accuracy multiclass 0.6389737 5 0.031601747 Model08\n",
       "16  8        roc_auc  hand_till  0.8729379 5 0.012386908 Model08\n",
       "17  9        accuracy multiclass 0.6352030 5 0.029235619 Model09\n",
       "18  9        roc_auc  hand_till  0.8763088 5 0.011882148 Model09\n",
       "19 10        accuracy multiclass 0.6350491 5 0.028381338 Model10\n",
       "20 10        roc_auc  hand_till  0.8746369 5 0.010467304 Model10\n",
       "21 11        accuracy multiclass 0.6548082 5 0.018632973 Model11\n",
       "22 11        roc_auc  hand_till  0.8738061 5 0.012654966 Model11\n",
       "23 12        accuracy multiclass 0.6429620 5 0.017654422 Model12\n",
       "24 12        roc_auc  hand_till  0.8684448 5 0.012105991 Model12\n",
       "25 13        accuracy multiclass 0.6507326 5 0.017755654 Model13\n",
       "26 13        roc_auc  hand_till  0.8658806 5 0.011908924 Model13\n",
       "27 14        accuracy multiclass 0.6429677 5 0.024319628 Model14\n",
       "28 14        roc_auc  hand_till  0.8625831 5 0.011038793 Model14\n",
       "29 15        accuracy multiclass 0.6471187 5 0.021815835 Model15\n",
       "30 15        roc_auc  hand_till  0.8610316 5 0.012127786 Model15"
      ]
     },
     "metadata": {},
     "output_type": "display_data"
    }
   ],
   "source": [
    "knowledge_vfold <- vfold_cv(mutated_data, v = 5, strata = UNS)\n",
    "gridvals <- tibble(neighbors = seq(from = 1, to = 15, by = 1))\n",
    "knn_tune <-nearest_neighbor(weight_func = \"rectangular\", neighbors = tune()) %>%\n",
    "        set_engine(\"kknn\") %>%\n",
    "      set_mode(\"classification\")\n",
    "knn_results <- workflow() %>%\n",
    "      add_recipe(knowledge_recipe) %>%\n",
    "      add_model(knn_tune) %>%\n",
    "      tune_grid(resamples = knowledge_vfold, grid = gridvals) %>%\n",
    "      collect_metrics()\n",
    "knn_results"
   ]
  },
  {
   "cell_type": "code",
   "execution_count": 146,
   "metadata": {},
   "outputs": [
    {
     "data": {
      "text/html": [
       "11"
      ],
      "text/latex": [
       "11"
      ],
      "text/markdown": [
       "11"
      ],
      "text/plain": [
       "[1] 11"
      ]
     },
     "metadata": {},
     "output_type": "display_data"
    },
    {
     "data": {
      "image/png": "[encoded data removed]",
      "text/plain": [
       "plot without title"
      ]
     },
     "metadata": {
      "image/png": {
       "height": 600,
       "width": 600
      }
     },
     "output_type": "display_data"
    }
   ],
   "source": [
    "accuracies <- knn_results %>% \n",
    "      filter(.metric == \"accuracy\")\n",
    "\n",
    "accuracy_versus_k <- ggplot(accuracies, aes(x = neighbors, y = mean))+\n",
    "      geom_point() +\n",
    "      geom_line() +\n",
    "      labs(x = \"Neighbors\", y = \"Accuracy Estimate\") +\n",
    "      scale_x_continuous(breaks = seq(0, 14, by = 1)) +  # adjusting the x-axis\n",
    "      scale_y_continuous(limits = c(0.4, 1.0)) # adjusting the y-axis\n",
    "\n",
    "accuracies_max <- accuracies %>% arrange(desc(mean)) %>%slice(1) %>% select(neighbors) %>%as.integer()\n",
    "accuracies_max\n",
    "accuracy_versus_k"
   ]
  },
  {
   "cell_type": "code",
   "execution_count": 147,
   "metadata": {},
   "outputs": [
    {
     "data": {
      "text/html": [
       "<table>\n",
       "<caption>A tibble: 145 × 8</caption>\n",
       "<thead>\n",
       "\t<tr><th scope=col>STG</th><th scope=col>SCG</th><th scope=col>STR</th><th scope=col>LPR</th><th scope=col>PEG</th><th scope=col>UNS</th><th scope=col>TEP</th><th scope=col>TST</th></tr>\n",
       "\t<tr><th scope=col>&lt;dbl&gt;</th><th scope=col>&lt;dbl&gt;</th><th scope=col>&lt;dbl&gt;</th><th scope=col>&lt;dbl&gt;</th><th scope=col>&lt;dbl&gt;</th><th scope=col>&lt;fct&gt;</th><th scope=col>&lt;dbl&gt;</th><th scope=col>&lt;dbl&gt;</th></tr>\n",
       "</thead>\n",
       "<tbody>\n",
       "\t<tr><td>0.00</td><td>0.10</td><td>0.50</td><td>0.26</td><td>0.05</td><td>VeryLow</td><td>0.155</td><td>0.250</td></tr>\n",
       "\t<tr><td>0.05</td><td>0.05</td><td>0.55</td><td>0.60</td><td>0.14</td><td>Low    </td><td>0.370</td><td>0.300</td></tr>\n",
       "\t<tr><td>0.08</td><td>0.18</td><td>0.63</td><td>0.60</td><td>0.85</td><td>High   </td><td>0.725</td><td>0.355</td></tr>\n",
       "\t<tr><td>0.20</td><td>0.20</td><td>0.68</td><td>0.67</td><td>0.85</td><td>High   </td><td>0.760</td><td>0.440</td></tr>\n",
       "\t<tr><td>0.22</td><td>0.22</td><td>0.90</td><td>0.30</td><td>0.90</td><td>High   </td><td>0.600</td><td>0.560</td></tr>\n",
       "\t<tr><td>0.14</td><td>0.14</td><td>0.70</td><td>0.50</td><td>0.30</td><td>Low    </td><td>0.400</td><td>0.420</td></tr>\n",
       "\t<tr><td>0.16</td><td>0.16</td><td>0.80</td><td>0.50</td><td>0.50</td><td>Middle </td><td>0.500</td><td>0.480</td></tr>\n",
       "\t<tr><td>0.12</td><td>0.12</td><td>0.75</td><td>0.68</td><td>0.15</td><td>Low    </td><td>0.415</td><td>0.435</td></tr>\n",
       "\t<tr><td>0.20</td><td>0.20</td><td>0.88</td><td>0.77</td><td>0.80</td><td>High   </td><td>0.785</td><td>0.540</td></tr>\n",
       "\t<tr><td>0.16</td><td>0.25</td><td>0.01</td><td>0.10</td><td>0.07</td><td>VeryLow</td><td>0.085</td><td>0.085</td></tr>\n",
       "\t<tr><td>0.11</td><td>0.29</td><td>0.20</td><td>0.05</td><td>0.66</td><td>Middle </td><td>0.355</td><td>0.155</td></tr>\n",
       "\t<tr><td>0.18</td><td>0.26</td><td>0.05</td><td>0.40</td><td>0.04</td><td>VeryLow</td><td>0.220</td><td>0.115</td></tr>\n",
       "\t<tr><td>0.21</td><td>0.32</td><td>0.25</td><td>0.50</td><td>0.80</td><td>High   </td><td>0.650</td><td>0.230</td></tr>\n",
       "\t<tr><td>0.13</td><td>0.28</td><td>0.18</td><td>0.75</td><td>0.32</td><td>Middle </td><td>0.535</td><td>0.155</td></tr>\n",
       "\t<tr><td>0.23</td><td>0.29</td><td>0.45</td><td>0.18</td><td>0.88</td><td>High   </td><td>0.530</td><td>0.340</td></tr>\n",
       "\t<tr><td>0.10</td><td>0.27</td><td>0.35</td><td>0.45</td><td>0.05</td><td>VeryLow</td><td>0.250</td><td>0.225</td></tr>\n",
       "\t<tr><td>0.22</td><td>0.31</td><td>0.42</td><td>0.88</td><td>0.80</td><td>High   </td><td>0.840</td><td>0.320</td></tr>\n",
       "\t<tr><td>0.00</td><td>0.25</td><td>0.50</td><td>0.09</td><td>0.07</td><td>VeryLow</td><td>0.080</td><td>0.250</td></tr>\n",
       "\t<tr><td>0.05</td><td>0.29</td><td>0.58</td><td>0.14</td><td>0.32</td><td>Low    </td><td>0.230</td><td>0.315</td></tr>\n",
       "\t<tr><td>0.10</td><td>0.30</td><td>0.58</td><td>0.28</td><td>0.55</td><td>Middle </td><td>0.415</td><td>0.340</td></tr>\n",
       "\t<tr><td>0.20</td><td>0.32</td><td>0.65</td><td>0.31</td><td>0.89</td><td>High   </td><td>0.600</td><td>0.425</td></tr>\n",
       "\t<tr><td>0.19</td><td>0.28</td><td>0.57</td><td>0.58</td><td>0.17</td><td>Low    </td><td>0.375</td><td>0.380</td></tr>\n",
       "\t<tr><td>0.11</td><td>0.26</td><td>0.56</td><td>0.68</td><td>0.27</td><td>Low    </td><td>0.475</td><td>0.335</td></tr>\n",
       "\t<tr><td>0.12</td><td>0.28</td><td>0.70</td><td>0.16</td><td>0.32</td><td>Low    </td><td>0.240</td><td>0.410</td></tr>\n",
       "\t<tr><td>0.18</td><td>0.29</td><td>0.78</td><td>0.15</td><td>0.61</td><td>Middle </td><td>0.380</td><td>0.480</td></tr>\n",
       "\t<tr><td>0.20</td><td>0.25</td><td>0.70</td><td>0.25</td><td>0.03</td><td>VeryLow</td><td>0.140</td><td>0.450</td></tr>\n",
       "\t<tr><td>0.16</td><td>0.28</td><td>0.72</td><td>0.27</td><td>0.32</td><td>Low    </td><td>0.295</td><td>0.440</td></tr>\n",
       "\t<tr><td>0.11</td><td>0.30</td><td>0.79</td><td>0.80</td><td>0.32</td><td>Middle </td><td>0.560</td><td>0.450</td></tr>\n",
       "\t<tr><td>0.18</td><td>0.31</td><td>0.81</td><td>0.70</td><td>0.40</td><td>Middle </td><td>0.550</td><td>0.495</td></tr>\n",
       "\t<tr><td>0.10</td><td>0.33</td><td>0.02</td><td>0.00</td><td>0.25</td><td>VeryLow</td><td>0.125</td><td>0.060</td></tr>\n",
       "\t<tr><td>⋮</td><td>⋮</td><td>⋮</td><td>⋮</td><td>⋮</td><td>⋮</td><td>⋮</td><td>⋮</td></tr>\n",
       "\t<tr><td>0.60</td><td>0.08</td><td>0.13</td><td>0.14</td><td>0.32</td><td>Low    </td><td>0.230</td><td>0.365</td></tr>\n",
       "\t<tr><td>0.80</td><td>0.24</td><td>0.23</td><td>0.29</td><td>0.98</td><td>High   </td><td>0.635</td><td>0.515</td></tr>\n",
       "\t<tr><td>0.65</td><td>0.09</td><td>0.16</td><td>0.49</td><td>0.31</td><td>Low    </td><td>0.400</td><td>0.405</td></tr>\n",
       "\t<tr><td>0.68</td><td>0.16</td><td>0.20</td><td>0.59</td><td>0.60</td><td>Middle </td><td>0.595</td><td>0.440</td></tr>\n",
       "\t<tr><td>0.75</td><td>0.22</td><td>0.24</td><td>0.96</td><td>0.62</td><td>High   </td><td>0.790</td><td>0.495</td></tr>\n",
       "\t<tr><td>0.87</td><td>0.23</td><td>0.25</td><td>0.85</td><td>0.80</td><td>High   </td><td>0.825</td><td>0.560</td></tr>\n",
       "\t<tr><td>0.52</td><td>0.08</td><td>0.33</td><td>0.07</td><td>0.09</td><td>VeryLow</td><td>0.080</td><td>0.425</td></tr>\n",
       "\t<tr><td>0.62</td><td>0.12</td><td>0.36</td><td>0.36</td><td>0.32</td><td>Low    </td><td>0.340</td><td>0.490</td></tr>\n",
       "\t<tr><td>0.68</td><td>0.15</td><td>0.58</td><td>0.35</td><td>0.60</td><td>Middle </td><td>0.475</td><td>0.630</td></tr>\n",
       "\t<tr><td>0.54</td><td>0.25</td><td>0.07</td><td>0.09</td><td>0.11</td><td>VeryLow</td><td>0.100</td><td>0.305</td></tr>\n",
       "\t<tr><td>0.90</td><td>0.31</td><td>0.24</td><td>0.30</td><td>0.97</td><td>High   </td><td>0.635</td><td>0.570</td></tr>\n",
       "\t<tr><td>0.56</td><td>0.27</td><td>0.11</td><td>0.59</td><td>0.22</td><td>Low    </td><td>0.405</td><td>0.335</td></tr>\n",
       "\t<tr><td>0.85</td><td>0.32</td><td>0.22</td><td>0.87</td><td>0.79</td><td>High   </td><td>0.830</td><td>0.535</td></tr>\n",
       "\t<tr><td>0.52</td><td>0.28</td><td>0.32</td><td>0.10</td><td>0.10</td><td>VeryLow</td><td>0.100</td><td>0.420</td></tr>\n",
       "\t<tr><td>0.78</td><td>0.47</td><td>0.24</td><td>0.30</td><td>0.93</td><td>High   </td><td>0.615</td><td>0.510</td></tr>\n",
       "\t<tr><td>0.56</td><td>0.35</td><td>0.10</td><td>0.62</td><td>0.23</td><td>Low    </td><td>0.425</td><td>0.330</td></tr>\n",
       "\t<tr><td>0.61</td><td>0.38</td><td>0.09</td><td>0.38</td><td>0.30</td><td>Low    </td><td>0.340</td><td>0.350</td></tr>\n",
       "\t<tr><td>0.78</td><td>0.47</td><td>0.29</td><td>0.98</td><td>0.59</td><td>High   </td><td>0.785</td><td>0.535</td></tr>\n",
       "\t<tr><td>0.58</td><td>0.40</td><td>0.32</td><td>0.22</td><td>0.24</td><td>Low    </td><td>0.230</td><td>0.450</td></tr>\n",
       "\t<tr><td>0.68</td><td>0.43</td><td>0.60</td><td>0.47</td><td>0.55</td><td>Middle </td><td>0.510</td><td>0.640</td></tr>\n",
       "\t<tr><td>0.57</td><td>0.37</td><td>0.75</td><td>0.27</td><td>0.32</td><td>Low    </td><td>0.295</td><td>0.660</td></tr>\n",
       "\t<tr><td>0.62</td><td>0.56</td><td>0.11</td><td>0.24</td><td>0.22</td><td>Low    </td><td>0.230</td><td>0.365</td></tr>\n",
       "\t<tr><td>0.64</td><td>0.58</td><td>0.14</td><td>0.32</td><td>0.21</td><td>Low    </td><td>0.265</td><td>0.390</td></tr>\n",
       "\t<tr><td>0.64</td><td>0.59</td><td>0.12</td><td>0.58</td><td>0.24</td><td>Low    </td><td>0.410</td><td>0.380</td></tr>\n",
       "\t<tr><td>0.68</td><td>0.61</td><td>0.34</td><td>0.31</td><td>0.23</td><td>Low    </td><td>0.270</td><td>0.510</td></tr>\n",
       "\t<tr><td>0.90</td><td>0.78</td><td>0.62</td><td>0.32</td><td>0.89</td><td>High   </td><td>0.605</td><td>0.760</td></tr>\n",
       "\t<tr><td>0.85</td><td>0.82</td><td>0.66</td><td>0.83</td><td>0.83</td><td>High   </td><td>0.830</td><td>0.755</td></tr>\n",
       "\t<tr><td>0.56</td><td>0.60</td><td>0.77</td><td>0.13</td><td>0.32</td><td>Low    </td><td>0.225</td><td>0.665</td></tr>\n",
       "\t<tr><td>0.66</td><td>0.68</td><td>0.81</td><td>0.57</td><td>0.57</td><td>Middle </td><td>0.570</td><td>0.735</td></tr>\n",
       "\t<tr><td>0.68</td><td>0.64</td><td>0.79</td><td>0.97</td><td>0.24</td><td>Middle </td><td>0.605</td><td>0.735</td></tr>\n",
       "</tbody>\n",
       "</table>\n"
      ],
      "text/latex": [
       "A tibble: 145 × 8\n",
       "\\begin{tabular}{llllllll}\n",
       " STG & SCG & STR & LPR & PEG & UNS & TEP & TST\\\\\n",
       " <dbl> & <dbl> & <dbl> & <dbl> & <dbl> & <fct> & <dbl> & <dbl>\\\\\n",
       "\\hline\n",
       "\t 0.00 & 0.10 & 0.50 & 0.26 & 0.05 & VeryLow & 0.155 & 0.250\\\\\n",
       "\t 0.05 & 0.05 & 0.55 & 0.60 & 0.14 & Low     & 0.370 & 0.300\\\\\n",
       "\t 0.08 & 0.18 & 0.63 & 0.60 & 0.85 & High    & 0.725 & 0.355\\\\\n",
       "\t 0.20 & 0.20 & 0.68 & 0.67 & 0.85 & High    & 0.760 & 0.440\\\\\n",
       "\t 0.22 & 0.22 & 0.90 & 0.30 & 0.90 & High    & 0.600 & 0.560\\\\\n",
       "\t 0.14 & 0.14 & 0.70 & 0.50 & 0.30 & Low     & 0.400 & 0.420\\\\\n",
       "\t 0.16 & 0.16 & 0.80 & 0.50 & 0.50 & Middle  & 0.500 & 0.480\\\\\n",
       "\t 0.12 & 0.12 & 0.75 & 0.68 & 0.15 & Low     & 0.415 & 0.435\\\\\n",
       "\t 0.20 & 0.20 & 0.88 & 0.77 & 0.80 & High    & 0.785 & 0.540\\\\\n",
       "\t 0.16 & 0.25 & 0.01 & 0.10 & 0.07 & VeryLow & 0.085 & 0.085\\\\\n",
       "\t 0.11 & 0.29 & 0.20 & 0.05 & 0.66 & Middle  & 0.355 & 0.155\\\\\n",
       "\t 0.18 & 0.26 & 0.05 & 0.40 & 0.04 & VeryLow & 0.220 & 0.115\\\\\n",
       "\t 0.21 & 0.32 & 0.25 & 0.50 & 0.80 & High    & 0.650 & 0.230\\\\\n",
       "\t 0.13 & 0.28 & 0.18 & 0.75 & 0.32 & Middle  & 0.535 & 0.155\\\\\n",
       "\t 0.23 & 0.29 & 0.45 & 0.18 & 0.88 & High    & 0.530 & 0.340\\\\\n",
       "\t 0.10 & 0.27 & 0.35 & 0.45 & 0.05 & VeryLow & 0.250 & 0.225\\\\\n",
       "\t 0.22 & 0.31 & 0.42 & 0.88 & 0.80 & High    & 0.840 & 0.320\\\\\n",
       "\t 0.00 & 0.25 & 0.50 & 0.09 & 0.07 & VeryLow & 0.080 & 0.250\\\\\n",
       "\t 0.05 & 0.29 & 0.58 & 0.14 & 0.32 & Low     & 0.230 & 0.315\\\\\n",
       "\t 0.10 & 0.30 & 0.58 & 0.28 & 0.55 & Middle  & 0.415 & 0.340\\\\\n",
       "\t 0.20 & 0.32 & 0.65 & 0.31 & 0.89 & High    & 0.600 & 0.425\\\\\n",
       "\t 0.19 & 0.28 & 0.57 & 0.58 & 0.17 & Low     & 0.375 & 0.380\\\\\n",
       "\t 0.11 & 0.26 & 0.56 & 0.68 & 0.27 & Low     & 0.475 & 0.335\\\\\n",
       "\t 0.12 & 0.28 & 0.70 & 0.16 & 0.32 & Low     & 0.240 & 0.410\\\\\n",
       "\t 0.18 & 0.29 & 0.78 & 0.15 & 0.61 & Middle  & 0.380 & 0.480\\\\\n",
       "\t 0.20 & 0.25 & 0.70 & 0.25 & 0.03 & VeryLow & 0.140 & 0.450\\\\\n",
       "\t 0.16 & 0.28 & 0.72 & 0.27 & 0.32 & Low     & 0.295 & 0.440\\\\\n",
       "\t 0.11 & 0.30 & 0.79 & 0.80 & 0.32 & Middle  & 0.560 & 0.450\\\\\n",
       "\t 0.18 & 0.31 & 0.81 & 0.70 & 0.40 & Middle  & 0.550 & 0.495\\\\\n",
       "\t 0.10 & 0.33 & 0.02 & 0.00 & 0.25 & VeryLow & 0.125 & 0.060\\\\\n",
       "\t ⋮ & ⋮ & ⋮ & ⋮ & ⋮ & ⋮ & ⋮ & ⋮\\\\\n",
       "\t 0.60 & 0.08 & 0.13 & 0.14 & 0.32 & Low     & 0.230 & 0.365\\\\\n",
       "\t 0.80 & 0.24 & 0.23 & 0.29 & 0.98 & High    & 0.635 & 0.515\\\\\n",
       "\t 0.65 & 0.09 & 0.16 & 0.49 & 0.31 & Low     & 0.400 & 0.405\\\\\n",
       "\t 0.68 & 0.16 & 0.20 & 0.59 & 0.60 & Middle  & 0.595 & 0.440\\\\\n",
       "\t 0.75 & 0.22 & 0.24 & 0.96 & 0.62 & High    & 0.790 & 0.495\\\\\n",
       "\t 0.87 & 0.23 & 0.25 & 0.85 & 0.80 & High    & 0.825 & 0.560\\\\\n",
       "\t 0.52 & 0.08 & 0.33 & 0.07 & 0.09 & VeryLow & 0.080 & 0.425\\\\\n",
       "\t 0.62 & 0.12 & 0.36 & 0.36 & 0.32 & Low     & 0.340 & 0.490\\\\\n",
       "\t 0.68 & 0.15 & 0.58 & 0.35 & 0.60 & Middle  & 0.475 & 0.630\\\\\n",
       "\t 0.54 & 0.25 & 0.07 & 0.09 & 0.11 & VeryLow & 0.100 & 0.305\\\\\n",
       "\t 0.90 & 0.31 & 0.24 & 0.30 & 0.97 & High    & 0.635 & 0.570\\\\\n",
       "\t 0.56 & 0.27 & 0.11 & 0.59 & 0.22 & Low     & 0.405 & 0.335\\\\\n",
       "\t 0.85 & 0.32 & 0.22 & 0.87 & 0.79 & High    & 0.830 & 0.535\\\\\n",
       "\t 0.52 & 0.28 & 0.32 & 0.10 & 0.10 & VeryLow & 0.100 & 0.420\\\\\n",
       "\t 0.78 & 0.47 & 0.24 & 0.30 & 0.93 & High    & 0.615 & 0.510\\\\\n",
       "\t 0.56 & 0.35 & 0.10 & 0.62 & 0.23 & Low     & 0.425 & 0.330\\\\\n",
       "\t 0.61 & 0.38 & 0.09 & 0.38 & 0.30 & Low     & 0.340 & 0.350\\\\\n",
       "\t 0.78 & 0.47 & 0.29 & 0.98 & 0.59 & High    & 0.785 & 0.535\\\\\n",
       "\t 0.58 & 0.40 & 0.32 & 0.22 & 0.24 & Low     & 0.230 & 0.450\\\\\n",
       "\t 0.68 & 0.43 & 0.60 & 0.47 & 0.55 & Middle  & 0.510 & 0.640\\\\\n",
       "\t 0.57 & 0.37 & 0.75 & 0.27 & 0.32 & Low     & 0.295 & 0.660\\\\\n",
       "\t 0.62 & 0.56 & 0.11 & 0.24 & 0.22 & Low     & 0.230 & 0.365\\\\\n",
       "\t 0.64 & 0.58 & 0.14 & 0.32 & 0.21 & Low     & 0.265 & 0.390\\\\\n",
       "\t 0.64 & 0.59 & 0.12 & 0.58 & 0.24 & Low     & 0.410 & 0.380\\\\\n",
       "\t 0.68 & 0.61 & 0.34 & 0.31 & 0.23 & Low     & 0.270 & 0.510\\\\\n",
       "\t 0.90 & 0.78 & 0.62 & 0.32 & 0.89 & High    & 0.605 & 0.760\\\\\n",
       "\t 0.85 & 0.82 & 0.66 & 0.83 & 0.83 & High    & 0.830 & 0.755\\\\\n",
       "\t 0.56 & 0.60 & 0.77 & 0.13 & 0.32 & Low     & 0.225 & 0.665\\\\\n",
       "\t 0.66 & 0.68 & 0.81 & 0.57 & 0.57 & Middle  & 0.570 & 0.735\\\\\n",
       "\t 0.68 & 0.64 & 0.79 & 0.97 & 0.24 & Middle  & 0.605 & 0.735\\\\\n",
       "\\end{tabular}\n"
      ],
      "text/markdown": [
       "\n",
       "A tibble: 145 × 8\n",
       "\n",
       "| STG &lt;dbl&gt; | SCG &lt;dbl&gt; | STR &lt;dbl&gt; | LPR &lt;dbl&gt; | PEG &lt;dbl&gt; | UNS &lt;fct&gt; | TEP &lt;dbl&gt; | TST &lt;dbl&gt; |\n",
       "|---|---|---|---|---|---|---|---|\n",
       "| 0.00 | 0.10 | 0.50 | 0.26 | 0.05 | VeryLow | 0.155 | 0.250 |\n",
       "| 0.05 | 0.05 | 0.55 | 0.60 | 0.14 | Low     | 0.370 | 0.300 |\n",
       "| 0.08 | 0.18 | 0.63 | 0.60 | 0.85 | High    | 0.725 | 0.355 |\n",
       "| 0.20 | 0.20 | 0.68 | 0.67 | 0.85 | High    | 0.760 | 0.440 |\n",
       "| 0.22 | 0.22 | 0.90 | 0.30 | 0.90 | High    | 0.600 | 0.560 |\n",
       "| 0.14 | 0.14 | 0.70 | 0.50 | 0.30 | Low     | 0.400 | 0.420 |\n",
       "| 0.16 | 0.16 | 0.80 | 0.50 | 0.50 | Middle  | 0.500 | 0.480 |\n",
       "| 0.12 | 0.12 | 0.75 | 0.68 | 0.15 | Low     | 0.415 | 0.435 |\n",
       "| 0.20 | 0.20 | 0.88 | 0.77 | 0.80 | High    | 0.785 | 0.540 |\n",
       "| 0.16 | 0.25 | 0.01 | 0.10 | 0.07 | VeryLow | 0.085 | 0.085 |\n",
       "| 0.11 | 0.29 | 0.20 | 0.05 | 0.66 | Middle  | 0.355 | 0.155 |\n",
       "| 0.18 | 0.26 | 0.05 | 0.40 | 0.04 | VeryLow | 0.220 | 0.115 |\n",
       "| 0.21 | 0.32 | 0.25 | 0.50 | 0.80 | High    | 0.650 | 0.230 |\n",
       "| 0.13 | 0.28 | 0.18 | 0.75 | 0.32 | Middle  | 0.535 | 0.155 |\n",
       "| 0.23 | 0.29 | 0.45 | 0.18 | 0.88 | High    | 0.530 | 0.340 |\n",
       "| 0.10 | 0.27 | 0.35 | 0.45 | 0.05 | VeryLow | 0.250 | 0.225 |\n",
       "| 0.22 | 0.31 | 0.42 | 0.88 | 0.80 | High    | 0.840 | 0.320 |\n",
       "| 0.00 | 0.25 | 0.50 | 0.09 | 0.07 | VeryLow | 0.080 | 0.250 |\n",
       "| 0.05 | 0.29 | 0.58 | 0.14 | 0.32 | Low     | 0.230 | 0.315 |\n",
       "| 0.10 | 0.30 | 0.58 | 0.28 | 0.55 | Middle  | 0.415 | 0.340 |\n",
       "| 0.20 | 0.32 | 0.65 | 0.31 | 0.89 | High    | 0.600 | 0.425 |\n",
       "| 0.19 | 0.28 | 0.57 | 0.58 | 0.17 | Low     | 0.375 | 0.380 |\n",
       "| 0.11 | 0.26 | 0.56 | 0.68 | 0.27 | Low     | 0.475 | 0.335 |\n",
       "| 0.12 | 0.28 | 0.70 | 0.16 | 0.32 | Low     | 0.240 | 0.410 |\n",
       "| 0.18 | 0.29 | 0.78 | 0.15 | 0.61 | Middle  | 0.380 | 0.480 |\n",
       "| 0.20 | 0.25 | 0.70 | 0.25 | 0.03 | VeryLow | 0.140 | 0.450 |\n",
       "| 0.16 | 0.28 | 0.72 | 0.27 | 0.32 | Low     | 0.295 | 0.440 |\n",
       "| 0.11 | 0.30 | 0.79 | 0.80 | 0.32 | Middle  | 0.560 | 0.450 |\n",
       "| 0.18 | 0.31 | 0.81 | 0.70 | 0.40 | Middle  | 0.550 | 0.495 |\n",
       "| 0.10 | 0.33 | 0.02 | 0.00 | 0.25 | VeryLow | 0.125 | 0.060 |\n",
       "| ⋮ | ⋮ | ⋮ | ⋮ | ⋮ | ⋮ | ⋮ | ⋮ |\n",
       "| 0.60 | 0.08 | 0.13 | 0.14 | 0.32 | Low     | 0.230 | 0.365 |\n",
       "| 0.80 | 0.24 | 0.23 | 0.29 | 0.98 | High    | 0.635 | 0.515 |\n",
       "| 0.65 | 0.09 | 0.16 | 0.49 | 0.31 | Low     | 0.400 | 0.405 |\n",
       "| 0.68 | 0.16 | 0.20 | 0.59 | 0.60 | Middle  | 0.595 | 0.440 |\n",
       "| 0.75 | 0.22 | 0.24 | 0.96 | 0.62 | High    | 0.790 | 0.495 |\n",
       "| 0.87 | 0.23 | 0.25 | 0.85 | 0.80 | High    | 0.825 | 0.560 |\n",
       "| 0.52 | 0.08 | 0.33 | 0.07 | 0.09 | VeryLow | 0.080 | 0.425 |\n",
       "| 0.62 | 0.12 | 0.36 | 0.36 | 0.32 | Low     | 0.340 | 0.490 |\n",
       "| 0.68 | 0.15 | 0.58 | 0.35 | 0.60 | Middle  | 0.475 | 0.630 |\n",
       "| 0.54 | 0.25 | 0.07 | 0.09 | 0.11 | VeryLow | 0.100 | 0.305 |\n",
       "| 0.90 | 0.31 | 0.24 | 0.30 | 0.97 | High    | 0.635 | 0.570 |\n",
       "| 0.56 | 0.27 | 0.11 | 0.59 | 0.22 | Low     | 0.405 | 0.335 |\n",
       "| 0.85 | 0.32 | 0.22 | 0.87 | 0.79 | High    | 0.830 | 0.535 |\n",
       "| 0.52 | 0.28 | 0.32 | 0.10 | 0.10 | VeryLow | 0.100 | 0.420 |\n",
       "| 0.78 | 0.47 | 0.24 | 0.30 | 0.93 | High    | 0.615 | 0.510 |\n",
       "| 0.56 | 0.35 | 0.10 | 0.62 | 0.23 | Low     | 0.425 | 0.330 |\n",
       "| 0.61 | 0.38 | 0.09 | 0.38 | 0.30 | Low     | 0.340 | 0.350 |\n",
       "| 0.78 | 0.47 | 0.29 | 0.98 | 0.59 | High    | 0.785 | 0.535 |\n",
       "| 0.58 | 0.40 | 0.32 | 0.22 | 0.24 | Low     | 0.230 | 0.450 |\n",
       "| 0.68 | 0.43 | 0.60 | 0.47 | 0.55 | Middle  | 0.510 | 0.640 |\n",
       "| 0.57 | 0.37 | 0.75 | 0.27 | 0.32 | Low     | 0.295 | 0.660 |\n",
       "| 0.62 | 0.56 | 0.11 | 0.24 | 0.22 | Low     | 0.230 | 0.365 |\n",
       "| 0.64 | 0.58 | 0.14 | 0.32 | 0.21 | Low     | 0.265 | 0.390 |\n",
       "| 0.64 | 0.59 | 0.12 | 0.58 | 0.24 | Low     | 0.410 | 0.380 |\n",
       "| 0.68 | 0.61 | 0.34 | 0.31 | 0.23 | Low     | 0.270 | 0.510 |\n",
       "| 0.90 | 0.78 | 0.62 | 0.32 | 0.89 | High    | 0.605 | 0.760 |\n",
       "| 0.85 | 0.82 | 0.66 | 0.83 | 0.83 | High    | 0.830 | 0.755 |\n",
       "| 0.56 | 0.60 | 0.77 | 0.13 | 0.32 | Low     | 0.225 | 0.665 |\n",
       "| 0.66 | 0.68 | 0.81 | 0.57 | 0.57 | Middle  | 0.570 | 0.735 |\n",
       "| 0.68 | 0.64 | 0.79 | 0.97 | 0.24 | Middle  | 0.605 | 0.735 |\n",
       "\n"
      ],
      "text/plain": [
       "    STG  SCG  STR  LPR  PEG  UNS     TEP   TST  \n",
       "1   0.00 0.10 0.50 0.26 0.05 VeryLow 0.155 0.250\n",
       "2   0.05 0.05 0.55 0.60 0.14 Low     0.370 0.300\n",
       "3   0.08 0.18 0.63 0.60 0.85 High    0.725 0.355\n",
       "4   0.20 0.20 0.68 0.67 0.85 High    0.760 0.440\n",
       "5   0.22 0.22 0.90 0.30 0.90 High    0.600 0.560\n",
       "6   0.14 0.14 0.70 0.50 0.30 Low     0.400 0.420\n",
       "7   0.16 0.16 0.80 0.50 0.50 Middle  0.500 0.480\n",
       "8   0.12 0.12 0.75 0.68 0.15 Low     0.415 0.435\n",
       "9   0.20 0.20 0.88 0.77 0.80 High    0.785 0.540\n",
       "10  0.16 0.25 0.01 0.10 0.07 VeryLow 0.085 0.085\n",
       "11  0.11 0.29 0.20 0.05 0.66 Middle  0.355 0.155\n",
       "12  0.18 0.26 0.05 0.40 0.04 VeryLow 0.220 0.115\n",
       "13  0.21 0.32 0.25 0.50 0.80 High    0.650 0.230\n",
       "14  0.13 0.28 0.18 0.75 0.32 Middle  0.535 0.155\n",
       "15  0.23 0.29 0.45 0.18 0.88 High    0.530 0.340\n",
       "16  0.10 0.27 0.35 0.45 0.05 VeryLow 0.250 0.225\n",
       "17  0.22 0.31 0.42 0.88 0.80 High    0.840 0.320\n",
       "18  0.00 0.25 0.50 0.09 0.07 VeryLow 0.080 0.250\n",
       "19  0.05 0.29 0.58 0.14 0.32 Low     0.230 0.315\n",
       "20  0.10 0.30 0.58 0.28 0.55 Middle  0.415 0.340\n",
       "21  0.20 0.32 0.65 0.31 0.89 High    0.600 0.425\n",
       "22  0.19 0.28 0.57 0.58 0.17 Low     0.375 0.380\n",
       "23  0.11 0.26 0.56 0.68 0.27 Low     0.475 0.335\n",
       "24  0.12 0.28 0.70 0.16 0.32 Low     0.240 0.410\n",
       "25  0.18 0.29 0.78 0.15 0.61 Middle  0.380 0.480\n",
       "26  0.20 0.25 0.70 0.25 0.03 VeryLow 0.140 0.450\n",
       "27  0.16 0.28 0.72 0.27 0.32 Low     0.295 0.440\n",
       "28  0.11 0.30 0.79 0.80 0.32 Middle  0.560 0.450\n",
       "29  0.18 0.31 0.81 0.70 0.40 Middle  0.550 0.495\n",
       "30  0.10 0.33 0.02 0.00 0.25 VeryLow 0.125 0.060\n",
       "⋮   ⋮    ⋮    ⋮    ⋮    ⋮    ⋮       ⋮     ⋮    \n",
       "116 0.60 0.08 0.13 0.14 0.32 Low     0.230 0.365\n",
       "117 0.80 0.24 0.23 0.29 0.98 High    0.635 0.515\n",
       "118 0.65 0.09 0.16 0.49 0.31 Low     0.400 0.405\n",
       "119 0.68 0.16 0.20 0.59 0.60 Middle  0.595 0.440\n",
       "120 0.75 0.22 0.24 0.96 0.62 High    0.790 0.495\n",
       "121 0.87 0.23 0.25 0.85 0.80 High    0.825 0.560\n",
       "122 0.52 0.08 0.33 0.07 0.09 VeryLow 0.080 0.425\n",
       "123 0.62 0.12 0.36 0.36 0.32 Low     0.340 0.490\n",
       "124 0.68 0.15 0.58 0.35 0.60 Middle  0.475 0.630\n",
       "125 0.54 0.25 0.07 0.09 0.11 VeryLow 0.100 0.305\n",
       "126 0.90 0.31 0.24 0.30 0.97 High    0.635 0.570\n",
       "127 0.56 0.27 0.11 0.59 0.22 Low     0.405 0.335\n",
       "128 0.85 0.32 0.22 0.87 0.79 High    0.830 0.535\n",
       "129 0.52 0.28 0.32 0.10 0.10 VeryLow 0.100 0.420\n",
       "130 0.78 0.47 0.24 0.30 0.93 High    0.615 0.510\n",
       "131 0.56 0.35 0.10 0.62 0.23 Low     0.425 0.330\n",
       "132 0.61 0.38 0.09 0.38 0.30 Low     0.340 0.350\n",
       "133 0.78 0.47 0.29 0.98 0.59 High    0.785 0.535\n",
       "134 0.58 0.40 0.32 0.22 0.24 Low     0.230 0.450\n",
       "135 0.68 0.43 0.60 0.47 0.55 Middle  0.510 0.640\n",
       "136 0.57 0.37 0.75 0.27 0.32 Low     0.295 0.660\n",
       "137 0.62 0.56 0.11 0.24 0.22 Low     0.230 0.365\n",
       "138 0.64 0.58 0.14 0.32 0.21 Low     0.265 0.390\n",
       "139 0.64 0.59 0.12 0.58 0.24 Low     0.410 0.380\n",
       "140 0.68 0.61 0.34 0.31 0.23 Low     0.270 0.510\n",
       "141 0.90 0.78 0.62 0.32 0.89 High    0.605 0.760\n",
       "142 0.85 0.82 0.66 0.83 0.83 High    0.830 0.755\n",
       "143 0.56 0.60 0.77 0.13 0.32 Low     0.225 0.665\n",
       "144 0.66 0.68 0.81 0.57 0.57 Middle  0.570 0.735\n",
       "145 0.68 0.64 0.79 0.97 0.24 Middle  0.605 0.735"
      ]
     },
     "metadata": {},
     "output_type": "display_data"
    }
   ],
   "source": [
    "knowledge_mutated_testing <- data_te %>%\n",
    "                mutate(TEP = (LPR + PEG)/2) %>%\n",
    "                mutate(TST = (STG + STR)/2) \n",
    "knowledge_mutated_testing"
   ]
  },
  {
   "cell_type": "code",
   "execution_count": 148,
   "metadata": {},
   "outputs": [],
   "source": [
    "knowledge_best <-nearest_neighbor(weight_func = \"rectangular\", neighbors = accuracies_max) %>%\n",
    "        set_engine(\"kknn\") %>%\n",
    "      set_mode(\"classification\")"
   ]
  },
  {
   "cell_type": "code",
   "execution_count": 149,
   "metadata": {},
   "outputs": [
    {
     "data": {
      "text/html": [
       "<table>\n",
       "<caption>A tibble: 145 × 9</caption>\n",
       "<thead>\n",
       "\t<tr><th scope=col>.pred_class</th><th scope=col>STG</th><th scope=col>SCG</th><th scope=col>STR</th><th scope=col>LPR</th><th scope=col>PEG</th><th scope=col>UNS</th><th scope=col>TEP</th><th scope=col>TST</th></tr>\n",
       "\t<tr><th scope=col>&lt;fct&gt;</th><th scope=col>&lt;dbl&gt;</th><th scope=col>&lt;dbl&gt;</th><th scope=col>&lt;dbl&gt;</th><th scope=col>&lt;dbl&gt;</th><th scope=col>&lt;dbl&gt;</th><th scope=col>&lt;fct&gt;</th><th scope=col>&lt;dbl&gt;</th><th scope=col>&lt;dbl&gt;</th></tr>\n",
       "</thead>\n",
       "<tbody>\n",
       "\t<tr><td>VeryLow</td><td>0.00</td><td>0.10</td><td>0.50</td><td>0.26</td><td>0.05</td><td>VeryLow</td><td>0.155</td><td>0.250</td></tr>\n",
       "\t<tr><td>Low    </td><td>0.05</td><td>0.05</td><td>0.55</td><td>0.60</td><td>0.14</td><td>Low    </td><td>0.370</td><td>0.300</td></tr>\n",
       "\t<tr><td>High   </td><td>0.08</td><td>0.18</td><td>0.63</td><td>0.60</td><td>0.85</td><td>High   </td><td>0.725</td><td>0.355</td></tr>\n",
       "\t<tr><td>High   </td><td>0.20</td><td>0.20</td><td>0.68</td><td>0.67</td><td>0.85</td><td>High   </td><td>0.760</td><td>0.440</td></tr>\n",
       "\t<tr><td>High   </td><td>0.22</td><td>0.22</td><td>0.90</td><td>0.30</td><td>0.90</td><td>High   </td><td>0.600</td><td>0.560</td></tr>\n",
       "\t<tr><td>Middle </td><td>0.14</td><td>0.14</td><td>0.70</td><td>0.50</td><td>0.30</td><td>Low    </td><td>0.400</td><td>0.420</td></tr>\n",
       "\t<tr><td>Low    </td><td>0.16</td><td>0.16</td><td>0.80</td><td>0.50</td><td>0.50</td><td>Middle </td><td>0.500</td><td>0.480</td></tr>\n",
       "\t<tr><td>Middle </td><td>0.12</td><td>0.12</td><td>0.75</td><td>0.68</td><td>0.15</td><td>Low    </td><td>0.415</td><td>0.435</td></tr>\n",
       "\t<tr><td>High   </td><td>0.20</td><td>0.20</td><td>0.88</td><td>0.77</td><td>0.80</td><td>High   </td><td>0.785</td><td>0.540</td></tr>\n",
       "\t<tr><td>VeryLow</td><td>0.16</td><td>0.25</td><td>0.01</td><td>0.10</td><td>0.07</td><td>VeryLow</td><td>0.085</td><td>0.085</td></tr>\n",
       "\t<tr><td>Low    </td><td>0.11</td><td>0.29</td><td>0.20</td><td>0.05</td><td>0.66</td><td>Middle </td><td>0.355</td><td>0.155</td></tr>\n",
       "\t<tr><td>Low    </td><td>0.18</td><td>0.26</td><td>0.05</td><td>0.40</td><td>0.04</td><td>VeryLow</td><td>0.220</td><td>0.115</td></tr>\n",
       "\t<tr><td>High   </td><td>0.21</td><td>0.32</td><td>0.25</td><td>0.50</td><td>0.80</td><td>High   </td><td>0.650</td><td>0.230</td></tr>\n",
       "\t<tr><td>Low    </td><td>0.13</td><td>0.28</td><td>0.18</td><td>0.75</td><td>0.32</td><td>Middle </td><td>0.535</td><td>0.155</td></tr>\n",
       "\t<tr><td>High   </td><td>0.23</td><td>0.29</td><td>0.45</td><td>0.18</td><td>0.88</td><td>High   </td><td>0.530</td><td>0.340</td></tr>\n",
       "\t<tr><td>Low    </td><td>0.10</td><td>0.27</td><td>0.35</td><td>0.45</td><td>0.05</td><td>VeryLow</td><td>0.250</td><td>0.225</td></tr>\n",
       "\t<tr><td>High   </td><td>0.22</td><td>0.31</td><td>0.42</td><td>0.88</td><td>0.80</td><td>High   </td><td>0.840</td><td>0.320</td></tr>\n",
       "\t<tr><td>VeryLow</td><td>0.00</td><td>0.25</td><td>0.50</td><td>0.09</td><td>0.07</td><td>VeryLow</td><td>0.080</td><td>0.250</td></tr>\n",
       "\t<tr><td>Low    </td><td>0.05</td><td>0.29</td><td>0.58</td><td>0.14</td><td>0.32</td><td>Low    </td><td>0.230</td><td>0.315</td></tr>\n",
       "\t<tr><td>Middle </td><td>0.10</td><td>0.30</td><td>0.58</td><td>0.28</td><td>0.55</td><td>Middle </td><td>0.415</td><td>0.340</td></tr>\n",
       "\t<tr><td>High   </td><td>0.20</td><td>0.32</td><td>0.65</td><td>0.31</td><td>0.89</td><td>High   </td><td>0.600</td><td>0.425</td></tr>\n",
       "\t<tr><td>Middle </td><td>0.19</td><td>0.28</td><td>0.57</td><td>0.58</td><td>0.17</td><td>Low    </td><td>0.375</td><td>0.380</td></tr>\n",
       "\t<tr><td>Low    </td><td>0.11</td><td>0.26</td><td>0.56</td><td>0.68</td><td>0.27</td><td>Low    </td><td>0.475</td><td>0.335</td></tr>\n",
       "\t<tr><td>Low    </td><td>0.12</td><td>0.28</td><td>0.70</td><td>0.16</td><td>0.32</td><td>Low    </td><td>0.240</td><td>0.410</td></tr>\n",
       "\t<tr><td>Middle </td><td>0.18</td><td>0.29</td><td>0.78</td><td>0.15</td><td>0.61</td><td>Middle </td><td>0.380</td><td>0.480</td></tr>\n",
       "\t<tr><td>VeryLow</td><td>0.20</td><td>0.25</td><td>0.70</td><td>0.25</td><td>0.03</td><td>VeryLow</td><td>0.140</td><td>0.450</td></tr>\n",
       "\t<tr><td>Low    </td><td>0.16</td><td>0.28</td><td>0.72</td><td>0.27</td><td>0.32</td><td>Low    </td><td>0.295</td><td>0.440</td></tr>\n",
       "\t<tr><td>Middle </td><td>0.11</td><td>0.30</td><td>0.79</td><td>0.80</td><td>0.32</td><td>Middle </td><td>0.560</td><td>0.450</td></tr>\n",
       "\t<tr><td>Middle </td><td>0.18</td><td>0.31</td><td>0.81</td><td>0.70</td><td>0.40</td><td>Middle </td><td>0.550</td><td>0.495</td></tr>\n",
       "\t<tr><td>Low    </td><td>0.10</td><td>0.33</td><td>0.02</td><td>0.00</td><td>0.25</td><td>VeryLow</td><td>0.125</td><td>0.060</td></tr>\n",
       "\t<tr><td>⋮</td><td>⋮</td><td>⋮</td><td>⋮</td><td>⋮</td><td>⋮</td><td>⋮</td><td>⋮</td><td>⋮</td></tr>\n",
       "\t<tr><td>Low    </td><td>0.60</td><td>0.08</td><td>0.13</td><td>0.14</td><td>0.32</td><td>Low    </td><td>0.230</td><td>0.365</td></tr>\n",
       "\t<tr><td>High   </td><td>0.80</td><td>0.24</td><td>0.23</td><td>0.29</td><td>0.98</td><td>High   </td><td>0.635</td><td>0.515</td></tr>\n",
       "\t<tr><td>Middle </td><td>0.65</td><td>0.09</td><td>0.16</td><td>0.49</td><td>0.31</td><td>Low    </td><td>0.400</td><td>0.405</td></tr>\n",
       "\t<tr><td>High   </td><td>0.68</td><td>0.16</td><td>0.20</td><td>0.59</td><td>0.60</td><td>Middle </td><td>0.595</td><td>0.440</td></tr>\n",
       "\t<tr><td>High   </td><td>0.75</td><td>0.22</td><td>0.24</td><td>0.96</td><td>0.62</td><td>High   </td><td>0.790</td><td>0.495</td></tr>\n",
       "\t<tr><td>High   </td><td>0.87</td><td>0.23</td><td>0.25</td><td>0.85</td><td>0.80</td><td>High   </td><td>0.825</td><td>0.560</td></tr>\n",
       "\t<tr><td>VeryLow</td><td>0.52</td><td>0.08</td><td>0.33</td><td>0.07</td><td>0.09</td><td>VeryLow</td><td>0.080</td><td>0.425</td></tr>\n",
       "\t<tr><td>Middle </td><td>0.62</td><td>0.12</td><td>0.36</td><td>0.36</td><td>0.32</td><td>Low    </td><td>0.340</td><td>0.490</td></tr>\n",
       "\t<tr><td>Middle </td><td>0.68</td><td>0.15</td><td>0.58</td><td>0.35</td><td>0.60</td><td>Middle </td><td>0.475</td><td>0.630</td></tr>\n",
       "\t<tr><td>VeryLow</td><td>0.54</td><td>0.25</td><td>0.07</td><td>0.09</td><td>0.11</td><td>VeryLow</td><td>0.100</td><td>0.305</td></tr>\n",
       "\t<tr><td>High   </td><td>0.90</td><td>0.31</td><td>0.24</td><td>0.30</td><td>0.97</td><td>High   </td><td>0.635</td><td>0.570</td></tr>\n",
       "\t<tr><td>Middle </td><td>0.56</td><td>0.27</td><td>0.11</td><td>0.59</td><td>0.22</td><td>Low    </td><td>0.405</td><td>0.335</td></tr>\n",
       "\t<tr><td>High   </td><td>0.85</td><td>0.32</td><td>0.22</td><td>0.87</td><td>0.79</td><td>High   </td><td>0.830</td><td>0.535</td></tr>\n",
       "\t<tr><td>VeryLow</td><td>0.52</td><td>0.28</td><td>0.32</td><td>0.10</td><td>0.10</td><td>VeryLow</td><td>0.100</td><td>0.420</td></tr>\n",
       "\t<tr><td>High   </td><td>0.78</td><td>0.47</td><td>0.24</td><td>0.30</td><td>0.93</td><td>High   </td><td>0.615</td><td>0.510</td></tr>\n",
       "\t<tr><td>Middle </td><td>0.56</td><td>0.35</td><td>0.10</td><td>0.62</td><td>0.23</td><td>Low    </td><td>0.425</td><td>0.330</td></tr>\n",
       "\t<tr><td>Low    </td><td>0.61</td><td>0.38</td><td>0.09</td><td>0.38</td><td>0.30</td><td>Low    </td><td>0.340</td><td>0.350</td></tr>\n",
       "\t<tr><td>High   </td><td>0.78</td><td>0.47</td><td>0.29</td><td>0.98</td><td>0.59</td><td>High   </td><td>0.785</td><td>0.535</td></tr>\n",
       "\t<tr><td>Low    </td><td>0.58</td><td>0.40</td><td>0.32</td><td>0.22</td><td>0.24</td><td>Low    </td><td>0.230</td><td>0.450</td></tr>\n",
       "\t<tr><td>High   </td><td>0.68</td><td>0.43</td><td>0.60</td><td>0.47</td><td>0.55</td><td>Middle </td><td>0.510</td><td>0.640</td></tr>\n",
       "\t<tr><td>Low    </td><td>0.57</td><td>0.37</td><td>0.75</td><td>0.27</td><td>0.32</td><td>Low    </td><td>0.295</td><td>0.660</td></tr>\n",
       "\t<tr><td>Low    </td><td>0.62</td><td>0.56</td><td>0.11</td><td>0.24</td><td>0.22</td><td>Low    </td><td>0.230</td><td>0.365</td></tr>\n",
       "\t<tr><td>Low    </td><td>0.64</td><td>0.58</td><td>0.14</td><td>0.32</td><td>0.21</td><td>Low    </td><td>0.265</td><td>0.390</td></tr>\n",
       "\t<tr><td>Middle </td><td>0.64</td><td>0.59</td><td>0.12</td><td>0.58</td><td>0.24</td><td>Low    </td><td>0.410</td><td>0.380</td></tr>\n",
       "\t<tr><td>Low    </td><td>0.68</td><td>0.61</td><td>0.34</td><td>0.31</td><td>0.23</td><td>Low    </td><td>0.270</td><td>0.510</td></tr>\n",
       "\t<tr><td>High   </td><td>0.90</td><td>0.78</td><td>0.62</td><td>0.32</td><td>0.89</td><td>High   </td><td>0.605</td><td>0.760</td></tr>\n",
       "\t<tr><td>High   </td><td>0.85</td><td>0.82</td><td>0.66</td><td>0.83</td><td>0.83</td><td>High   </td><td>0.830</td><td>0.755</td></tr>\n",
       "\t<tr><td>Low    </td><td>0.56</td><td>0.60</td><td>0.77</td><td>0.13</td><td>0.32</td><td>Low    </td><td>0.225</td><td>0.665</td></tr>\n",
       "\t<tr><td>Middle </td><td>0.66</td><td>0.68</td><td>0.81</td><td>0.57</td><td>0.57</td><td>Middle </td><td>0.570</td><td>0.735</td></tr>\n",
       "\t<tr><td>High   </td><td>0.68</td><td>0.64</td><td>0.79</td><td>0.97</td><td>0.24</td><td>Middle </td><td>0.605</td><td>0.735</td></tr>\n",
       "</tbody>\n",
       "</table>\n"
      ],
      "text/latex": [
       "A tibble: 145 × 9\n",
       "\\begin{tabular}{lllllllll}\n",
       " .pred\\_class & STG & SCG & STR & LPR & PEG & UNS & TEP & TST\\\\\n",
       " <fct> & <dbl> & <dbl> & <dbl> & <dbl> & <dbl> & <fct> & <dbl> & <dbl>\\\\\n",
       "\\hline\n",
       "\t VeryLow & 0.00 & 0.10 & 0.50 & 0.26 & 0.05 & VeryLow & 0.155 & 0.250\\\\\n",
       "\t Low     & 0.05 & 0.05 & 0.55 & 0.60 & 0.14 & Low     & 0.370 & 0.300\\\\\n",
       "\t High    & 0.08 & 0.18 & 0.63 & 0.60 & 0.85 & High    & 0.725 & 0.355\\\\\n",
       "\t High    & 0.20 & 0.20 & 0.68 & 0.67 & 0.85 & High    & 0.760 & 0.440\\\\\n",
       "\t High    & 0.22 & 0.22 & 0.90 & 0.30 & 0.90 & High    & 0.600 & 0.560\\\\\n",
       "\t Middle  & 0.14 & 0.14 & 0.70 & 0.50 & 0.30 & Low     & 0.400 & 0.420\\\\\n",
       "\t Low     & 0.16 & 0.16 & 0.80 & 0.50 & 0.50 & Middle  & 0.500 & 0.480\\\\\n",
       "\t Middle  & 0.12 & 0.12 & 0.75 & 0.68 & 0.15 & Low     & 0.415 & 0.435\\\\\n",
       "\t High    & 0.20 & 0.20 & 0.88 & 0.77 & 0.80 & High    & 0.785 & 0.540\\\\\n",
       "\t VeryLow & 0.16 & 0.25 & 0.01 & 0.10 & 0.07 & VeryLow & 0.085 & 0.085\\\\\n",
       "\t Low     & 0.11 & 0.29 & 0.20 & 0.05 & 0.66 & Middle  & 0.355 & 0.155\\\\\n",
       "\t Low     & 0.18 & 0.26 & 0.05 & 0.40 & 0.04 & VeryLow & 0.220 & 0.115\\\\\n",
       "\t High    & 0.21 & 0.32 & 0.25 & 0.50 & 0.80 & High    & 0.650 & 0.230\\\\\n",
       "\t Low     & 0.13 & 0.28 & 0.18 & 0.75 & 0.32 & Middle  & 0.535 & 0.155\\\\\n",
       "\t High    & 0.23 & 0.29 & 0.45 & 0.18 & 0.88 & High    & 0.530 & 0.340\\\\\n",
       "\t Low     & 0.10 & 0.27 & 0.35 & 0.45 & 0.05 & VeryLow & 0.250 & 0.225\\\\\n",
       "\t High    & 0.22 & 0.31 & 0.42 & 0.88 & 0.80 & High    & 0.840 & 0.320\\\\\n",
       "\t VeryLow & 0.00 & 0.25 & 0.50 & 0.09 & 0.07 & VeryLow & 0.080 & 0.250\\\\\n",
       "\t Low     & 0.05 & 0.29 & 0.58 & 0.14 & 0.32 & Low     & 0.230 & 0.315\\\\\n",
       "\t Middle  & 0.10 & 0.30 & 0.58 & 0.28 & 0.55 & Middle  & 0.415 & 0.340\\\\\n",
       "\t High    & 0.20 & 0.32 & 0.65 & 0.31 & 0.89 & High    & 0.600 & 0.425\\\\\n",
       "\t Middle  & 0.19 & 0.28 & 0.57 & 0.58 & 0.17 & Low     & 0.375 & 0.380\\\\\n",
       "\t Low     & 0.11 & 0.26 & 0.56 & 0.68 & 0.27 & Low     & 0.475 & 0.335\\\\\n",
       "\t Low     & 0.12 & 0.28 & 0.70 & 0.16 & 0.32 & Low     & 0.240 & 0.410\\\\\n",
       "\t Middle  & 0.18 & 0.29 & 0.78 & 0.15 & 0.61 & Middle  & 0.380 & 0.480\\\\\n",
       "\t VeryLow & 0.20 & 0.25 & 0.70 & 0.25 & 0.03 & VeryLow & 0.140 & 0.450\\\\\n",
       "\t Low     & 0.16 & 0.28 & 0.72 & 0.27 & 0.32 & Low     & 0.295 & 0.440\\\\\n",
       "\t Middle  & 0.11 & 0.30 & 0.79 & 0.80 & 0.32 & Middle  & 0.560 & 0.450\\\\\n",
       "\t Middle  & 0.18 & 0.31 & 0.81 & 0.70 & 0.40 & Middle  & 0.550 & 0.495\\\\\n",
       "\t Low     & 0.10 & 0.33 & 0.02 & 0.00 & 0.25 & VeryLow & 0.125 & 0.060\\\\\n",
       "\t ⋮ & ⋮ & ⋮ & ⋮ & ⋮ & ⋮ & ⋮ & ⋮ & ⋮\\\\\n",
       "\t Low     & 0.60 & 0.08 & 0.13 & 0.14 & 0.32 & Low     & 0.230 & 0.365\\\\\n",
       "\t High    & 0.80 & 0.24 & 0.23 & 0.29 & 0.98 & High    & 0.635 & 0.515\\\\\n",
       "\t Middle  & 0.65 & 0.09 & 0.16 & 0.49 & 0.31 & Low     & 0.400 & 0.405\\\\\n",
       "\t High    & 0.68 & 0.16 & 0.20 & 0.59 & 0.60 & Middle  & 0.595 & 0.440\\\\\n",
       "\t High    & 0.75 & 0.22 & 0.24 & 0.96 & 0.62 & High    & 0.790 & 0.495\\\\\n",
       "\t High    & 0.87 & 0.23 & 0.25 & 0.85 & 0.80 & High    & 0.825 & 0.560\\\\\n",
       "\t VeryLow & 0.52 & 0.08 & 0.33 & 0.07 & 0.09 & VeryLow & 0.080 & 0.425\\\\\n",
       "\t Middle  & 0.62 & 0.12 & 0.36 & 0.36 & 0.32 & Low     & 0.340 & 0.490\\\\\n",
       "\t Middle  & 0.68 & 0.15 & 0.58 & 0.35 & 0.60 & Middle  & 0.475 & 0.630\\\\\n",
       "\t VeryLow & 0.54 & 0.25 & 0.07 & 0.09 & 0.11 & VeryLow & 0.100 & 0.305\\\\\n",
       "\t High    & 0.90 & 0.31 & 0.24 & 0.30 & 0.97 & High    & 0.635 & 0.570\\\\\n",
       "\t Middle  & 0.56 & 0.27 & 0.11 & 0.59 & 0.22 & Low     & 0.405 & 0.335\\\\\n",
       "\t High    & 0.85 & 0.32 & 0.22 & 0.87 & 0.79 & High    & 0.830 & 0.535\\\\\n",
       "\t VeryLow & 0.52 & 0.28 & 0.32 & 0.10 & 0.10 & VeryLow & 0.100 & 0.420\\\\\n",
       "\t High    & 0.78 & 0.47 & 0.24 & 0.30 & 0.93 & High    & 0.615 & 0.510\\\\\n",
       "\t Middle  & 0.56 & 0.35 & 0.10 & 0.62 & 0.23 & Low     & 0.425 & 0.330\\\\\n",
       "\t Low     & 0.61 & 0.38 & 0.09 & 0.38 & 0.30 & Low     & 0.340 & 0.350\\\\\n",
       "\t High    & 0.78 & 0.47 & 0.29 & 0.98 & 0.59 & High    & 0.785 & 0.535\\\\\n",
       "\t Low     & 0.58 & 0.40 & 0.32 & 0.22 & 0.24 & Low     & 0.230 & 0.450\\\\\n",
       "\t High    & 0.68 & 0.43 & 0.60 & 0.47 & 0.55 & Middle  & 0.510 & 0.640\\\\\n",
       "\t Low     & 0.57 & 0.37 & 0.75 & 0.27 & 0.32 & Low     & 0.295 & 0.660\\\\\n",
       "\t Low     & 0.62 & 0.56 & 0.11 & 0.24 & 0.22 & Low     & 0.230 & 0.365\\\\\n",
       "\t Low     & 0.64 & 0.58 & 0.14 & 0.32 & 0.21 & Low     & 0.265 & 0.390\\\\\n",
       "\t Middle  & 0.64 & 0.59 & 0.12 & 0.58 & 0.24 & Low     & 0.410 & 0.380\\\\\n",
       "\t Low     & 0.68 & 0.61 & 0.34 & 0.31 & 0.23 & Low     & 0.270 & 0.510\\\\\n",
       "\t High    & 0.90 & 0.78 & 0.62 & 0.32 & 0.89 & High    & 0.605 & 0.760\\\\\n",
       "\t High    & 0.85 & 0.82 & 0.66 & 0.83 & 0.83 & High    & 0.830 & 0.755\\\\\n",
       "\t Low     & 0.56 & 0.60 & 0.77 & 0.13 & 0.32 & Low     & 0.225 & 0.665\\\\\n",
       "\t Middle  & 0.66 & 0.68 & 0.81 & 0.57 & 0.57 & Middle  & 0.570 & 0.735\\\\\n",
       "\t High    & 0.68 & 0.64 & 0.79 & 0.97 & 0.24 & Middle  & 0.605 & 0.735\\\\\n",
       "\\end{tabular}\n"
      ],
      "text/markdown": [
       "\n",
       "A tibble: 145 × 9\n",
       "\n",
       "| .pred_class &lt;fct&gt; | STG &lt;dbl&gt; | SCG &lt;dbl&gt; | STR &lt;dbl&gt; | LPR &lt;dbl&gt; | PEG &lt;dbl&gt; | UNS &lt;fct&gt; | TEP &lt;dbl&gt; | TST &lt;dbl&gt; |\n",
       "|---|---|---|---|---|---|---|---|---|\n",
       "| VeryLow | 0.00 | 0.10 | 0.50 | 0.26 | 0.05 | VeryLow | 0.155 | 0.250 |\n",
       "| Low     | 0.05 | 0.05 | 0.55 | 0.60 | 0.14 | Low     | 0.370 | 0.300 |\n",
       "| High    | 0.08 | 0.18 | 0.63 | 0.60 | 0.85 | High    | 0.725 | 0.355 |\n",
       "| High    | 0.20 | 0.20 | 0.68 | 0.67 | 0.85 | High    | 0.760 | 0.440 |\n",
       "| High    | 0.22 | 0.22 | 0.90 | 0.30 | 0.90 | High    | 0.600 | 0.560 |\n",
       "| Middle  | 0.14 | 0.14 | 0.70 | 0.50 | 0.30 | Low     | 0.400 | 0.420 |\n",
       "| Low     | 0.16 | 0.16 | 0.80 | 0.50 | 0.50 | Middle  | 0.500 | 0.480 |\n",
       "| Middle  | 0.12 | 0.12 | 0.75 | 0.68 | 0.15 | Low     | 0.415 | 0.435 |\n",
       "| High    | 0.20 | 0.20 | 0.88 | 0.77 | 0.80 | High    | 0.785 | 0.540 |\n",
       "| VeryLow | 0.16 | 0.25 | 0.01 | 0.10 | 0.07 | VeryLow | 0.085 | 0.085 |\n",
       "| Low     | 0.11 | 0.29 | 0.20 | 0.05 | 0.66 | Middle  | 0.355 | 0.155 |\n",
       "| Low     | 0.18 | 0.26 | 0.05 | 0.40 | 0.04 | VeryLow | 0.220 | 0.115 |\n",
       "| High    | 0.21 | 0.32 | 0.25 | 0.50 | 0.80 | High    | 0.650 | 0.230 |\n",
       "| Low     | 0.13 | 0.28 | 0.18 | 0.75 | 0.32 | Middle  | 0.535 | 0.155 |\n",
       "| High    | 0.23 | 0.29 | 0.45 | 0.18 | 0.88 | High    | 0.530 | 0.340 |\n",
       "| Low     | 0.10 | 0.27 | 0.35 | 0.45 | 0.05 | VeryLow | 0.250 | 0.225 |\n",
       "| High    | 0.22 | 0.31 | 0.42 | 0.88 | 0.80 | High    | 0.840 | 0.320 |\n",
       "| VeryLow | 0.00 | 0.25 | 0.50 | 0.09 | 0.07 | VeryLow | 0.080 | 0.250 |\n",
       "| Low     | 0.05 | 0.29 | 0.58 | 0.14 | 0.32 | Low     | 0.230 | 0.315 |\n",
       "| Middle  | 0.10 | 0.30 | 0.58 | 0.28 | 0.55 | Middle  | 0.415 | 0.340 |\n",
       "| High    | 0.20 | 0.32 | 0.65 | 0.31 | 0.89 | High    | 0.600 | 0.425 |\n",
       "| Middle  | 0.19 | 0.28 | 0.57 | 0.58 | 0.17 | Low     | 0.375 | 0.380 |\n",
       "| Low     | 0.11 | 0.26 | 0.56 | 0.68 | 0.27 | Low     | 0.475 | 0.335 |\n",
       "| Low     | 0.12 | 0.28 | 0.70 | 0.16 | 0.32 | Low     | 0.240 | 0.410 |\n",
       "| Middle  | 0.18 | 0.29 | 0.78 | 0.15 | 0.61 | Middle  | 0.380 | 0.480 |\n",
       "| VeryLow | 0.20 | 0.25 | 0.70 | 0.25 | 0.03 | VeryLow | 0.140 | 0.450 |\n",
       "| Low     | 0.16 | 0.28 | 0.72 | 0.27 | 0.32 | Low     | 0.295 | 0.440 |\n",
       "| Middle  | 0.11 | 0.30 | 0.79 | 0.80 | 0.32 | Middle  | 0.560 | 0.450 |\n",
       "| Middle  | 0.18 | 0.31 | 0.81 | 0.70 | 0.40 | Middle  | 0.550 | 0.495 |\n",
       "| Low     | 0.10 | 0.33 | 0.02 | 0.00 | 0.25 | VeryLow | 0.125 | 0.060 |\n",
       "| ⋮ | ⋮ | ⋮ | ⋮ | ⋮ | ⋮ | ⋮ | ⋮ | ⋮ |\n",
       "| Low     | 0.60 | 0.08 | 0.13 | 0.14 | 0.32 | Low     | 0.230 | 0.365 |\n",
       "| High    | 0.80 | 0.24 | 0.23 | 0.29 | 0.98 | High    | 0.635 | 0.515 |\n",
       "| Middle  | 0.65 | 0.09 | 0.16 | 0.49 | 0.31 | Low     | 0.400 | 0.405 |\n",
       "| High    | 0.68 | 0.16 | 0.20 | 0.59 | 0.60 | Middle  | 0.595 | 0.440 |\n",
       "| High    | 0.75 | 0.22 | 0.24 | 0.96 | 0.62 | High    | 0.790 | 0.495 |\n",
       "| High    | 0.87 | 0.23 | 0.25 | 0.85 | 0.80 | High    | 0.825 | 0.560 |\n",
       "| VeryLow | 0.52 | 0.08 | 0.33 | 0.07 | 0.09 | VeryLow | 0.080 | 0.425 |\n",
       "| Middle  | 0.62 | 0.12 | 0.36 | 0.36 | 0.32 | Low     | 0.340 | 0.490 |\n",
       "| Middle  | 0.68 | 0.15 | 0.58 | 0.35 | 0.60 | Middle  | 0.475 | 0.630 |\n",
       "| VeryLow | 0.54 | 0.25 | 0.07 | 0.09 | 0.11 | VeryLow | 0.100 | 0.305 |\n",
       "| High    | 0.90 | 0.31 | 0.24 | 0.30 | 0.97 | High    | 0.635 | 0.570 |\n",
       "| Middle  | 0.56 | 0.27 | 0.11 | 0.59 | 0.22 | Low     | 0.405 | 0.335 |\n",
       "| High    | 0.85 | 0.32 | 0.22 | 0.87 | 0.79 | High    | 0.830 | 0.535 |\n",
       "| VeryLow | 0.52 | 0.28 | 0.32 | 0.10 | 0.10 | VeryLow | 0.100 | 0.420 |\n",
       "| High    | 0.78 | 0.47 | 0.24 | 0.30 | 0.93 | High    | 0.615 | 0.510 |\n",
       "| Middle  | 0.56 | 0.35 | 0.10 | 0.62 | 0.23 | Low     | 0.425 | 0.330 |\n",
       "| Low     | 0.61 | 0.38 | 0.09 | 0.38 | 0.30 | Low     | 0.340 | 0.350 |\n",
       "| High    | 0.78 | 0.47 | 0.29 | 0.98 | 0.59 | High    | 0.785 | 0.535 |\n",
       "| Low     | 0.58 | 0.40 | 0.32 | 0.22 | 0.24 | Low     | 0.230 | 0.450 |\n",
       "| High    | 0.68 | 0.43 | 0.60 | 0.47 | 0.55 | Middle  | 0.510 | 0.640 |\n",
       "| Low     | 0.57 | 0.37 | 0.75 | 0.27 | 0.32 | Low     | 0.295 | 0.660 |\n",
       "| Low     | 0.62 | 0.56 | 0.11 | 0.24 | 0.22 | Low     | 0.230 | 0.365 |\n",
       "| Low     | 0.64 | 0.58 | 0.14 | 0.32 | 0.21 | Low     | 0.265 | 0.390 |\n",
       "| Middle  | 0.64 | 0.59 | 0.12 | 0.58 | 0.24 | Low     | 0.410 | 0.380 |\n",
       "| Low     | 0.68 | 0.61 | 0.34 | 0.31 | 0.23 | Low     | 0.270 | 0.510 |\n",
       "| High    | 0.90 | 0.78 | 0.62 | 0.32 | 0.89 | High    | 0.605 | 0.760 |\n",
       "| High    | 0.85 | 0.82 | 0.66 | 0.83 | 0.83 | High    | 0.830 | 0.755 |\n",
       "| Low     | 0.56 | 0.60 | 0.77 | 0.13 | 0.32 | Low     | 0.225 | 0.665 |\n",
       "| Middle  | 0.66 | 0.68 | 0.81 | 0.57 | 0.57 | Middle  | 0.570 | 0.735 |\n",
       "| High    | 0.68 | 0.64 | 0.79 | 0.97 | 0.24 | Middle  | 0.605 | 0.735 |\n",
       "\n"
      ],
      "text/plain": [
       "    .pred_class STG  SCG  STR  LPR  PEG  UNS     TEP   TST  \n",
       "1   VeryLow     0.00 0.10 0.50 0.26 0.05 VeryLow 0.155 0.250\n",
       "2   Low         0.05 0.05 0.55 0.60 0.14 Low     0.370 0.300\n",
       "3   High        0.08 0.18 0.63 0.60 0.85 High    0.725 0.355\n",
       "4   High        0.20 0.20 0.68 0.67 0.85 High    0.760 0.440\n",
       "5   High        0.22 0.22 0.90 0.30 0.90 High    0.600 0.560\n",
       "6   Middle      0.14 0.14 0.70 0.50 0.30 Low     0.400 0.420\n",
       "7   Low         0.16 0.16 0.80 0.50 0.50 Middle  0.500 0.480\n",
       "8   Middle      0.12 0.12 0.75 0.68 0.15 Low     0.415 0.435\n",
       "9   High        0.20 0.20 0.88 0.77 0.80 High    0.785 0.540\n",
       "10  VeryLow     0.16 0.25 0.01 0.10 0.07 VeryLow 0.085 0.085\n",
       "11  Low         0.11 0.29 0.20 0.05 0.66 Middle  0.355 0.155\n",
       "12  Low         0.18 0.26 0.05 0.40 0.04 VeryLow 0.220 0.115\n",
       "13  High        0.21 0.32 0.25 0.50 0.80 High    0.650 0.230\n",
       "14  Low         0.13 0.28 0.18 0.75 0.32 Middle  0.535 0.155\n",
       "15  High        0.23 0.29 0.45 0.18 0.88 High    0.530 0.340\n",
       "16  Low         0.10 0.27 0.35 0.45 0.05 VeryLow 0.250 0.225\n",
       "17  High        0.22 0.31 0.42 0.88 0.80 High    0.840 0.320\n",
       "18  VeryLow     0.00 0.25 0.50 0.09 0.07 VeryLow 0.080 0.250\n",
       "19  Low         0.05 0.29 0.58 0.14 0.32 Low     0.230 0.315\n",
       "20  Middle      0.10 0.30 0.58 0.28 0.55 Middle  0.415 0.340\n",
       "21  High        0.20 0.32 0.65 0.31 0.89 High    0.600 0.425\n",
       "22  Middle      0.19 0.28 0.57 0.58 0.17 Low     0.375 0.380\n",
       "23  Low         0.11 0.26 0.56 0.68 0.27 Low     0.475 0.335\n",
       "24  Low         0.12 0.28 0.70 0.16 0.32 Low     0.240 0.410\n",
       "25  Middle      0.18 0.29 0.78 0.15 0.61 Middle  0.380 0.480\n",
       "26  VeryLow     0.20 0.25 0.70 0.25 0.03 VeryLow 0.140 0.450\n",
       "27  Low         0.16 0.28 0.72 0.27 0.32 Low     0.295 0.440\n",
       "28  Middle      0.11 0.30 0.79 0.80 0.32 Middle  0.560 0.450\n",
       "29  Middle      0.18 0.31 0.81 0.70 0.40 Middle  0.550 0.495\n",
       "30  Low         0.10 0.33 0.02 0.00 0.25 VeryLow 0.125 0.060\n",
       "⋮   ⋮           ⋮    ⋮    ⋮    ⋮    ⋮    ⋮       ⋮     ⋮    \n",
       "116 Low         0.60 0.08 0.13 0.14 0.32 Low     0.230 0.365\n",
       "117 High        0.80 0.24 0.23 0.29 0.98 High    0.635 0.515\n",
       "118 Middle      0.65 0.09 0.16 0.49 0.31 Low     0.400 0.405\n",
       "119 High        0.68 0.16 0.20 0.59 0.60 Middle  0.595 0.440\n",
       "120 High        0.75 0.22 0.24 0.96 0.62 High    0.790 0.495\n",
       "121 High        0.87 0.23 0.25 0.85 0.80 High    0.825 0.560\n",
       "122 VeryLow     0.52 0.08 0.33 0.07 0.09 VeryLow 0.080 0.425\n",
       "123 Middle      0.62 0.12 0.36 0.36 0.32 Low     0.340 0.490\n",
       "124 Middle      0.68 0.15 0.58 0.35 0.60 Middle  0.475 0.630\n",
       "125 VeryLow     0.54 0.25 0.07 0.09 0.11 VeryLow 0.100 0.305\n",
       "126 High        0.90 0.31 0.24 0.30 0.97 High    0.635 0.570\n",
       "127 Middle      0.56 0.27 0.11 0.59 0.22 Low     0.405 0.335\n",
       "128 High        0.85 0.32 0.22 0.87 0.79 High    0.830 0.535\n",
       "129 VeryLow     0.52 0.28 0.32 0.10 0.10 VeryLow 0.100 0.420\n",
       "130 High        0.78 0.47 0.24 0.30 0.93 High    0.615 0.510\n",
       "131 Middle      0.56 0.35 0.10 0.62 0.23 Low     0.425 0.330\n",
       "132 Low         0.61 0.38 0.09 0.38 0.30 Low     0.340 0.350\n",
       "133 High        0.78 0.47 0.29 0.98 0.59 High    0.785 0.535\n",
       "134 Low         0.58 0.40 0.32 0.22 0.24 Low     0.230 0.450\n",
       "135 High        0.68 0.43 0.60 0.47 0.55 Middle  0.510 0.640\n",
       "136 Low         0.57 0.37 0.75 0.27 0.32 Low     0.295 0.660\n",
       "137 Low         0.62 0.56 0.11 0.24 0.22 Low     0.230 0.365\n",
       "138 Low         0.64 0.58 0.14 0.32 0.21 Low     0.265 0.390\n",
       "139 Middle      0.64 0.59 0.12 0.58 0.24 Low     0.410 0.380\n",
       "140 Low         0.68 0.61 0.34 0.31 0.23 Low     0.270 0.510\n",
       "141 High        0.90 0.78 0.62 0.32 0.89 High    0.605 0.760\n",
       "142 High        0.85 0.82 0.66 0.83 0.83 High    0.830 0.755\n",
       "143 Low         0.56 0.60 0.77 0.13 0.32 Low     0.225 0.665\n",
       "144 Middle      0.66 0.68 0.81 0.57 0.57 Middle  0.570 0.735\n",
       "145 High        0.68 0.64 0.79 0.97 0.24 Middle  0.605 0.735"
      ]
     },
     "metadata": {},
     "output_type": "display_data"
    }
   ],
   "source": [
    "knowledge_model <- workflow() %>%\n",
    "      add_recipe(knowledge_recipe) %>%\n",
    "      add_model(knowledge_best) %>%\n",
    "      fit(data = mutated_data)\n",
    "knowledge_predict <- predict(knowledge_model,new_data = knowledge_mutated_testing) %>% bind_cols(knowledge_mutated_testing)\n",
    "knowledge_predict\n"
   ]
  },
  {
   "cell_type": "code",
   "execution_count": 153,
   "metadata": {},
   "outputs": [
    {
     "data": {
      "text/html": [
       "<table>\n",
       "<caption>A tibble: 2 × 3</caption>\n",
       "<thead>\n",
       "\t<tr><th scope=col>.metric</th><th scope=col>.estimator</th><th scope=col>.estimate</th></tr>\n",
       "\t<tr><th scope=col>&lt;chr&gt;</th><th scope=col>&lt;chr&gt;</th><th scope=col>&lt;dbl&gt;</th></tr>\n",
       "</thead>\n",
       "<tbody>\n",
       "\t<tr><td>accuracy</td><td>multiclass</td><td>0.6965517</td></tr>\n",
       "\t<tr><td>kap     </td><td>multiclass</td><td>0.5890764</td></tr>\n",
       "</tbody>\n",
       "</table>\n"
      ],
      "text/latex": [
       "A tibble: 2 × 3\n",
       "\\begin{tabular}{lll}\n",
       " .metric & .estimator & .estimate\\\\\n",
       " <chr> & <chr> & <dbl>\\\\\n",
       "\\hline\n",
       "\t accuracy & multiclass & 0.6965517\\\\\n",
       "\t kap      & multiclass & 0.5890764\\\\\n",
       "\\end{tabular}\n"
      ],
      "text/markdown": [
       "\n",
       "A tibble: 2 × 3\n",
       "\n",
       "| .metric &lt;chr&gt; | .estimator &lt;chr&gt; | .estimate &lt;dbl&gt; |\n",
       "|---|---|---|\n",
       "| accuracy | multiclass | 0.6965517 |\n",
       "| kap      | multiclass | 0.5890764 |\n",
       "\n"
      ],
      "text/plain": [
       "  .metric  .estimator .estimate\n",
       "1 accuracy multiclass 0.6965517\n",
       "2 kap      multiclass 0.5890764"
      ]
     },
     "metadata": {},
     "output_type": "display_data"
    },
    {
     "data": {
      "text/plain": [
       "          Truth\n",
       "Prediction VeryLow Low Middle High\n",
       "   VeryLow      21   3      0    0\n",
       "   Low           5  29      9    0\n",
       "   Middle        0  13     14    2\n",
       "   High          0   1     11   37"
      ]
     },
     "metadata": {},
     "output_type": "display_data"
    }
   ],
   "source": [
    "knowledge_prediction_accuracy<- knowledge_predict %>% metrics(truth = UNS, estimate = .pred_class)\n",
    "knowledge_matrix <- knowledge_predict %>% conf_mat(truth = UNS, estimate = .pred_class)\n",
    "knowledge_prediction_accuracy\n",
    "knowledge_matrix"
   ]
  },
  {
   "cell_type": "code",
   "execution_count": null,
   "metadata": {},
   "outputs": [],
   "source": []
  },
  {
   "cell_type": "code",
   "execution_count": null,
   "metadata": {},
   "outputs": [],
   "source": []
  },
  {
   "cell_type": "code",
   "execution_count": null,
   "metadata": {},
   "outputs": [],
   "source": []
  }
 ],
 "metadata": {
  "kernelspec": {
   "display_name": "R",
   "language": "R",
   "name": "ir"
  },
  "language_info": {
   "codemirror_mode": "r",
   "file_extension": ".r",
   "mimetype": "text/x-r-source",
   "name": "R",
   "pygments_lexer": "r",
   "version": "4.0.0"
  }
 },
 "nbformat": 4,
 "nbformat_minor": 4
}
