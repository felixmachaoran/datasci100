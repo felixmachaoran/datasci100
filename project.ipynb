{
 "cells": [
  {
   "cell_type": "code",
   "execution_count": null,
   "metadata": {},
   "outputs": [],
   "source": []
  },
  {
   "cell_type": "markdown",
   "metadata": {},
   "source": [
    "# Predicting User Knowledge Based on Overall Exam Scores and Study Time\n",
    "\n"
   ]
  },
  {
   "cell_type": "markdown",
   "metadata": {},
   "source": [
    "## Introduction\n",
    "\n",
    "In this project, we will use classification to predict individuals’ knowledge levels using average exam performance and study time, whose relationships have implications in education. The interplay between study time, exam performance, and overall knowledge of a given subject area is a topic of much debate in the scientific and academic communities, and while most would agree that all factors are related, not everyone agrees on how, despite the consensus that study time positively correlates with exam performance, which indicates superior comprehension. In the process of predicting the knowledge level of an individual, we hope to shed light on the correlations, or lack thereof, between exam performance, study time and overall knowledge.\n",
    "\n"
   ]
  },
  {
   "cell_type": "markdown",
   "metadata": {},
   "source": [
    "### Question\n",
    "\n",
    "**Can we predict the user knowledge level of an individual based on overall exam performance (the averages of exam scores by row) and study time (the averages of study times by row)?**"
   ]
  },
  {
   "cell_type": "markdown",
   "metadata": {},
   "source": [
    "We will use the “User Knowledge” dataset from the list of recommended datasets.\n",
    "\n",
    "Our dataset contains six columns:\n",
    "- `STG` (The degree of study time for goal object materails),\n",
    "- `SCG` (The degree of repetition number of user for goal object materails)\n",
    "- `STR` (The degree of study time of user for related objects with goal object)\n",
    "- `LPR` (The exam performance of user for related objects with goal object)\n",
    "- `PEG` (The exam performance of user for goal objects)\n",
    "- `UNS` (The knowledge level of user) \n",
    "\n",
    "Each column describes a value (measured by the authors of the dataset) related to the knowledge level of the individual or their performance on a task related to that knowledge (i.e., study time or exam performance). We will use `STG`, `STR`, `LPR`, and `PEG` to predict `UNS`. \n"
   ]
  },
  {
   "cell_type": "markdown",
   "metadata": {},
   "source": [
    "## Preliminary exploratory data analysis"
   ]
  },
  {
   "cell_type": "code",
   "execution_count": 1,
   "metadata": {},
   "outputs": [
    {
     "name": "stderr",
     "output_type": "stream",
     "text": [
      "Warning message:\n",
      "\"package 'tidyverse' was built under R version 4.0.2\"\n",
      "-- \u001b[1mAttaching packages\u001b[22m --------------------------------------- tidyverse 1.3.1 --\n",
      "\n",
      "\u001b[32mv\u001b[39m \u001b[34mggplot2\u001b[39m 3.3.5     \u001b[32mv\u001b[39m \u001b[34mpurrr  \u001b[39m 0.3.4\n",
      "\u001b[32mv\u001b[39m \u001b[34mtibble \u001b[39m 3.1.6     \u001b[32mv\u001b[39m \u001b[34mdplyr  \u001b[39m 1.0.7\n",
      "\u001b[32mv\u001b[39m \u001b[34mtidyr  \u001b[39m 1.1.4     \u001b[32mv\u001b[39m \u001b[34mstringr\u001b[39m 1.4.0\n",
      "\u001b[32mv\u001b[39m \u001b[34mreadr  \u001b[39m 2.0.1     \u001b[32mv\u001b[39m \u001b[34mforcats\u001b[39m 0.5.1\n",
      "\n",
      "Warning message:\n",
      "\"package 'ggplot2' was built under R version 4.0.2\"\n",
      "Warning message:\n",
      "\"package 'tibble' was built under R version 4.0.2\"\n",
      "Warning message:\n",
      "\"package 'tidyr' was built under R version 4.0.2\"\n",
      "Warning message:\n",
      "\"package 'readr' was built under R version 4.0.2\"\n",
      "Warning message:\n",
      "\"package 'purrr' was built under R version 4.0.2\"\n",
      "Warning message:\n",
      "\"package 'dplyr' was built under R version 4.0.2\"\n",
      "Warning message:\n",
      "\"package 'stringr' was built under R version 4.0.2\"\n",
      "Warning message:\n",
      "\"package 'forcats' was built under R version 4.0.2\"\n",
      "-- \u001b[1mConflicts\u001b[22m ------------------------------------------ tidyverse_conflicts() --\n",
      "\u001b[31mx\u001b[39m \u001b[34mdplyr\u001b[39m::\u001b[32mfilter()\u001b[39m masks \u001b[34mstats\u001b[39m::filter()\n",
      "\u001b[31mx\u001b[39m \u001b[34mdplyr\u001b[39m::\u001b[32mlag()\u001b[39m    masks \u001b[34mstats\u001b[39m::lag()\n",
      "\n",
      "Warning message:\n",
      "\"package 'tidymodels' was built under R version 4.0.2\"\n",
      "Registered S3 method overwritten by 'tune':\n",
      "  method                   from   \n",
      "  required_pkgs.model_spec parsnip\n",
      "\n",
      "-- \u001b[1mAttaching packages\u001b[22m -------------------------------------- tidymodels 0.1.4 --\n",
      "\n",
      "\u001b[32mv\u001b[39m \u001b[34mbroom       \u001b[39m 0.7.9      \u001b[32mv\u001b[39m \u001b[34mrsample     \u001b[39m 0.1.1 \n",
      "\u001b[32mv\u001b[39m \u001b[34mdials       \u001b[39m 0.0.10     \u001b[32mv\u001b[39m \u001b[34mtune        \u001b[39m 0.1.6 \n",
      "\u001b[32mv\u001b[39m \u001b[34minfer       \u001b[39m 1.0.0      \u001b[32mv\u001b[39m \u001b[34mworkflows   \u001b[39m 0.2.4 \n",
      "\u001b[32mv\u001b[39m \u001b[34mmodeldata   \u001b[39m 0.1.1      \u001b[32mv\u001b[39m \u001b[34mworkflowsets\u001b[39m 0.1.0 \n",
      "\u001b[32mv\u001b[39m \u001b[34mparsnip     \u001b[39m 0.1.7      \u001b[32mv\u001b[39m \u001b[34myardstick   \u001b[39m 0.0.8 \n",
      "\u001b[32mv\u001b[39m \u001b[34mrecipes     \u001b[39m 0.1.17     \n",
      "\n",
      "Warning message:\n",
      "\"package 'broom' was built under R version 4.0.2\"\n",
      "Warning message:\n",
      "\"package 'dials' was built under R version 4.0.2\"\n",
      "Warning message:\n",
      "\"package 'scales' was built under R version 4.0.2\"\n",
      "Warning message:\n",
      "\"package 'infer' was built under R version 4.0.2\"\n",
      "Warning message:\n",
      "\"package 'modeldata' was built under R version 4.0.2\"\n",
      "Warning message:\n",
      "\"package 'parsnip' was built under R version 4.0.2\"\n",
      "Warning message:\n",
      "\"package 'recipes' was built under R version 4.0.2\"\n",
      "Warning message:\n",
      "\"package 'rsample' was built under R version 4.0.2\"\n",
      "Warning message:\n",
      "\"package 'tune' was built under R version 4.0.2\"\n",
      "Warning message:\n",
      "\"package 'workflows' was built under R version 4.0.2\"\n",
      "Warning message:\n",
      "\"package 'workflowsets' was built under R version 4.0.2\"\n",
      "Warning message:\n",
      "\"package 'yardstick' was built under R version 4.0.2\"\n",
      "-- \u001b[1mConflicts\u001b[22m ----------------------------------------- tidymodels_conflicts() --\n",
      "\u001b[31mx\u001b[39m \u001b[34mscales\u001b[39m::\u001b[32mdiscard()\u001b[39m masks \u001b[34mpurrr\u001b[39m::discard()\n",
      "\u001b[31mx\u001b[39m \u001b[34mdplyr\u001b[39m::\u001b[32mfilter()\u001b[39m   masks \u001b[34mstats\u001b[39m::filter()\n",
      "\u001b[31mx\u001b[39m \u001b[34mrecipes\u001b[39m::\u001b[32mfixed()\u001b[39m  masks \u001b[34mstringr\u001b[39m::fixed()\n",
      "\u001b[31mx\u001b[39m \u001b[34mdplyr\u001b[39m::\u001b[32mlag()\u001b[39m      masks \u001b[34mstats\u001b[39m::lag()\n",
      "\u001b[31mx\u001b[39m \u001b[34myardstick\u001b[39m::\u001b[32mspec()\u001b[39m masks \u001b[34mreadr\u001b[39m::spec()\n",
      "\u001b[31mx\u001b[39m \u001b[34mrecipes\u001b[39m::\u001b[32mstep()\u001b[39m   masks \u001b[34mstats\u001b[39m::step()\n",
      "\u001b[34m*\u001b[39m Dig deeper into tidy modeling with R at \u001b[32mhttps://www.tmwr.org\u001b[39m\n",
      "\n",
      "Warning message:\n",
      "\"package 'repr' was built under R version 4.0.2\"\n",
      "Warning message:\n",
      "\"package 'readxl' was built under R version 4.0.2\"\n"
     ]
    }
   ],
   "source": [
    "library(tidyverse)\n",
    "library(tidymodels)\n",
    "library(repr)\n",
    "library(readxl)\n",
    "library(stringr)\n",
    "library(dplyr)\n",
    "set.seed(2021)"
   ]
  },
  {
   "cell_type": "code",
   "execution_count": 2,
   "metadata": {},
   "outputs": [
    {
     "name": "stderr",
     "output_type": "stream",
     "text": [
      "New names:\n",
      "* `` -> ...7\n",
      "* `` -> ...8\n",
      "\n",
      "New names:\n",
      "* `` -> ...7\n",
      "* `` -> ...8\n",
      "\n"
     ]
    }
   ],
   "source": [
    "url <- \"https://archive.ics.uci.edu/ml/machine-learning-databases/00257/Data_User_Modeling_Dataset_Hamdi%20Tolga%20KAHRAMAN.xls\"\n",
    "dest <- tempfile()\n",
    "download.file(url, dest, mode=\"wb\")\n",
    "raw_tr_data <-read_excel(path = dest, sheet = \"Training_Data\")\n",
    "data_tr <- select(raw_tr_data, 1:6)\n",
    "raw_te_data <-read_excel(path = dest, sheet = \"Test_Data\")\n",
    "data_te <- select(raw_te_data, 1:6)\n"
   ]
  },
  {
   "cell_type": "code",
   "execution_count": 3,
   "metadata": {},
   "outputs": [],
   "source": [
    "data_tr <- mutate(data_tr, UNS = as_factor(UNS))\n",
    "levels(data_tr$UNS) <- list(VeryLow = \"very_low\", Low = \"Low\", Middle = \"Middle\", High = \"High\")\n",
    "data_te <- mutate(data_te, UNS = as_factor(UNS))\n",
    "levels(data_te$UNS) <- list(VeryLow = \"Very Low\", Low = \"Low\", Middle = \"Middle\", High = \"High\")"
   ]
  },
  {
   "cell_type": "code",
   "execution_count": 4,
   "metadata": {},
   "outputs": [
    {
     "data": {
      "text/html": [
       "<table class=\"dataframe\">\n",
       "<caption>A tibble: 6 × 6</caption>\n",
       "<thead>\n",
       "\t<tr><th scope=col>STG</th><th scope=col>SCG</th><th scope=col>STR</th><th scope=col>LPR</th><th scope=col>PEG</th><th scope=col>UNS</th></tr>\n",
       "\t<tr><th scope=col>&lt;dbl&gt;</th><th scope=col>&lt;dbl&gt;</th><th scope=col>&lt;dbl&gt;</th><th scope=col>&lt;dbl&gt;</th><th scope=col>&lt;dbl&gt;</th><th scope=col>&lt;fct&gt;</th></tr>\n",
       "</thead>\n",
       "<tbody>\n",
       "\t<tr><td>0.00</td><td>0.00</td><td>0.00</td><td>0.00</td><td>0.00</td><td>VeryLow</td></tr>\n",
       "\t<tr><td>0.08</td><td>0.08</td><td>0.10</td><td>0.24</td><td>0.90</td><td>High   </td></tr>\n",
       "\t<tr><td>0.06</td><td>0.06</td><td>0.05</td><td>0.25</td><td>0.33</td><td>Low    </td></tr>\n",
       "\t<tr><td>0.10</td><td>0.10</td><td>0.15</td><td>0.65</td><td>0.30</td><td>Middle </td></tr>\n",
       "\t<tr><td>0.08</td><td>0.08</td><td>0.08</td><td>0.98</td><td>0.24</td><td>Low    </td></tr>\n",
       "\t<tr><td>0.09</td><td>0.15</td><td>0.40</td><td>0.10</td><td>0.66</td><td>Middle </td></tr>\n",
       "</tbody>\n",
       "</table>\n"
      ],
      "text/latex": [
       "A tibble: 6 × 6\n",
       "\\begin{tabular}{llllll}\n",
       " STG & SCG & STR & LPR & PEG & UNS\\\\\n",
       " <dbl> & <dbl> & <dbl> & <dbl> & <dbl> & <fct>\\\\\n",
       "\\hline\n",
       "\t 0.00 & 0.00 & 0.00 & 0.00 & 0.00 & VeryLow\\\\\n",
       "\t 0.08 & 0.08 & 0.10 & 0.24 & 0.90 & High   \\\\\n",
       "\t 0.06 & 0.06 & 0.05 & 0.25 & 0.33 & Low    \\\\\n",
       "\t 0.10 & 0.10 & 0.15 & 0.65 & 0.30 & Middle \\\\\n",
       "\t 0.08 & 0.08 & 0.08 & 0.98 & 0.24 & Low    \\\\\n",
       "\t 0.09 & 0.15 & 0.40 & 0.10 & 0.66 & Middle \\\\\n",
       "\\end{tabular}\n"
      ],
      "text/markdown": [
       "\n",
       "A tibble: 6 × 6\n",
       "\n",
       "| STG &lt;dbl&gt; | SCG &lt;dbl&gt; | STR &lt;dbl&gt; | LPR &lt;dbl&gt; | PEG &lt;dbl&gt; | UNS &lt;fct&gt; |\n",
       "|---|---|---|---|---|---|\n",
       "| 0.00 | 0.00 | 0.00 | 0.00 | 0.00 | VeryLow |\n",
       "| 0.08 | 0.08 | 0.10 | 0.24 | 0.90 | High    |\n",
       "| 0.06 | 0.06 | 0.05 | 0.25 | 0.33 | Low     |\n",
       "| 0.10 | 0.10 | 0.15 | 0.65 | 0.30 | Middle  |\n",
       "| 0.08 | 0.08 | 0.08 | 0.98 | 0.24 | Low     |\n",
       "| 0.09 | 0.15 | 0.40 | 0.10 | 0.66 | Middle  |\n",
       "\n"
      ],
      "text/plain": [
       "  STG  SCG  STR  LPR  PEG  UNS    \n",
       "1 0.00 0.00 0.00 0.00 0.00 VeryLow\n",
       "2 0.08 0.08 0.10 0.24 0.90 High   \n",
       "3 0.06 0.06 0.05 0.25 0.33 Low    \n",
       "4 0.10 0.10 0.15 0.65 0.30 Middle \n",
       "5 0.08 0.08 0.08 0.98 0.24 Low    \n",
       "6 0.09 0.15 0.40 0.10 0.66 Middle "
      ]
     },
     "metadata": {},
     "output_type": "display_data"
    }
   ],
   "source": [
    "head(data_tr)"
   ]
  },
  {
   "cell_type": "markdown",
   "metadata": {},
   "source": [
    "Table 1: preview of training set of dataset"
   ]
  },
  {
   "cell_type": "code",
   "execution_count": 5,
   "metadata": {},
   "outputs": [
    {
     "data": {
      "text/html": [
       "<table class=\"dataframe\">\n",
       "<caption>A tibble: 6 × 6</caption>\n",
       "<thead>\n",
       "\t<tr><th scope=col>STG</th><th scope=col>SCG</th><th scope=col>STR</th><th scope=col>LPR</th><th scope=col>PEG</th><th scope=col>UNS</th></tr>\n",
       "\t<tr><th scope=col>&lt;dbl&gt;</th><th scope=col>&lt;dbl&gt;</th><th scope=col>&lt;dbl&gt;</th><th scope=col>&lt;dbl&gt;</th><th scope=col>&lt;dbl&gt;</th><th scope=col>&lt;fct&gt;</th></tr>\n",
       "</thead>\n",
       "<tbody>\n",
       "\t<tr><td>0.00</td><td>0.10</td><td>0.50</td><td>0.26</td><td>0.05</td><td>VeryLow</td></tr>\n",
       "\t<tr><td>0.05</td><td>0.05</td><td>0.55</td><td>0.60</td><td>0.14</td><td>Low    </td></tr>\n",
       "\t<tr><td>0.08</td><td>0.18</td><td>0.63</td><td>0.60</td><td>0.85</td><td>High   </td></tr>\n",
       "\t<tr><td>0.20</td><td>0.20</td><td>0.68</td><td>0.67</td><td>0.85</td><td>High   </td></tr>\n",
       "\t<tr><td>0.22</td><td>0.22</td><td>0.90</td><td>0.30</td><td>0.90</td><td>High   </td></tr>\n",
       "\t<tr><td>0.14</td><td>0.14</td><td>0.70</td><td>0.50</td><td>0.30</td><td>Low    </td></tr>\n",
       "</tbody>\n",
       "</table>\n"
      ],
      "text/latex": [
       "A tibble: 6 × 6\n",
       "\\begin{tabular}{llllll}\n",
       " STG & SCG & STR & LPR & PEG & UNS\\\\\n",
       " <dbl> & <dbl> & <dbl> & <dbl> & <dbl> & <fct>\\\\\n",
       "\\hline\n",
       "\t 0.00 & 0.10 & 0.50 & 0.26 & 0.05 & VeryLow\\\\\n",
       "\t 0.05 & 0.05 & 0.55 & 0.60 & 0.14 & Low    \\\\\n",
       "\t 0.08 & 0.18 & 0.63 & 0.60 & 0.85 & High   \\\\\n",
       "\t 0.20 & 0.20 & 0.68 & 0.67 & 0.85 & High   \\\\\n",
       "\t 0.22 & 0.22 & 0.90 & 0.30 & 0.90 & High   \\\\\n",
       "\t 0.14 & 0.14 & 0.70 & 0.50 & 0.30 & Low    \\\\\n",
       "\\end{tabular}\n"
      ],
      "text/markdown": [
       "\n",
       "A tibble: 6 × 6\n",
       "\n",
       "| STG &lt;dbl&gt; | SCG &lt;dbl&gt; | STR &lt;dbl&gt; | LPR &lt;dbl&gt; | PEG &lt;dbl&gt; | UNS &lt;fct&gt; |\n",
       "|---|---|---|---|---|---|\n",
       "| 0.00 | 0.10 | 0.50 | 0.26 | 0.05 | VeryLow |\n",
       "| 0.05 | 0.05 | 0.55 | 0.60 | 0.14 | Low     |\n",
       "| 0.08 | 0.18 | 0.63 | 0.60 | 0.85 | High    |\n",
       "| 0.20 | 0.20 | 0.68 | 0.67 | 0.85 | High    |\n",
       "| 0.22 | 0.22 | 0.90 | 0.30 | 0.90 | High    |\n",
       "| 0.14 | 0.14 | 0.70 | 0.50 | 0.30 | Low     |\n",
       "\n"
      ],
      "text/plain": [
       "  STG  SCG  STR  LPR  PEG  UNS    \n",
       "1 0.00 0.10 0.50 0.26 0.05 VeryLow\n",
       "2 0.05 0.05 0.55 0.60 0.14 Low    \n",
       "3 0.08 0.18 0.63 0.60 0.85 High   \n",
       "4 0.20 0.20 0.68 0.67 0.85 High   \n",
       "5 0.22 0.22 0.90 0.30 0.90 High   \n",
       "6 0.14 0.14 0.70 0.50 0.30 Low    "
      ]
     },
     "metadata": {},
     "output_type": "display_data"
    }
   ],
   "source": [
    "head(data_te)"
   ]
  },
  {
   "cell_type": "markdown",
   "metadata": {},
   "source": [
    "Table 2: preview of testing set of dataset"
   ]
  },
  {
   "cell_type": "code",
   "execution_count": 6,
   "metadata": {},
   "outputs": [
    {
     "data": {
      "text/html": [
       "258"
      ],
      "text/latex": [
       "258"
      ],
      "text/markdown": [
       "258"
      ],
      "text/plain": [
       "[1] 258"
      ]
     },
     "metadata": {},
     "output_type": "display_data"
    }
   ],
   "source": [
    "nrow(data_tr)\n",
    "# This shows the number of entries from the training dataset"
   ]
  },
  {
   "cell_type": "code",
   "execution_count": 7,
   "metadata": {},
   "outputs": [
    {
     "data": {
      "text/html": [
       "<table class=\"dataframe\">\n",
       "<caption>A tibble: 4 × 6</caption>\n",
       "<thead>\n",
       "\t<tr><th scope=col>UNS</th><th scope=col>n_rows</th><th scope=col>avg_STG</th><th scope=col>avg_STR</th><th scope=col>avg_LPR</th><th scope=col>avg_PEG</th></tr>\n",
       "\t<tr><th scope=col>&lt;fct&gt;</th><th scope=col>&lt;int&gt;</th><th scope=col>&lt;dbl&gt;</th><th scope=col>&lt;dbl&gt;</th><th scope=col>&lt;dbl&gt;</th><th scope=col>&lt;dbl&gt;</th></tr>\n",
       "</thead>\n",
       "<tbody>\n",
       "\t<tr><td>VeryLow</td><td>24</td><td>0.3057917</td><td>0.3662500</td><td>0.3587500</td><td>0.09083333</td></tr>\n",
       "\t<tr><td>Low    </td><td>83</td><td>0.3211446</td><td>0.4307229</td><td>0.4973494</td><td>0.23762651</td></tr>\n",
       "\t<tr><td>Middle </td><td>88</td><td>0.3999773</td><td>0.5068182</td><td>0.3428409</td><td>0.54238636</td></tr>\n",
       "\t<tr><td>High   </td><td>63</td><td>0.4216508</td><td>0.5016667</td><td>0.5012698</td><td>0.77253968</td></tr>\n",
       "</tbody>\n",
       "</table>\n"
      ],
      "text/latex": [
       "A tibble: 4 × 6\n",
       "\\begin{tabular}{llllll}\n",
       " UNS & n\\_rows & avg\\_STG & avg\\_STR & avg\\_LPR & avg\\_PEG\\\\\n",
       " <fct> & <int> & <dbl> & <dbl> & <dbl> & <dbl>\\\\\n",
       "\\hline\n",
       "\t VeryLow & 24 & 0.3057917 & 0.3662500 & 0.3587500 & 0.09083333\\\\\n",
       "\t Low     & 83 & 0.3211446 & 0.4307229 & 0.4973494 & 0.23762651\\\\\n",
       "\t Middle  & 88 & 0.3999773 & 0.5068182 & 0.3428409 & 0.54238636\\\\\n",
       "\t High    & 63 & 0.4216508 & 0.5016667 & 0.5012698 & 0.77253968\\\\\n",
       "\\end{tabular}\n"
      ],
      "text/markdown": [
       "\n",
       "A tibble: 4 × 6\n",
       "\n",
       "| UNS &lt;fct&gt; | n_rows &lt;int&gt; | avg_STG &lt;dbl&gt; | avg_STR &lt;dbl&gt; | avg_LPR &lt;dbl&gt; | avg_PEG &lt;dbl&gt; |\n",
       "|---|---|---|---|---|---|\n",
       "| VeryLow | 24 | 0.3057917 | 0.3662500 | 0.3587500 | 0.09083333 |\n",
       "| Low     | 83 | 0.3211446 | 0.4307229 | 0.4973494 | 0.23762651 |\n",
       "| Middle  | 88 | 0.3999773 | 0.5068182 | 0.3428409 | 0.54238636 |\n",
       "| High    | 63 | 0.4216508 | 0.5016667 | 0.5012698 | 0.77253968 |\n",
       "\n"
      ],
      "text/plain": [
       "  UNS     n_rows avg_STG   avg_STR   avg_LPR   avg_PEG   \n",
       "1 VeryLow 24     0.3057917 0.3662500 0.3587500 0.09083333\n",
       "2 Low     83     0.3211446 0.4307229 0.4973494 0.23762651\n",
       "3 Middle  88     0.3999773 0.5068182 0.3428409 0.54238636\n",
       "4 High    63     0.4216508 0.5016667 0.5012698 0.77253968"
      ]
     },
     "metadata": {},
     "output_type": "display_data"
    }
   ],
   "source": [
    "# the number of observations in each class and the mean value for each column in each class\n",
    "obs_count <- data_tr %>% \n",
    "             group_by(UNS) %>%\n",
    "             summarise(n_rows = length(UNS), \n",
    "                       avg_STG = mean(STG), \n",
    "                       avg_STR = mean(STR), \n",
    "                       avg_LPR = mean(LPR), \n",
    "                       avg_PEG = mean(PEG))\n",
    "obs_count"
   ]
  },
  {
   "cell_type": "markdown",
   "metadata": {},
   "source": [
    "Table 3: preview of testing set of dataset"
   ]
  },
  {
   "cell_type": "code",
   "execution_count": 16,
   "metadata": {},
   "outputs": [
    {
     "data": {
      "text/html": [
       "<table class=\"dataframe\">\n",
       "<caption>A tibble: 6 × 8</caption>\n",
       "<thead>\n",
       "\t<tr><th scope=col>STG</th><th scope=col>SCG</th><th scope=col>STR</th><th scope=col>LPR</th><th scope=col>PEG</th><th scope=col>UNS</th><th scope=col>TEP</th><th scope=col>TST</th></tr>\n",
       "\t<tr><th scope=col>&lt;dbl&gt;</th><th scope=col>&lt;dbl&gt;</th><th scope=col>&lt;dbl&gt;</th><th scope=col>&lt;dbl&gt;</th><th scope=col>&lt;dbl&gt;</th><th scope=col>&lt;fct&gt;</th><th scope=col>&lt;dbl&gt;</th><th scope=col>&lt;dbl&gt;</th></tr>\n",
       "</thead>\n",
       "<tbody>\n",
       "\t<tr><td>0.00</td><td>0.00</td><td>0.00</td><td>0.00</td><td>0.00</td><td>VeryLow</td><td>0.000</td><td>0.000</td></tr>\n",
       "\t<tr><td>0.08</td><td>0.08</td><td>0.10</td><td>0.24</td><td>0.90</td><td>High   </td><td>0.570</td><td>0.090</td></tr>\n",
       "\t<tr><td>0.06</td><td>0.06</td><td>0.05</td><td>0.25</td><td>0.33</td><td>Low    </td><td>0.290</td><td>0.055</td></tr>\n",
       "\t<tr><td>0.10</td><td>0.10</td><td>0.15</td><td>0.65</td><td>0.30</td><td>Middle </td><td>0.475</td><td>0.125</td></tr>\n",
       "\t<tr><td>0.08</td><td>0.08</td><td>0.08</td><td>0.98</td><td>0.24</td><td>Low    </td><td>0.610</td><td>0.080</td></tr>\n",
       "\t<tr><td>0.09</td><td>0.15</td><td>0.40</td><td>0.10</td><td>0.66</td><td>Middle </td><td>0.380</td><td>0.245</td></tr>\n",
       "</tbody>\n",
       "</table>\n"
      ],
      "text/latex": [
       "A tibble: 6 × 8\n",
       "\\begin{tabular}{llllllll}\n",
       " STG & SCG & STR & LPR & PEG & UNS & TEP & TST\\\\\n",
       " <dbl> & <dbl> & <dbl> & <dbl> & <dbl> & <fct> & <dbl> & <dbl>\\\\\n",
       "\\hline\n",
       "\t 0.00 & 0.00 & 0.00 & 0.00 & 0.00 & VeryLow & 0.000 & 0.000\\\\\n",
       "\t 0.08 & 0.08 & 0.10 & 0.24 & 0.90 & High    & 0.570 & 0.090\\\\\n",
       "\t 0.06 & 0.06 & 0.05 & 0.25 & 0.33 & Low     & 0.290 & 0.055\\\\\n",
       "\t 0.10 & 0.10 & 0.15 & 0.65 & 0.30 & Middle  & 0.475 & 0.125\\\\\n",
       "\t 0.08 & 0.08 & 0.08 & 0.98 & 0.24 & Low     & 0.610 & 0.080\\\\\n",
       "\t 0.09 & 0.15 & 0.40 & 0.10 & 0.66 & Middle  & 0.380 & 0.245\\\\\n",
       "\\end{tabular}\n"
      ],
      "text/markdown": [
       "\n",
       "A tibble: 6 × 8\n",
       "\n",
       "| STG &lt;dbl&gt; | SCG &lt;dbl&gt; | STR &lt;dbl&gt; | LPR &lt;dbl&gt; | PEG &lt;dbl&gt; | UNS &lt;fct&gt; | TEP &lt;dbl&gt; | TST &lt;dbl&gt; |\n",
       "|---|---|---|---|---|---|---|---|\n",
       "| 0.00 | 0.00 | 0.00 | 0.00 | 0.00 | VeryLow | 0.000 | 0.000 |\n",
       "| 0.08 | 0.08 | 0.10 | 0.24 | 0.90 | High    | 0.570 | 0.090 |\n",
       "| 0.06 | 0.06 | 0.05 | 0.25 | 0.33 | Low     | 0.290 | 0.055 |\n",
       "| 0.10 | 0.10 | 0.15 | 0.65 | 0.30 | Middle  | 0.475 | 0.125 |\n",
       "| 0.08 | 0.08 | 0.08 | 0.98 | 0.24 | Low     | 0.610 | 0.080 |\n",
       "| 0.09 | 0.15 | 0.40 | 0.10 | 0.66 | Middle  | 0.380 | 0.245 |\n",
       "\n"
      ],
      "text/plain": [
       "  STG  SCG  STR  LPR  PEG  UNS     TEP   TST  \n",
       "1 0.00 0.00 0.00 0.00 0.00 VeryLow 0.000 0.000\n",
       "2 0.08 0.08 0.10 0.24 0.90 High    0.570 0.090\n",
       "3 0.06 0.06 0.05 0.25 0.33 Low     0.290 0.055\n",
       "4 0.10 0.10 0.15 0.65 0.30 Middle  0.475 0.125\n",
       "5 0.08 0.08 0.08 0.98 0.24 Low     0.610 0.080\n",
       "6 0.09 0.15 0.40 0.10 0.66 Middle  0.380 0.245"
      ]
     },
     "metadata": {},
     "output_type": "display_data"
    }
   ],
   "source": [
    "# the means of the predictor variables you plan to use in your analysis\n",
    "# STG, STR, LPR and PEG to predict UNS\n",
    "# combine STG and STR (TST) and LPR and PEG (TEP) \n",
    "mutated_data <- data_tr %>%\n",
    "                mutate(TEP = (LPR + PEG)/2) %>%\n",
    "                mutate(TST = (STG + STR)/2)\n",
    "head(mutated_data)\n"
   ]
  },
  {
   "cell_type": "markdown",
   "metadata": {},
   "source": [
    "Table 4: preview of mutated training dataset with object data columns"
   ]
  },
  {
   "cell_type": "code",
   "execution_count": 17,
   "metadata": {},
   "outputs": [
    {
     "data": {
      "text/html": [
       "<table class=\"dataframe\">\n",
       "<caption>A tibble: 1 × 6</caption>\n",
       "<thead>\n",
       "\t<tr><th scope=col>STG</th><th scope=col>STR</th><th scope=col>LPR</th><th scope=col>PEG</th><th scope=col>TEP</th><th scope=col>TST</th></tr>\n",
       "\t<tr><th scope=col>&lt;dbl&gt;</th><th scope=col>&lt;dbl&gt;</th><th scope=col>&lt;dbl&gt;</th><th scope=col>&lt;dbl&gt;</th><th scope=col>&lt;dbl&gt;</th><th scope=col>&lt;dbl&gt;</th></tr>\n",
       "</thead>\n",
       "<tbody>\n",
       "\t<tr><td>0.3711473</td><td>0.4680039</td><td>0.4327132</td><td>0.4585388</td><td>0.445626</td><td>0.4195756</td></tr>\n",
       "</tbody>\n",
       "</table>\n"
      ],
      "text/latex": [
       "A tibble: 1 × 6\n",
       "\\begin{tabular}{llllll}\n",
       " STG & STR & LPR & PEG & TEP & TST\\\\\n",
       " <dbl> & <dbl> & <dbl> & <dbl> & <dbl> & <dbl>\\\\\n",
       "\\hline\n",
       "\t 0.3711473 & 0.4680039 & 0.4327132 & 0.4585388 & 0.445626 & 0.4195756\\\\\n",
       "\\end{tabular}\n"
      ],
      "text/markdown": [
       "\n",
       "A tibble: 1 × 6\n",
       "\n",
       "| STG &lt;dbl&gt; | STR &lt;dbl&gt; | LPR &lt;dbl&gt; | PEG &lt;dbl&gt; | TEP &lt;dbl&gt; | TST &lt;dbl&gt; |\n",
       "|---|---|---|---|---|---|\n",
       "| 0.3711473 | 0.4680039 | 0.4327132 | 0.4585388 | 0.445626 | 0.4195756 |\n",
       "\n"
      ],
      "text/plain": [
       "  STG       STR       LPR       PEG       TEP      TST      \n",
       "1 0.3711473 0.4680039 0.4327132 0.4585388 0.445626 0.4195756"
      ]
     },
     "metadata": {},
     "output_type": "display_data"
    }
   ],
   "source": [
    "mean_tr <- mutated_data %>%\n",
    "           select(-SCG, -UNS) %>%\n",
    "           map_df(mean, na.rm  = TRUE)\n",
    "mean_tr"
   ]
  },
  {
   "cell_type": "markdown",
   "metadata": {},
   "source": [
    "Table 5: view of all means of columns from knowledge"
   ]
  },
  {
   "cell_type": "code",
   "execution_count": 19,
   "metadata": {},
   "outputs": [
    {
     "data": {
      "text/html": [
       "0"
      ],
      "text/latex": [
       "0"
      ],
      "text/markdown": [
       "0"
      ],
      "text/plain": [
       "[1] 0"
      ]
     },
     "metadata": {},
     "output_type": "display_data"
    }
   ],
   "source": [
    "# count the missing value to test sample validity for future computation\n",
    "sum(is.na(data_tr))"
   ]
  },
  {
   "cell_type": "code",
   "execution_count": 127,
   "metadata": {},
   "outputs": [
    {
     "data": {
      "image/png": "[encoded data removed]",
      "text/plain": [
       "plot without title"
      ]
     },
     "metadata": {
      "image/png": {
       "height": 600,
       "width": 600
      }
     },
     "output_type": "display_data"
    }
   ],
   "source": [
    "# plot study time VS exam performance\n",
    "options(repr.plot.width = 10, repr.plot.height = 10)\n",
    "timeVSperform_plot <- mutated_data %>%\n",
    "                          ggplot(aes(x=TST, y=TEP))+\n",
    "                          geom_point(aes(colour= UNS ,shape=UNS))+\n",
    "                          labs(x=\"Study Time\", \n",
    "                               y=\"Exam Performance\", \n",
    "                               colour=\"Knowledge Level\", \n",
    "                               shape=\"Knowledge Level\")+\n",
    "                          theme(text = element_text(size=20))+\n",
    "                          ggtitle(\"Study Time VS Exam Performance\")\n",
    "timeVSperform_plot\n"
   ]
  },
  {
   "cell_type": "markdown",
   "metadata": {},
   "source": [
    "Figure 1: visualization of study time vs exam performance in categories of knowledge level"
   ]
  },
  {
   "cell_type": "markdown",
   "metadata": {},
   "source": [
    "## Methods \n"
   ]
  },
  {
   "cell_type": "markdown",
   "metadata": {},
   "source": [
    "We will use categorical analysis to classify knowledge level based on values from the STG, STR, LPR and PEG columns. We will split the dataset into a training group and a testing group for investigation and implement five-fold validation into the training group to determine the most accurate value of k for k-nearest neighbor modelling. \n",
    "\n",
    "We will mutate the columns to combine `STG` and `STR` (`TST`) and `LPR` and `PEG` (`TEP`) to find the mean of each pair of data to provide \n",
    "- ① an average degree of studying time on goal or related subject materials and \n",
    "- ② an average degree of exam performance with goal or related subject material. \n",
    "\n"
   ]
  },
  {
   "cell_type": "markdown",
   "metadata": {},
   "source": [
    "The two variables TST and TEP from mutation and sorting would be used in a k-nearest neighbor model to predict the knowledge level for a certain individual.\n"
   ]
  },
  {
   "cell_type": "markdown",
   "metadata": {},
   "source": [
    "We will represent TST on the x-axis and TEP on the y-axis of a scatter plot, which will colour points by knowledge level, our categorical factor.\n"
   ]
  },
  {
   "cell_type": "markdown",
   "metadata": {},
   "source": [
    "## Expected outcomes and significance "
   ]
  },
  {
   "cell_type": "markdown",
   "metadata": {},
   "source": [
    "We expect a positive correlation between studying time and exam performance, as well as between both variables and knowledge level.\n"
   ]
  },
  {
   "cell_type": "markdown",
   "metadata": {},
   "source": [
    "Identifying relationships between studying time, exam performance, and knowledge level would provide insight for educators in terms of whether exams accurately represent students’ knowledge. Studying time would allow students to determine whether their studying methods are effective and allow them to adjust accordingly based on these relationships.\n"
   ]
  },
  {
   "cell_type": "markdown",
   "metadata": {},
   "source": [
    "By answering our question, we can expand this project’s applications. Identifying reasons for exam performance or studying time not correlating with knowledge level would encourage educators and students to explore new methods for both: How could students study more effectively, and how could exams be more representative of students’ knowledge? Radically thinking, do exams reflect knowledge level at all?\n",
    "\n"
   ]
  },
  {
   "cell_type": "code",
   "execution_count": 128,
   "metadata": {},
   "outputs": [
    {
     "data": {
      "text/html": [
       "0.640198511166253"
      ],
      "text/latex": [
       "0.640198511166253"
      ],
      "text/markdown": [
       "0.640198511166253"
      ],
      "text/plain": [
       "[1] 0.6401985"
      ]
     },
     "metadata": {},
     "output_type": "display_data"
    }
   ],
   "source": [
    "nrow(data_tr)/(nrow(data_te)+nrow(data_tr))"
   ]
  },
  {
   "cell_type": "code",
   "execution_count": 129,
   "metadata": {},
   "outputs": [
    {
     "name": "stdout",
     "output_type": "stream",
     "text": [
      "Rows: 258\n",
      "Columns: 8\n",
      "$ STG \u001b[3m\u001b[90m<dbl>\u001b[39m\u001b[23m 0.00, 0.08, 0.06, 0.10, 0.08, 0.09, 0.10, 0.15, 0.20, 0.00, 0.18,…\n",
      "$ SCG \u001b[3m\u001b[90m<dbl>\u001b[39m\u001b[23m 0.00, 0.08, 0.06, 0.10, 0.08, 0.15, 0.10, 0.02, 0.14, 0.00, 0.18,…\n",
      "$ STR \u001b[3m\u001b[90m<dbl>\u001b[39m\u001b[23m 0.00, 0.10, 0.05, 0.15, 0.08, 0.40, 0.43, 0.34, 0.35, 0.50, 0.55,…\n",
      "$ LPR \u001b[3m\u001b[90m<dbl>\u001b[39m\u001b[23m 0.00, 0.24, 0.25, 0.65, 0.98, 0.10, 0.29, 0.40, 0.72, 0.20, 0.30,…\n",
      "$ PEG \u001b[3m\u001b[90m<dbl>\u001b[39m\u001b[23m 0.00, 0.90, 0.33, 0.30, 0.24, 0.66, 0.56, 0.01, 0.25, 0.85, 0.81,…\n",
      "$ UNS \u001b[3m\u001b[90m<fct>\u001b[39m\u001b[23m VeryLow, High, Low, Middle, Low, Middle, Middle, VeryLow, Low, Hi…\n",
      "$ TEP \u001b[3m\u001b[90m<dbl>\u001b[39m\u001b[23m 0.000, 0.570, 0.290, 0.475, 0.610, 0.380, 0.425, 0.205, 0.485, 0.…\n",
      "$ TST \u001b[3m\u001b[90m<dbl>\u001b[39m\u001b[23m 0.000, 0.090, 0.055, 0.125, 0.080, 0.245, 0.265, 0.245, 0.275, 0.…\n"
     ]
    }
   ],
   "source": [
    "glimpse(mutated_data)"
   ]
  },
  {
   "cell_type": "code",
   "execution_count": 24,
   "metadata": {},
   "outputs": [
    {
     "data": {
      "text/plain": [
       "Recipe\n",
       "\n",
       "Inputs:\n",
       "\n",
       "      role #variables\n",
       "   outcome          1\n",
       " predictor          2"
      ]
     },
     "metadata": {},
     "output_type": "display_data"
    }
   ],
   "source": [
    "knowledge_recipe <- recipe(UNS~TEP+TST,data = mutated_data)\n",
    "knowledge_recipe"
   ]
  },
  {
   "cell_type": "code",
   "execution_count": 36,
   "metadata": {},
   "outputs": [
    {
     "data": {
      "text/html": [
       "<table class=\"dataframe\">\n",
       "<caption>A tibble: 30 × 7</caption>\n",
       "<thead>\n",
       "\t<tr><th scope=col>neighbors</th><th scope=col>.metric</th><th scope=col>.estimator</th><th scope=col>mean</th><th scope=col>n</th><th scope=col>std_err</th><th scope=col>.config</th></tr>\n",
       "\t<tr><th scope=col>&lt;dbl&gt;</th><th scope=col>&lt;chr&gt;</th><th scope=col>&lt;chr&gt;</th><th scope=col>&lt;dbl&gt;</th><th scope=col>&lt;int&gt;</th><th scope=col>&lt;dbl&gt;</th><th scope=col>&lt;chr&gt;</th></tr>\n",
       "</thead>\n",
       "<tbody>\n",
       "\t<tr><td> 1</td><td>accuracy</td><td>multiclass</td><td>0.6008731</td><td>5</td><td>0.03256396</td><td>Preprocessor1_Model01</td></tr>\n",
       "\t<tr><td> 1</td><td>roc_auc </td><td>hand_till </td><td>0.7293564</td><td>5</td><td>0.03117610</td><td>Preprocessor1_Model01</td></tr>\n",
       "\t<tr><td> 2</td><td>accuracy</td><td>multiclass</td><td>0.6046467</td><td>5</td><td>0.03062228</td><td>Preprocessor1_Model02</td></tr>\n",
       "\t<tr><td> 2</td><td>roc_auc </td><td>hand_till </td><td>0.7816749</td><td>5</td><td>0.03161071</td><td>Preprocessor1_Model02</td></tr>\n",
       "\t<tr><td> 3</td><td>accuracy</td><td>multiclass</td><td>0.5962723</td><td>5</td><td>0.04428077</td><td>Preprocessor1_Model03</td></tr>\n",
       "\t<tr><td> 3</td><td>roc_auc </td><td>hand_till </td><td>0.8269487</td><td>5</td><td>0.03503340</td><td>Preprocessor1_Model03</td></tr>\n",
       "\t<tr><td> 4</td><td>accuracy</td><td>multiclass</td><td>0.6001939</td><td>5</td><td>0.04204964</td><td>Preprocessor1_Model04</td></tr>\n",
       "\t<tr><td> 4</td><td>roc_auc </td><td>hand_till </td><td>0.8558258</td><td>5</td><td>0.03294957</td><td>Preprocessor1_Model04</td></tr>\n",
       "\t<tr><td> 5</td><td>accuracy</td><td>multiclass</td><td>0.6383737</td><td>5</td><td>0.04607139</td><td>Preprocessor1_Model05</td></tr>\n",
       "\t<tr><td> 5</td><td>roc_auc </td><td>hand_till </td><td>0.8554904</td><td>5</td><td>0.03630632</td><td>Preprocessor1_Model05</td></tr>\n",
       "\t<tr><td> 6</td><td>accuracy</td><td>multiclass</td><td>0.6537728</td><td>5</td><td>0.04497224</td><td>Preprocessor1_Model06</td></tr>\n",
       "\t<tr><td> 6</td><td>roc_auc </td><td>hand_till </td><td>0.8690536</td><td>5</td><td>0.03857731</td><td>Preprocessor1_Model06</td></tr>\n",
       "\t<tr><td> 7</td><td>accuracy</td><td>multiclass</td><td>0.6539904</td><td>5</td><td>0.03947358</td><td>Preprocessor1_Model07</td></tr>\n",
       "\t<tr><td> 7</td><td>roc_auc </td><td>hand_till </td><td>0.8615066</td><td>5</td><td>0.03773641</td><td>Preprocessor1_Model07</td></tr>\n",
       "\t<tr><td> 8</td><td>accuracy</td><td>multiclass</td><td>0.6542863</td><td>5</td><td>0.03701555</td><td>Preprocessor1_Model08</td></tr>\n",
       "\t<tr><td> 8</td><td>roc_auc </td><td>hand_till </td><td>0.8594744</td><td>5</td><td>0.03683280</td><td>Preprocessor1_Model08</td></tr>\n",
       "\t<tr><td> 9</td><td>accuracy</td><td>multiclass</td><td>0.6696071</td><td>5</td><td>0.03657286</td><td>Preprocessor1_Model09</td></tr>\n",
       "\t<tr><td> 9</td><td>roc_auc </td><td>hand_till </td><td>0.8618819</td><td>5</td><td>0.03492196</td><td>Preprocessor1_Model09</td></tr>\n",
       "\t<tr><td>10</td><td>accuracy</td><td>multiclass</td><td>0.6579119</td><td>5</td><td>0.03153786</td><td>Preprocessor1_Model10</td></tr>\n",
       "\t<tr><td>10</td><td>roc_auc </td><td>hand_till </td><td>0.8618204</td><td>5</td><td>0.03317192</td><td>Preprocessor1_Model10</td></tr>\n",
       "\t<tr><td>11</td><td>accuracy</td><td>multiclass</td><td>0.6464432</td><td>5</td><td>0.02478267</td><td>Preprocessor1_Model11</td></tr>\n",
       "\t<tr><td>11</td><td>roc_auc </td><td>hand_till </td><td>0.8591688</td><td>5</td><td>0.03299070</td><td>Preprocessor1_Model11</td></tr>\n",
       "\t<tr><td>12</td><td>accuracy</td><td>multiclass</td><td>0.6308265</td><td>5</td><td>0.02859683</td><td>Preprocessor1_Model12</td></tr>\n",
       "\t<tr><td>12</td><td>roc_auc </td><td>hand_till </td><td>0.8557641</td><td>5</td><td>0.03303919</td><td>Preprocessor1_Model12</td></tr>\n",
       "\t<tr><td>13</td><td>accuracy</td><td>multiclass</td><td>0.6380777</td><td>5</td><td>0.03541886</td><td>Preprocessor1_Model13</td></tr>\n",
       "\t<tr><td>13</td><td>roc_auc </td><td>hand_till </td><td>0.8596828</td><td>5</td><td>0.03481124</td><td>Preprocessor1_Model13</td></tr>\n",
       "\t<tr><td>14</td><td>accuracy</td><td>multiclass</td><td>0.6337122</td><td>5</td><td>0.04658950</td><td>Preprocessor1_Model14</td></tr>\n",
       "\t<tr><td>14</td><td>roc_auc </td><td>hand_till </td><td>0.8554856</td><td>5</td><td>0.03520517</td><td>Preprocessor1_Model14</td></tr>\n",
       "\t<tr><td>15</td><td>accuracy</td><td>multiclass</td><td>0.6300170</td><td>5</td><td>0.04446759</td><td>Preprocessor1_Model15</td></tr>\n",
       "\t<tr><td>15</td><td>roc_auc </td><td>hand_till </td><td>0.8602955</td><td>5</td><td>0.02887880</td><td>Preprocessor1_Model15</td></tr>\n",
       "</tbody>\n",
       "</table>\n"
      ],
      "text/latex": [
       "A tibble: 30 × 7\n",
       "\\begin{tabular}{lllllll}\n",
       " neighbors & .metric & .estimator & mean & n & std\\_err & .config\\\\\n",
       " <dbl> & <chr> & <chr> & <dbl> & <int> & <dbl> & <chr>\\\\\n",
       "\\hline\n",
       "\t  1 & accuracy & multiclass & 0.6008731 & 5 & 0.03256396 & Preprocessor1\\_Model01\\\\\n",
       "\t  1 & roc\\_auc  & hand\\_till  & 0.7293564 & 5 & 0.03117610 & Preprocessor1\\_Model01\\\\\n",
       "\t  2 & accuracy & multiclass & 0.6046467 & 5 & 0.03062228 & Preprocessor1\\_Model02\\\\\n",
       "\t  2 & roc\\_auc  & hand\\_till  & 0.7816749 & 5 & 0.03161071 & Preprocessor1\\_Model02\\\\\n",
       "\t  3 & accuracy & multiclass & 0.5962723 & 5 & 0.04428077 & Preprocessor1\\_Model03\\\\\n",
       "\t  3 & roc\\_auc  & hand\\_till  & 0.8269487 & 5 & 0.03503340 & Preprocessor1\\_Model03\\\\\n",
       "\t  4 & accuracy & multiclass & 0.6001939 & 5 & 0.04204964 & Preprocessor1\\_Model04\\\\\n",
       "\t  4 & roc\\_auc  & hand\\_till  & 0.8558258 & 5 & 0.03294957 & Preprocessor1\\_Model04\\\\\n",
       "\t  5 & accuracy & multiclass & 0.6383737 & 5 & 0.04607139 & Preprocessor1\\_Model05\\\\\n",
       "\t  5 & roc\\_auc  & hand\\_till  & 0.8554904 & 5 & 0.03630632 & Preprocessor1\\_Model05\\\\\n",
       "\t  6 & accuracy & multiclass & 0.6537728 & 5 & 0.04497224 & Preprocessor1\\_Model06\\\\\n",
       "\t  6 & roc\\_auc  & hand\\_till  & 0.8690536 & 5 & 0.03857731 & Preprocessor1\\_Model06\\\\\n",
       "\t  7 & accuracy & multiclass & 0.6539904 & 5 & 0.03947358 & Preprocessor1\\_Model07\\\\\n",
       "\t  7 & roc\\_auc  & hand\\_till  & 0.8615066 & 5 & 0.03773641 & Preprocessor1\\_Model07\\\\\n",
       "\t  8 & accuracy & multiclass & 0.6542863 & 5 & 0.03701555 & Preprocessor1\\_Model08\\\\\n",
       "\t  8 & roc\\_auc  & hand\\_till  & 0.8594744 & 5 & 0.03683280 & Preprocessor1\\_Model08\\\\\n",
       "\t  9 & accuracy & multiclass & 0.6696071 & 5 & 0.03657286 & Preprocessor1\\_Model09\\\\\n",
       "\t  9 & roc\\_auc  & hand\\_till  & 0.8618819 & 5 & 0.03492196 & Preprocessor1\\_Model09\\\\\n",
       "\t 10 & accuracy & multiclass & 0.6579119 & 5 & 0.03153786 & Preprocessor1\\_Model10\\\\\n",
       "\t 10 & roc\\_auc  & hand\\_till  & 0.8618204 & 5 & 0.03317192 & Preprocessor1\\_Model10\\\\\n",
       "\t 11 & accuracy & multiclass & 0.6464432 & 5 & 0.02478267 & Preprocessor1\\_Model11\\\\\n",
       "\t 11 & roc\\_auc  & hand\\_till  & 0.8591688 & 5 & 0.03299070 & Preprocessor1\\_Model11\\\\\n",
       "\t 12 & accuracy & multiclass & 0.6308265 & 5 & 0.02859683 & Preprocessor1\\_Model12\\\\\n",
       "\t 12 & roc\\_auc  & hand\\_till  & 0.8557641 & 5 & 0.03303919 & Preprocessor1\\_Model12\\\\\n",
       "\t 13 & accuracy & multiclass & 0.6380777 & 5 & 0.03541886 & Preprocessor1\\_Model13\\\\\n",
       "\t 13 & roc\\_auc  & hand\\_till  & 0.8596828 & 5 & 0.03481124 & Preprocessor1\\_Model13\\\\\n",
       "\t 14 & accuracy & multiclass & 0.6337122 & 5 & 0.04658950 & Preprocessor1\\_Model14\\\\\n",
       "\t 14 & roc\\_auc  & hand\\_till  & 0.8554856 & 5 & 0.03520517 & Preprocessor1\\_Model14\\\\\n",
       "\t 15 & accuracy & multiclass & 0.6300170 & 5 & 0.04446759 & Preprocessor1\\_Model15\\\\\n",
       "\t 15 & roc\\_auc  & hand\\_till  & 0.8602955 & 5 & 0.02887880 & Preprocessor1\\_Model15\\\\\n",
       "\\end{tabular}\n"
      ],
      "text/markdown": [
       "\n",
       "A tibble: 30 × 7\n",
       "\n",
       "| neighbors &lt;dbl&gt; | .metric &lt;chr&gt; | .estimator &lt;chr&gt; | mean &lt;dbl&gt; | n &lt;int&gt; | std_err &lt;dbl&gt; | .config &lt;chr&gt; |\n",
       "|---|---|---|---|---|---|---|\n",
       "|  1 | accuracy | multiclass | 0.6008731 | 5 | 0.03256396 | Preprocessor1_Model01 |\n",
       "|  1 | roc_auc  | hand_till  | 0.7293564 | 5 | 0.03117610 | Preprocessor1_Model01 |\n",
       "|  2 | accuracy | multiclass | 0.6046467 | 5 | 0.03062228 | Preprocessor1_Model02 |\n",
       "|  2 | roc_auc  | hand_till  | 0.7816749 | 5 | 0.03161071 | Preprocessor1_Model02 |\n",
       "|  3 | accuracy | multiclass | 0.5962723 | 5 | 0.04428077 | Preprocessor1_Model03 |\n",
       "|  3 | roc_auc  | hand_till  | 0.8269487 | 5 | 0.03503340 | Preprocessor1_Model03 |\n",
       "|  4 | accuracy | multiclass | 0.6001939 | 5 | 0.04204964 | Preprocessor1_Model04 |\n",
       "|  4 | roc_auc  | hand_till  | 0.8558258 | 5 | 0.03294957 | Preprocessor1_Model04 |\n",
       "|  5 | accuracy | multiclass | 0.6383737 | 5 | 0.04607139 | Preprocessor1_Model05 |\n",
       "|  5 | roc_auc  | hand_till  | 0.8554904 | 5 | 0.03630632 | Preprocessor1_Model05 |\n",
       "|  6 | accuracy | multiclass | 0.6537728 | 5 | 0.04497224 | Preprocessor1_Model06 |\n",
       "|  6 | roc_auc  | hand_till  | 0.8690536 | 5 | 0.03857731 | Preprocessor1_Model06 |\n",
       "|  7 | accuracy | multiclass | 0.6539904 | 5 | 0.03947358 | Preprocessor1_Model07 |\n",
       "|  7 | roc_auc  | hand_till  | 0.8615066 | 5 | 0.03773641 | Preprocessor1_Model07 |\n",
       "|  8 | accuracy | multiclass | 0.6542863 | 5 | 0.03701555 | Preprocessor1_Model08 |\n",
       "|  8 | roc_auc  | hand_till  | 0.8594744 | 5 | 0.03683280 | Preprocessor1_Model08 |\n",
       "|  9 | accuracy | multiclass | 0.6696071 | 5 | 0.03657286 | Preprocessor1_Model09 |\n",
       "|  9 | roc_auc  | hand_till  | 0.8618819 | 5 | 0.03492196 | Preprocessor1_Model09 |\n",
       "| 10 | accuracy | multiclass | 0.6579119 | 5 | 0.03153786 | Preprocessor1_Model10 |\n",
       "| 10 | roc_auc  | hand_till  | 0.8618204 | 5 | 0.03317192 | Preprocessor1_Model10 |\n",
       "| 11 | accuracy | multiclass | 0.6464432 | 5 | 0.02478267 | Preprocessor1_Model11 |\n",
       "| 11 | roc_auc  | hand_till  | 0.8591688 | 5 | 0.03299070 | Preprocessor1_Model11 |\n",
       "| 12 | accuracy | multiclass | 0.6308265 | 5 | 0.02859683 | Preprocessor1_Model12 |\n",
       "| 12 | roc_auc  | hand_till  | 0.8557641 | 5 | 0.03303919 | Preprocessor1_Model12 |\n",
       "| 13 | accuracy | multiclass | 0.6380777 | 5 | 0.03541886 | Preprocessor1_Model13 |\n",
       "| 13 | roc_auc  | hand_till  | 0.8596828 | 5 | 0.03481124 | Preprocessor1_Model13 |\n",
       "| 14 | accuracy | multiclass | 0.6337122 | 5 | 0.04658950 | Preprocessor1_Model14 |\n",
       "| 14 | roc_auc  | hand_till  | 0.8554856 | 5 | 0.03520517 | Preprocessor1_Model14 |\n",
       "| 15 | accuracy | multiclass | 0.6300170 | 5 | 0.04446759 | Preprocessor1_Model15 |\n",
       "| 15 | roc_auc  | hand_till  | 0.8602955 | 5 | 0.02887880 | Preprocessor1_Model15 |\n",
       "\n"
      ],
      "text/plain": [
       "   neighbors .metric  .estimator mean      n std_err    .config              \n",
       "1   1        accuracy multiclass 0.6008731 5 0.03256396 Preprocessor1_Model01\n",
       "2   1        roc_auc  hand_till  0.7293564 5 0.03117610 Preprocessor1_Model01\n",
       "3   2        accuracy multiclass 0.6046467 5 0.03062228 Preprocessor1_Model02\n",
       "4   2        roc_auc  hand_till  0.7816749 5 0.03161071 Preprocessor1_Model02\n",
       "5   3        accuracy multiclass 0.5962723 5 0.04428077 Preprocessor1_Model03\n",
       "6   3        roc_auc  hand_till  0.8269487 5 0.03503340 Preprocessor1_Model03\n",
       "7   4        accuracy multiclass 0.6001939 5 0.04204964 Preprocessor1_Model04\n",
       "8   4        roc_auc  hand_till  0.8558258 5 0.03294957 Preprocessor1_Model04\n",
       "9   5        accuracy multiclass 0.6383737 5 0.04607139 Preprocessor1_Model05\n",
       "10  5        roc_auc  hand_till  0.8554904 5 0.03630632 Preprocessor1_Model05\n",
       "11  6        accuracy multiclass 0.6537728 5 0.04497224 Preprocessor1_Model06\n",
       "12  6        roc_auc  hand_till  0.8690536 5 0.03857731 Preprocessor1_Model06\n",
       "13  7        accuracy multiclass 0.6539904 5 0.03947358 Preprocessor1_Model07\n",
       "14  7        roc_auc  hand_till  0.8615066 5 0.03773641 Preprocessor1_Model07\n",
       "15  8        accuracy multiclass 0.6542863 5 0.03701555 Preprocessor1_Model08\n",
       "16  8        roc_auc  hand_till  0.8594744 5 0.03683280 Preprocessor1_Model08\n",
       "17  9        accuracy multiclass 0.6696071 5 0.03657286 Preprocessor1_Model09\n",
       "18  9        roc_auc  hand_till  0.8618819 5 0.03492196 Preprocessor1_Model09\n",
       "19 10        accuracy multiclass 0.6579119 5 0.03153786 Preprocessor1_Model10\n",
       "20 10        roc_auc  hand_till  0.8618204 5 0.03317192 Preprocessor1_Model10\n",
       "21 11        accuracy multiclass 0.6464432 5 0.02478267 Preprocessor1_Model11\n",
       "22 11        roc_auc  hand_till  0.8591688 5 0.03299070 Preprocessor1_Model11\n",
       "23 12        accuracy multiclass 0.6308265 5 0.02859683 Preprocessor1_Model12\n",
       "24 12        roc_auc  hand_till  0.8557641 5 0.03303919 Preprocessor1_Model12\n",
       "25 13        accuracy multiclass 0.6380777 5 0.03541886 Preprocessor1_Model13\n",
       "26 13        roc_auc  hand_till  0.8596828 5 0.03481124 Preprocessor1_Model13\n",
       "27 14        accuracy multiclass 0.6337122 5 0.04658950 Preprocessor1_Model14\n",
       "28 14        roc_auc  hand_till  0.8554856 5 0.03520517 Preprocessor1_Model14\n",
       "29 15        accuracy multiclass 0.6300170 5 0.04446759 Preprocessor1_Model15\n",
       "30 15        roc_auc  hand_till  0.8602955 5 0.02887880 Preprocessor1_Model15"
      ]
     },
     "metadata": {},
     "output_type": "display_data"
    }
   ],
   "source": [
    "set.seed(2021)\n",
    "knowledge_vfold <- vfold_cv(mutated_data, v = 5, strata = UNS)\n",
    "gridvals <- tibble(neighbors = seq(from = 1, to = 15, by = 1))\n",
    "knn_tune <-nearest_neighbor(weight_func = \"rectangular\", neighbors = tune()) %>%\n",
    "        set_engine(\"kknn\") %>%\n",
    "      set_mode(\"classification\")\n",
    "knn_results <- workflow() %>%\n",
    "      add_recipe(knowledge_recipe) %>%\n",
    "      add_model(knn_tune) %>%\n",
    "      tune_grid(resamples = knowledge_vfold, grid = gridvals) %>%\n",
    "      collect_metrics()\n",
    "knn_results"
   ]
  },
  {
   "cell_type": "markdown",
   "metadata": {},
   "source": [
    "Table 6: all knn neighbor metric columns from tuning the model"
   ]
  },
  {
   "cell_type": "code",
   "execution_count": 37,
   "metadata": {},
   "outputs": [
    {
     "data": {
      "text/html": [
       "9"
      ],
      "text/latex": [
       "9"
      ],
      "text/markdown": [
       "9"
      ],
      "text/plain": [
       "[1] 9"
      ]
     },
     "metadata": {},
     "output_type": "display_data"
    },
    {
     "data": {
      "image/png": "[encoded data removed]",
      "text/plain": [
       "plot without title"
      ]
     },
     "metadata": {
      "image/png": {
       "height": 420,
       "width": 420
      }
     },
     "output_type": "display_data"
    }
   ],
   "source": [
    "accuracies <- knn_results %>% \n",
    "      filter(.metric == \"accuracy\")\n",
    "\n",
    "accuracy_versus_k <- ggplot(accuracies, aes(x = neighbors, y = mean))+\n",
    "      geom_point() +\n",
    "      geom_line() +\n",
    "      labs(x = \"Neighbors\", y = \"Accuracy Estimate\") +\n",
    "      scale_x_continuous(breaks = seq(0, 14, by = 1)) +  # adjusting the x-axis\n",
    "      scale_y_continuous(limits = c(0.4, 1.0)) # adjusting the y-axis\n",
    "\n",
    "accuracies_max <- accuracies %>% arrange(desc(mean)) %>%slice(1) %>% select(neighbors) %>%as.integer()\n",
    "accuracies_max\n",
    "accuracy_versus_k"
   ]
  },
  {
   "cell_type": "markdown",
   "metadata": {},
   "source": [
    "Figure 2: plot of all tuning neighbor's accuracy from training dataset"
   ]
  },
  {
   "cell_type": "code",
   "execution_count": 38,
   "metadata": {},
   "outputs": [
    {
     "data": {
      "text/html": [
       "<table class=\"dataframe\">\n",
       "<caption>A tibble: 6 × 8</caption>\n",
       "<thead>\n",
       "\t<tr><th scope=col>STG</th><th scope=col>SCG</th><th scope=col>STR</th><th scope=col>LPR</th><th scope=col>PEG</th><th scope=col>UNS</th><th scope=col>TEP</th><th scope=col>TST</th></tr>\n",
       "\t<tr><th scope=col>&lt;dbl&gt;</th><th scope=col>&lt;dbl&gt;</th><th scope=col>&lt;dbl&gt;</th><th scope=col>&lt;dbl&gt;</th><th scope=col>&lt;dbl&gt;</th><th scope=col>&lt;fct&gt;</th><th scope=col>&lt;dbl&gt;</th><th scope=col>&lt;dbl&gt;</th></tr>\n",
       "</thead>\n",
       "<tbody>\n",
       "\t<tr><td>0.00</td><td>0.10</td><td>0.50</td><td>0.26</td><td>0.05</td><td>VeryLow</td><td>0.155</td><td>0.250</td></tr>\n",
       "\t<tr><td>0.05</td><td>0.05</td><td>0.55</td><td>0.60</td><td>0.14</td><td>Low    </td><td>0.370</td><td>0.300</td></tr>\n",
       "\t<tr><td>0.08</td><td>0.18</td><td>0.63</td><td>0.60</td><td>0.85</td><td>High   </td><td>0.725</td><td>0.355</td></tr>\n",
       "\t<tr><td>0.20</td><td>0.20</td><td>0.68</td><td>0.67</td><td>0.85</td><td>High   </td><td>0.760</td><td>0.440</td></tr>\n",
       "\t<tr><td>0.22</td><td>0.22</td><td>0.90</td><td>0.30</td><td>0.90</td><td>High   </td><td>0.600</td><td>0.560</td></tr>\n",
       "\t<tr><td>0.14</td><td>0.14</td><td>0.70</td><td>0.50</td><td>0.30</td><td>Low    </td><td>0.400</td><td>0.420</td></tr>\n",
       "</tbody>\n",
       "</table>\n"
      ],
      "text/latex": [
       "A tibble: 6 × 8\n",
       "\\begin{tabular}{llllllll}\n",
       " STG & SCG & STR & LPR & PEG & UNS & TEP & TST\\\\\n",
       " <dbl> & <dbl> & <dbl> & <dbl> & <dbl> & <fct> & <dbl> & <dbl>\\\\\n",
       "\\hline\n",
       "\t 0.00 & 0.10 & 0.50 & 0.26 & 0.05 & VeryLow & 0.155 & 0.250\\\\\n",
       "\t 0.05 & 0.05 & 0.55 & 0.60 & 0.14 & Low     & 0.370 & 0.300\\\\\n",
       "\t 0.08 & 0.18 & 0.63 & 0.60 & 0.85 & High    & 0.725 & 0.355\\\\\n",
       "\t 0.20 & 0.20 & 0.68 & 0.67 & 0.85 & High    & 0.760 & 0.440\\\\\n",
       "\t 0.22 & 0.22 & 0.90 & 0.30 & 0.90 & High    & 0.600 & 0.560\\\\\n",
       "\t 0.14 & 0.14 & 0.70 & 0.50 & 0.30 & Low     & 0.400 & 0.420\\\\\n",
       "\\end{tabular}\n"
      ],
      "text/markdown": [
       "\n",
       "A tibble: 6 × 8\n",
       "\n",
       "| STG &lt;dbl&gt; | SCG &lt;dbl&gt; | STR &lt;dbl&gt; | LPR &lt;dbl&gt; | PEG &lt;dbl&gt; | UNS &lt;fct&gt; | TEP &lt;dbl&gt; | TST &lt;dbl&gt; |\n",
       "|---|---|---|---|---|---|---|---|\n",
       "| 0.00 | 0.10 | 0.50 | 0.26 | 0.05 | VeryLow | 0.155 | 0.250 |\n",
       "| 0.05 | 0.05 | 0.55 | 0.60 | 0.14 | Low     | 0.370 | 0.300 |\n",
       "| 0.08 | 0.18 | 0.63 | 0.60 | 0.85 | High    | 0.725 | 0.355 |\n",
       "| 0.20 | 0.20 | 0.68 | 0.67 | 0.85 | High    | 0.760 | 0.440 |\n",
       "| 0.22 | 0.22 | 0.90 | 0.30 | 0.90 | High    | 0.600 | 0.560 |\n",
       "| 0.14 | 0.14 | 0.70 | 0.50 | 0.30 | Low     | 0.400 | 0.420 |\n",
       "\n"
      ],
      "text/plain": [
       "  STG  SCG  STR  LPR  PEG  UNS     TEP   TST  \n",
       "1 0.00 0.10 0.50 0.26 0.05 VeryLow 0.155 0.250\n",
       "2 0.05 0.05 0.55 0.60 0.14 Low     0.370 0.300\n",
       "3 0.08 0.18 0.63 0.60 0.85 High    0.725 0.355\n",
       "4 0.20 0.20 0.68 0.67 0.85 High    0.760 0.440\n",
       "5 0.22 0.22 0.90 0.30 0.90 High    0.600 0.560\n",
       "6 0.14 0.14 0.70 0.50 0.30 Low     0.400 0.420"
      ]
     },
     "metadata": {},
     "output_type": "display_data"
    },
    {
     "data": {
      "text/html": [
       "<table class=\"dataframe\">\n",
       "<caption>A tibble: 6 × 8</caption>\n",
       "<thead>\n",
       "\t<tr><th scope=col>STG</th><th scope=col>SCG</th><th scope=col>STR</th><th scope=col>LPR</th><th scope=col>PEG</th><th scope=col>UNS</th><th scope=col>TEP</th><th scope=col>TST</th></tr>\n",
       "\t<tr><th scope=col>&lt;dbl&gt;</th><th scope=col>&lt;dbl&gt;</th><th scope=col>&lt;dbl&gt;</th><th scope=col>&lt;dbl&gt;</th><th scope=col>&lt;dbl&gt;</th><th scope=col>&lt;fct&gt;</th><th scope=col>&lt;dbl&gt;</th><th scope=col>&lt;dbl&gt;</th></tr>\n",
       "</thead>\n",
       "<tbody>\n",
       "\t<tr><td>0.68</td><td>0.61</td><td>0.34</td><td>0.31</td><td>0.23</td><td>Low   </td><td>0.270</td><td>0.510</td></tr>\n",
       "\t<tr><td>0.90</td><td>0.78</td><td>0.62</td><td>0.32</td><td>0.89</td><td>High  </td><td>0.605</td><td>0.760</td></tr>\n",
       "\t<tr><td>0.85</td><td>0.82</td><td>0.66</td><td>0.83</td><td>0.83</td><td>High  </td><td>0.830</td><td>0.755</td></tr>\n",
       "\t<tr><td>0.56</td><td>0.60</td><td>0.77</td><td>0.13</td><td>0.32</td><td>Low   </td><td>0.225</td><td>0.665</td></tr>\n",
       "\t<tr><td>0.66</td><td>0.68</td><td>0.81</td><td>0.57</td><td>0.57</td><td>Middle</td><td>0.570</td><td>0.735</td></tr>\n",
       "\t<tr><td>0.68</td><td>0.64</td><td>0.79</td><td>0.97</td><td>0.24</td><td>Middle</td><td>0.605</td><td>0.735</td></tr>\n",
       "</tbody>\n",
       "</table>\n"
      ],
      "text/latex": [
       "A tibble: 6 × 8\n",
       "\\begin{tabular}{llllllll}\n",
       " STG & SCG & STR & LPR & PEG & UNS & TEP & TST\\\\\n",
       " <dbl> & <dbl> & <dbl> & <dbl> & <dbl> & <fct> & <dbl> & <dbl>\\\\\n",
       "\\hline\n",
       "\t 0.68 & 0.61 & 0.34 & 0.31 & 0.23 & Low    & 0.270 & 0.510\\\\\n",
       "\t 0.90 & 0.78 & 0.62 & 0.32 & 0.89 & High   & 0.605 & 0.760\\\\\n",
       "\t 0.85 & 0.82 & 0.66 & 0.83 & 0.83 & High   & 0.830 & 0.755\\\\\n",
       "\t 0.56 & 0.60 & 0.77 & 0.13 & 0.32 & Low    & 0.225 & 0.665\\\\\n",
       "\t 0.66 & 0.68 & 0.81 & 0.57 & 0.57 & Middle & 0.570 & 0.735\\\\\n",
       "\t 0.68 & 0.64 & 0.79 & 0.97 & 0.24 & Middle & 0.605 & 0.735\\\\\n",
       "\\end{tabular}\n"
      ],
      "text/markdown": [
       "\n",
       "A tibble: 6 × 8\n",
       "\n",
       "| STG &lt;dbl&gt; | SCG &lt;dbl&gt; | STR &lt;dbl&gt; | LPR &lt;dbl&gt; | PEG &lt;dbl&gt; | UNS &lt;fct&gt; | TEP &lt;dbl&gt; | TST &lt;dbl&gt; |\n",
       "|---|---|---|---|---|---|---|---|\n",
       "| 0.68 | 0.61 | 0.34 | 0.31 | 0.23 | Low    | 0.270 | 0.510 |\n",
       "| 0.90 | 0.78 | 0.62 | 0.32 | 0.89 | High   | 0.605 | 0.760 |\n",
       "| 0.85 | 0.82 | 0.66 | 0.83 | 0.83 | High   | 0.830 | 0.755 |\n",
       "| 0.56 | 0.60 | 0.77 | 0.13 | 0.32 | Low    | 0.225 | 0.665 |\n",
       "| 0.66 | 0.68 | 0.81 | 0.57 | 0.57 | Middle | 0.570 | 0.735 |\n",
       "| 0.68 | 0.64 | 0.79 | 0.97 | 0.24 | Middle | 0.605 | 0.735 |\n",
       "\n"
      ],
      "text/plain": [
       "  STG  SCG  STR  LPR  PEG  UNS    TEP   TST  \n",
       "1 0.68 0.61 0.34 0.31 0.23 Low    0.270 0.510\n",
       "2 0.90 0.78 0.62 0.32 0.89 High   0.605 0.760\n",
       "3 0.85 0.82 0.66 0.83 0.83 High   0.830 0.755\n",
       "4 0.56 0.60 0.77 0.13 0.32 Low    0.225 0.665\n",
       "5 0.66 0.68 0.81 0.57 0.57 Middle 0.570 0.735\n",
       "6 0.68 0.64 0.79 0.97 0.24 Middle 0.605 0.735"
      ]
     },
     "metadata": {},
     "output_type": "display_data"
    }
   ],
   "source": [
    "knowledge_mutated_testing <- data_te %>%\n",
    "                mutate(TEP = (LPR + PEG)/2) %>%\n",
    "                mutate(TST = (STG + STR)/2) \n",
    "head(knowledge_mutated_testing)\n",
    "tail(knowledge_mutated_testing)"
   ]
  },
  {
   "cell_type": "markdown",
   "metadata": {},
   "source": [
    "Table 7,8 : preview of mutated testing dataset with object data columns"
   ]
  },
  {
   "cell_type": "code",
   "execution_count": 39,
   "metadata": {},
   "outputs": [],
   "source": [
    "knowledge_best <-nearest_neighbor(weight_func = \"rectangular\", neighbors = accuracies_max) %>%\n",
    "        set_engine(\"kknn\") %>%\n",
    "      set_mode(\"classification\")"
   ]
  },
  {
   "cell_type": "code",
   "execution_count": 40,
   "metadata": {},
   "outputs": [
    {
     "data": {
      "text/html": [
       "<table class=\"dataframe\">\n",
       "<caption>A tibble: 6 × 9</caption>\n",
       "<thead>\n",
       "\t<tr><th scope=col>.pred_class</th><th scope=col>STG</th><th scope=col>SCG</th><th scope=col>STR</th><th scope=col>LPR</th><th scope=col>PEG</th><th scope=col>UNS</th><th scope=col>TEP</th><th scope=col>TST</th></tr>\n",
       "\t<tr><th scope=col>&lt;fct&gt;</th><th scope=col>&lt;dbl&gt;</th><th scope=col>&lt;dbl&gt;</th><th scope=col>&lt;dbl&gt;</th><th scope=col>&lt;dbl&gt;</th><th scope=col>&lt;dbl&gt;</th><th scope=col>&lt;fct&gt;</th><th scope=col>&lt;dbl&gt;</th><th scope=col>&lt;dbl&gt;</th></tr>\n",
       "</thead>\n",
       "<tbody>\n",
       "\t<tr><td>VeryLow</td><td>0.00</td><td>0.10</td><td>0.50</td><td>0.26</td><td>0.05</td><td>VeryLow</td><td>0.155</td><td>0.250</td></tr>\n",
       "\t<tr><td>Low    </td><td>0.05</td><td>0.05</td><td>0.55</td><td>0.60</td><td>0.14</td><td>Low    </td><td>0.370</td><td>0.300</td></tr>\n",
       "\t<tr><td>High   </td><td>0.08</td><td>0.18</td><td>0.63</td><td>0.60</td><td>0.85</td><td>High   </td><td>0.725</td><td>0.355</td></tr>\n",
       "\t<tr><td>High   </td><td>0.20</td><td>0.20</td><td>0.68</td><td>0.67</td><td>0.85</td><td>High   </td><td>0.760</td><td>0.440</td></tr>\n",
       "\t<tr><td>High   </td><td>0.22</td><td>0.22</td><td>0.90</td><td>0.30</td><td>0.90</td><td>High   </td><td>0.600</td><td>0.560</td></tr>\n",
       "\t<tr><td>Middle </td><td>0.14</td><td>0.14</td><td>0.70</td><td>0.50</td><td>0.30</td><td>Low    </td><td>0.400</td><td>0.420</td></tr>\n",
       "</tbody>\n",
       "</table>\n"
      ],
      "text/latex": [
       "A tibble: 6 × 9\n",
       "\\begin{tabular}{lllllllll}\n",
       " .pred\\_class & STG & SCG & STR & LPR & PEG & UNS & TEP & TST\\\\\n",
       " <fct> & <dbl> & <dbl> & <dbl> & <dbl> & <dbl> & <fct> & <dbl> & <dbl>\\\\\n",
       "\\hline\n",
       "\t VeryLow & 0.00 & 0.10 & 0.50 & 0.26 & 0.05 & VeryLow & 0.155 & 0.250\\\\\n",
       "\t Low     & 0.05 & 0.05 & 0.55 & 0.60 & 0.14 & Low     & 0.370 & 0.300\\\\\n",
       "\t High    & 0.08 & 0.18 & 0.63 & 0.60 & 0.85 & High    & 0.725 & 0.355\\\\\n",
       "\t High    & 0.20 & 0.20 & 0.68 & 0.67 & 0.85 & High    & 0.760 & 0.440\\\\\n",
       "\t High    & 0.22 & 0.22 & 0.90 & 0.30 & 0.90 & High    & 0.600 & 0.560\\\\\n",
       "\t Middle  & 0.14 & 0.14 & 0.70 & 0.50 & 0.30 & Low     & 0.400 & 0.420\\\\\n",
       "\\end{tabular}\n"
      ],
      "text/markdown": [
       "\n",
       "A tibble: 6 × 9\n",
       "\n",
       "| .pred_class &lt;fct&gt; | STG &lt;dbl&gt; | SCG &lt;dbl&gt; | STR &lt;dbl&gt; | LPR &lt;dbl&gt; | PEG &lt;dbl&gt; | UNS &lt;fct&gt; | TEP &lt;dbl&gt; | TST &lt;dbl&gt; |\n",
       "|---|---|---|---|---|---|---|---|---|\n",
       "| VeryLow | 0.00 | 0.10 | 0.50 | 0.26 | 0.05 | VeryLow | 0.155 | 0.250 |\n",
       "| Low     | 0.05 | 0.05 | 0.55 | 0.60 | 0.14 | Low     | 0.370 | 0.300 |\n",
       "| High    | 0.08 | 0.18 | 0.63 | 0.60 | 0.85 | High    | 0.725 | 0.355 |\n",
       "| High    | 0.20 | 0.20 | 0.68 | 0.67 | 0.85 | High    | 0.760 | 0.440 |\n",
       "| High    | 0.22 | 0.22 | 0.90 | 0.30 | 0.90 | High    | 0.600 | 0.560 |\n",
       "| Middle  | 0.14 | 0.14 | 0.70 | 0.50 | 0.30 | Low     | 0.400 | 0.420 |\n",
       "\n"
      ],
      "text/plain": [
       "  .pred_class STG  SCG  STR  LPR  PEG  UNS     TEP   TST  \n",
       "1 VeryLow     0.00 0.10 0.50 0.26 0.05 VeryLow 0.155 0.250\n",
       "2 Low         0.05 0.05 0.55 0.60 0.14 Low     0.370 0.300\n",
       "3 High        0.08 0.18 0.63 0.60 0.85 High    0.725 0.355\n",
       "4 High        0.20 0.20 0.68 0.67 0.85 High    0.760 0.440\n",
       "5 High        0.22 0.22 0.90 0.30 0.90 High    0.600 0.560\n",
       "6 Middle      0.14 0.14 0.70 0.50 0.30 Low     0.400 0.420"
      ]
     },
     "metadata": {},
     "output_type": "display_data"
    },
    {
     "data": {
      "text/html": [
       "<table class=\"dataframe\">\n",
       "<caption>A tibble: 6 × 9</caption>\n",
       "<thead>\n",
       "\t<tr><th scope=col>.pred_class</th><th scope=col>STG</th><th scope=col>SCG</th><th scope=col>STR</th><th scope=col>LPR</th><th scope=col>PEG</th><th scope=col>UNS</th><th scope=col>TEP</th><th scope=col>TST</th></tr>\n",
       "\t<tr><th scope=col>&lt;fct&gt;</th><th scope=col>&lt;dbl&gt;</th><th scope=col>&lt;dbl&gt;</th><th scope=col>&lt;dbl&gt;</th><th scope=col>&lt;dbl&gt;</th><th scope=col>&lt;dbl&gt;</th><th scope=col>&lt;fct&gt;</th><th scope=col>&lt;dbl&gt;</th><th scope=col>&lt;dbl&gt;</th></tr>\n",
       "</thead>\n",
       "<tbody>\n",
       "\t<tr><td>Low   </td><td>0.68</td><td>0.61</td><td>0.34</td><td>0.31</td><td>0.23</td><td>Low   </td><td>0.270</td><td>0.510</td></tr>\n",
       "\t<tr><td>High  </td><td>0.90</td><td>0.78</td><td>0.62</td><td>0.32</td><td>0.89</td><td>High  </td><td>0.605</td><td>0.760</td></tr>\n",
       "\t<tr><td>High  </td><td>0.85</td><td>0.82</td><td>0.66</td><td>0.83</td><td>0.83</td><td>High  </td><td>0.830</td><td>0.755</td></tr>\n",
       "\t<tr><td>Low   </td><td>0.56</td><td>0.60</td><td>0.77</td><td>0.13</td><td>0.32</td><td>Low   </td><td>0.225</td><td>0.665</td></tr>\n",
       "\t<tr><td>Middle</td><td>0.66</td><td>0.68</td><td>0.81</td><td>0.57</td><td>0.57</td><td>Middle</td><td>0.570</td><td>0.735</td></tr>\n",
       "\t<tr><td>High  </td><td>0.68</td><td>0.64</td><td>0.79</td><td>0.97</td><td>0.24</td><td>Middle</td><td>0.605</td><td>0.735</td></tr>\n",
       "</tbody>\n",
       "</table>\n"
      ],
      "text/latex": [
       "A tibble: 6 × 9\n",
       "\\begin{tabular}{lllllllll}\n",
       " .pred\\_class & STG & SCG & STR & LPR & PEG & UNS & TEP & TST\\\\\n",
       " <fct> & <dbl> & <dbl> & <dbl> & <dbl> & <dbl> & <fct> & <dbl> & <dbl>\\\\\n",
       "\\hline\n",
       "\t Low    & 0.68 & 0.61 & 0.34 & 0.31 & 0.23 & Low    & 0.270 & 0.510\\\\\n",
       "\t High   & 0.90 & 0.78 & 0.62 & 0.32 & 0.89 & High   & 0.605 & 0.760\\\\\n",
       "\t High   & 0.85 & 0.82 & 0.66 & 0.83 & 0.83 & High   & 0.830 & 0.755\\\\\n",
       "\t Low    & 0.56 & 0.60 & 0.77 & 0.13 & 0.32 & Low    & 0.225 & 0.665\\\\\n",
       "\t Middle & 0.66 & 0.68 & 0.81 & 0.57 & 0.57 & Middle & 0.570 & 0.735\\\\\n",
       "\t High   & 0.68 & 0.64 & 0.79 & 0.97 & 0.24 & Middle & 0.605 & 0.735\\\\\n",
       "\\end{tabular}\n"
      ],
      "text/markdown": [
       "\n",
       "A tibble: 6 × 9\n",
       "\n",
       "| .pred_class &lt;fct&gt; | STG &lt;dbl&gt; | SCG &lt;dbl&gt; | STR &lt;dbl&gt; | LPR &lt;dbl&gt; | PEG &lt;dbl&gt; | UNS &lt;fct&gt; | TEP &lt;dbl&gt; | TST &lt;dbl&gt; |\n",
       "|---|---|---|---|---|---|---|---|---|\n",
       "| Low    | 0.68 | 0.61 | 0.34 | 0.31 | 0.23 | Low    | 0.270 | 0.510 |\n",
       "| High   | 0.90 | 0.78 | 0.62 | 0.32 | 0.89 | High   | 0.605 | 0.760 |\n",
       "| High   | 0.85 | 0.82 | 0.66 | 0.83 | 0.83 | High   | 0.830 | 0.755 |\n",
       "| Low    | 0.56 | 0.60 | 0.77 | 0.13 | 0.32 | Low    | 0.225 | 0.665 |\n",
       "| Middle | 0.66 | 0.68 | 0.81 | 0.57 | 0.57 | Middle | 0.570 | 0.735 |\n",
       "| High   | 0.68 | 0.64 | 0.79 | 0.97 | 0.24 | Middle | 0.605 | 0.735 |\n",
       "\n"
      ],
      "text/plain": [
       "  .pred_class STG  SCG  STR  LPR  PEG  UNS    TEP   TST  \n",
       "1 Low         0.68 0.61 0.34 0.31 0.23 Low    0.270 0.510\n",
       "2 High        0.90 0.78 0.62 0.32 0.89 High   0.605 0.760\n",
       "3 High        0.85 0.82 0.66 0.83 0.83 High   0.830 0.755\n",
       "4 Low         0.56 0.60 0.77 0.13 0.32 Low    0.225 0.665\n",
       "5 Middle      0.66 0.68 0.81 0.57 0.57 Middle 0.570 0.735\n",
       "6 High        0.68 0.64 0.79 0.97 0.24 Middle 0.605 0.735"
      ]
     },
     "metadata": {},
     "output_type": "display_data"
    }
   ],
   "source": [
    "knowledge_model <- workflow() %>%\n",
    "      add_recipe(knowledge_recipe) %>%\n",
    "      add_model(knowledge_best) %>%\n",
    "      fit(data = mutated_data)\n",
    "knowledge_predict <- predict(knowledge_model,new_data = knowledge_mutated_testing) %>% bind_cols(knowledge_mutated_testing)\n",
    "head(knowledge_predict)\n",
    "tail(knowledge_predict)\n"
   ]
  },
  {
   "cell_type": "markdown",
   "metadata": {},
   "source": [
    "Table 7,8 : preview of predicted testing dataset with prediction columns"
   ]
  },
  {
   "cell_type": "code",
   "execution_count": 42,
   "metadata": {},
   "outputs": [
    {
     "data": {
      "text/html": [
       "<table class=\"dataframe\">\n",
       "<caption>A tibble: 2 × 3</caption>\n",
       "<thead>\n",
       "\t<tr><th scope=col>.metric</th><th scope=col>.estimator</th><th scope=col>.estimate</th></tr>\n",
       "\t<tr><th scope=col>&lt;chr&gt;</th><th scope=col>&lt;chr&gt;</th><th scope=col>&lt;dbl&gt;</th></tr>\n",
       "</thead>\n",
       "<tbody>\n",
       "\t<tr><td>accuracy</td><td>multiclass</td><td>0.6965517</td></tr>\n",
       "\t<tr><td>kap     </td><td>multiclass</td><td>0.5898952</td></tr>\n",
       "</tbody>\n",
       "</table>\n"
      ],
      "text/latex": [
       "A tibble: 2 × 3\n",
       "\\begin{tabular}{lll}\n",
       " .metric & .estimator & .estimate\\\\\n",
       " <chr> & <chr> & <dbl>\\\\\n",
       "\\hline\n",
       "\t accuracy & multiclass & 0.6965517\\\\\n",
       "\t kap      & multiclass & 0.5898952\\\\\n",
       "\\end{tabular}\n"
      ],
      "text/markdown": [
       "\n",
       "A tibble: 2 × 3\n",
       "\n",
       "| .metric &lt;chr&gt; | .estimator &lt;chr&gt; | .estimate &lt;dbl&gt; |\n",
       "|---|---|---|\n",
       "| accuracy | multiclass | 0.6965517 |\n",
       "| kap      | multiclass | 0.5898952 |\n",
       "\n"
      ],
      "text/plain": [
       "  .metric  .estimator .estimate\n",
       "1 accuracy multiclass 0.6965517\n",
       "2 kap      multiclass 0.5898952"
      ]
     },
     "metadata": {},
     "output_type": "display_data"
    }
   ],
   "source": [
    "knowledge_prediction_accuracy<- knowledge_predict %>% metrics(truth = UNS, estimate = .pred_class)\n",
    "knowledge_matrix <- knowledge_predict %>% conf_mat(truth = UNS, estimate = .pred_class)\n",
    "knowledge_prediction_accuracy"
   ]
  },
  {
   "cell_type": "markdown",
   "metadata": {},
   "source": [
    "Table 9: accuracy measurement of model for testing dataset"
   ]
  },
  {
   "cell_type": "code",
   "execution_count": 43,
   "metadata": {},
   "outputs": [
    {
     "data": {
      "text/plain": [
       "          Truth\n",
       "Prediction VeryLow Low Middle High\n",
       "   VeryLow      21   3      0    0\n",
       "   Low           5  28      7    0\n",
       "   Middle        0  14     15    2\n",
       "   High          0   1     12   37"
      ]
     },
     "metadata": {},
     "output_type": "display_data"
    }
   ],
   "source": [
    "knowledge_matrix"
   ]
  },
  {
   "cell_type": "markdown",
   "metadata": {},
   "source": [
    "## Discussion"
   ]
  },
  {
   "cell_type": "markdown",
   "metadata": {},
   "source": [
    "Based on our analysis of the User Knowledge dataset from the UCI Machine Learning Repository, we found that we could use K-NN classification predict the knowledge level of users based on their overall test performance and study time with 70% accuracy — a fairly reasonable accuracy in looking at the applications of this type of model (given the subjective nature of our response variable, “user knowledge”), showing a significant relationship between our predictor and responding variables. "
   ]
  },
  {
   "cell_type": "markdown",
   "metadata": {},
   "source": [
    "These findings were consistent with our hypothesis, as we predicted that we would find a positive correlation between exam performance, study time and overall knowledge level. Our classification model and visualizations support this hypothesis. "
   ]
  },
  {
   "cell_type": "markdown",
   "metadata": {},
   "source": [
    "The results of this analysis have implications in education, with clear relevance to policy makers, educators and students alike. Given that our analysis shows  a fairly strong relationship between the variables in question in this analysis and our model’s relatively high accuracy, this suggests a way for both students and educators alike to predict their knowledge level on a topic based on exam performance and study time. "
   ]
  },
  {
   "cell_type": "markdown",
   "metadata": {},
   "source": [
    "Investigating this research question —  as with most analyses and investigations —  brings up several other questions that are relevant to our initial problem. These include:  How can students more effectively improve their knowledge level on a given topic by optimizing study time? What other variables are key predictors of knowledge level on a topic? What study tools should educators emphasize in order to ensure the long-term learning of students? As well as many more which have the potential to influence the academic community.  "
   ]
  },
  {
   "cell_type": "markdown",
   "metadata": {},
   "source": [
    "## References"
   ]
  },
  {
   "cell_type": "markdown",
   "metadata": {},
   "source": [
    "Kesänen, Jukka, et al. *Knowledge Tests in Patient Education: A Systematic Review*,  Wiley Online Library, John Wiley & Sons, Ltd, 21 Nov. 2013, https://onlinelibrary.wiley.com/doi/10.1111/nhs.12097. \n",
    "\n",
    "Sireci, Stephen G. *NCME Presidential Address 2020: Valuing Educational Measurement.* Wiley Online Library, National Council on Measurement in Education, 4 Jan. 2020, https://onlinelibrary.wiley.com/doi/10.1111/emip.12415. \n",
    "\n",
    "H. T. Kahraman, Sagiroglu, S., Colak, I., *Developing intuitive knowledge classifier and modeling of users' domain dependent data in web*, Knowledge Based Systems, vol. 37, pp. 283-295, 2013.\n",
    "\n"
   ]
  },
  {
   "cell_type": "markdown",
   "metadata": {},
   "source": []
  }
 ],
 "metadata": {
  "interpreter": {
   "hash": "40d3a090f54c6569ab1632332b64b2c03c39dcf918b08424e98f38b5ae0af88f"
  },
  "kernelspec": {
   "display_name": "R",
   "language": "R",
   "name": "ir"
  },
  "language_info": {
   "codemirror_mode": "r",
   "file_extension": ".r",
   "mimetype": "text/x-r-source",
   "name": "R",
   "pygments_lexer": "r",
   "version": "4.0.0"
  }
 },
 "nbformat": 4,
 "nbformat_minor": 4
}
